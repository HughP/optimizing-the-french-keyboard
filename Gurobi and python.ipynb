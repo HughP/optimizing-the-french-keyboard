{
 "cells": [
  {
   "cell_type": "code",
   "execution_count": 1,
   "metadata": {
    "collapsed": true
   },
   "outputs": [],
   "source": [
    "from gurobipy import *"
   ]
  },
  {
   "cell_type": "markdown",
   "metadata": {},
   "source": [
    "# Data structures useful for modeling optimization problems\n",
    "\n",
    "### Tuples\n",
    "Good for multidimensional subscripts\n",
    "\n",
    "Cannot be modified after creation"
   ]
  },
  {
   "cell_type": "code",
   "execution_count": 2,
   "metadata": {
    "collapsed": true
   },
   "outputs": [],
   "source": [
    "arc = ('CHI', 'NYC')"
   ]
  },
  {
   "cell_type": "markdown",
   "metadata": {},
   "source": [
    "### Lists\n",
    "Ordered groups. Order will be maintaines\n",
    "\n",
    "Can be modified.\n",
    "\n",
    "Be aware of repeated elements"
   ]
  },
  {
   "cell_type": "code",
   "execution_count": 3,
   "metadata": {
    "collapsed": true
   },
   "outputs": [],
   "source": [
    "cities=['CHI', 'NYC', 'ATL', 'MIA']"
   ]
  },
  {
   "cell_type": "markdown",
   "metadata": {},
   "source": [
    "### Dictionary\n",
    "Representing indexed data"
   ]
  },
  {
   "cell_type": "code",
   "execution_count": 6,
   "metadata": {
    "collapsed": false
   },
   "outputs": [],
   "source": [
    "cost = {}\n",
    "cost[('CHI', 'NYC')] = 100"
   ]
  },
  {
   "cell_type": "markdown",
   "metadata": {},
   "source": [
    "### Tuplelist\n",
    "Gurobi extension of storing a list of tuples"
   ]
  },
  {
   "cell_type": "code",
   "execution_count": 8,
   "metadata": {
    "collapsed": true
   },
   "outputs": [],
   "source": [
    "arcs = tuplelist([\n",
    "      ('CHI', 'NYC'), ('CHI', 'ATL'), ('ATL', 'MIA'), ('ATL', 'NYC')  \n",
    "    ])"
   ]
  },
  {
   "cell_type": "markdown",
   "metadata": {},
   "source": [
    "the select() method finds matching subsets within the tuplelist, using efficient indexing"
   ]
  },
  {
   "cell_type": "code",
   "execution_count": 10,
   "metadata": {
    "collapsed": false
   },
   "outputs": [
    {
     "name": "stdout",
     "output_type": "stream",
     "text": [
      "[('CHI', 'NYC'), ('CHI', 'ATL')]\n"
     ]
    }
   ],
   "source": [
    "print arcs.select('CHI', '*')"
   ]
  },
  {
   "cell_type": "markdown",
   "metadata": {},
   "source": [
    "### Multidict\n",
    "A convenience function to initialize dictionaries and their indices at once.\n",
    "\n",
    "Outputs an index (a list of the keys), and dictionaries mapping key values to the values given in the list."
   ]
  },
  {
   "cell_type": "code",
   "execution_count": 15,
   "metadata": {
    "collapsed": true
   },
   "outputs": [],
   "source": [
    "cities, supply, demand = multidict({\n",
    "        'ATL': [100,20], \n",
    "        'CHI': [150, 50],\n",
    "        'NYC': [20,300], \n",
    "        'MIA': [10, 200]\n",
    "    })"
   ]
  },
  {
   "cell_type": "code",
   "execution_count": 16,
   "metadata": {
    "collapsed": false
   },
   "outputs": [
    {
     "data": {
      "text/plain": [
       "['MIA', 'CHI', 'ATL', 'NYC']"
      ]
     },
     "execution_count": 16,
     "metadata": {},
     "output_type": "execute_result"
    }
   ],
   "source": [
    "cities"
   ]
  },
  {
   "cell_type": "code",
   "execution_count": 17,
   "metadata": {
    "collapsed": false
   },
   "outputs": [
    {
     "data": {
      "text/plain": [
       "{'ATL': 100, 'CHI': 150, 'MIA': 10, 'NYC': 20}"
      ]
     },
     "execution_count": 17,
     "metadata": {},
     "output_type": "execute_result"
    }
   ],
   "source": [
    "supply"
   ]
  },
  {
   "cell_type": "code",
   "execution_count": 18,
   "metadata": {
    "collapsed": false
   },
   "outputs": [
    {
     "data": {
      "text/plain": [
       "{'ATL': 20, 'CHI': 50, 'MIA': 200, 'NYC': 300}"
      ]
     },
     "execution_count": 18,
     "metadata": {},
     "output_type": "execute_result"
    }
   ],
   "source": [
    "demand"
   ]
  },
  {
   "cell_type": "markdown",
   "metadata": {},
   "source": [
    "#### quicksum()\n",
    "The gurobi quicksum function provides a fast way to add up the costs (more efficient than sum()). The statement below corresponds to \n",
    "\n",
    "$ \\sum_{c\\in Cities} supply(c) - demand(c) $\n"
   ]
  },
  {
   "cell_type": "code",
   "execution_count": 19,
   "metadata": {
    "collapsed": false
   },
   "outputs": [
    {
     "data": {
      "text/plain": [
       "<gurobi.LinExpr: -290.0>"
      ]
     },
     "execution_count": 19,
     "metadata": {},
     "output_type": "execute_result"
    }
   ],
   "source": [
    "quicksum(supply[c] - demand[c] for c in cities)"
   ]
  },
  {
   "cell_type": "markdown",
   "metadata": {},
   "source": [
    "## Decision variables\n",
    "\n",
    "decision variables are represented in python as dictionaries. The keys of the decision variables are the indices which can be single or multidimensional. Multidimensional indices are represented with tuples. The values in the dictionary are then the decision variable objects. \n",
    "\n",
    "For example, binary decision variables $x_{ij}$ are represented as:\n",
    "\n",
    "Decision variables are added to a model via \n",
    "ref: <a href=\"https://www.gurobi.com/documentation/6.5/refman/py_model_addvar.html\"> Model.addVar()</a>\n",
    "Parameters of the constructor are:\n",
    "<ul>\n",
    "<li> lb: lower bound\n",
    "<li> ub: upper bound\n",
    "<li> obj: objective coefficient (?)\n",
    "<li> vtype: variable type, GRB.CONTINUOUS, BINARY, INTEGER; SEMICONT, SEMIINT\n",
    "<li> name\n",
    "</ul>"
   ]
  },
  {
   "cell_type": "code",
   "execution_count": 29,
   "metadata": {
    "collapsed": false
   },
   "outputs": [],
   "source": [
    "m = Model(\"test\")\n",
    "x = {}\n",
    "for i in range(0,5):\n",
    "    for j in range(0,4):        \n",
    "        x[(i,j)] = m.addVar(vtype=GRB.BINARY, name=\"x\"+str(i)+str(j))\n",
    "        \n",
    "#call update() method to explicitly add the variables to the model\n",
    "m.update()"
   ]
  },
  {
   "cell_type": "markdown",
   "metadata": {},
   "source": [
    "### Exploit sparsity in modeling:\n",
    "\n",
    "If you have multidimensional decision variables $x_{ij}$ with only few potentially valid assignments $ i \\rightarrow j$ then you can exploit this for faster performance (can have a huge impact!)\n",
    "<ol>\n",
    "<li> Use tuplelist to store the valid combinations\n",
    "    <code>\n",
    "    valid = tuplelist([('i1', 'j5'), ('i1', 'j7'), \n",
    "                        ('i2', 'j1'), ('i2', 'j7'), ...])</code>\n",
    "<li> then only create decision variable for valid combinations\n",
    "    <code> \n",
    "    x={}\n",
    "    for i,j in valid:\n",
    "        x[i,j] = m.addVar(vtype=GRB.BINARY)\n",
    "    </code>\n",
    "<li> Use the select function to efficiently iterate over valid combinations. For example for adding constraints. Only add constraints for valid combinations, using the select function:\n",
    "<code>\n",
    "    constraints = {}\n",
    "    for j in J:\n",
    "        constraint[j] = m.addConstr(\n",
    "            requirement[j] == quicksum(x[i,j] for i,j \n",
    "                                    in valid.select('*',j) )\n",
    "            )\n",
    "</code>\n",
    "</ol>"
   ]
  },
  {
   "cell_type": "markdown",
   "metadata": {},
   "source": [
    "# Implementation recommendations\n",
    "\n",
    "### Model / data separation in Python: \n",
    "\n",
    "Write the model inside a function and put to a separate file (module). Function takes as argument all input values needed and then handles the model creation, adding variables, constraints etc. Also allows to easily change the model, using the same input values, e.g. adding additional constraints.\n",
    "Data can come from any source, e.g. database, excel files, pandas dataframes etc. \n",
    "\n",
    "###  Model.update()\n",
    "Only call update function when necessary, to refrence new objects - variables, constraints, etc. That is, first create all variables and then call update. Then create constraints and then call update again."
   ]
  },
  {
   "cell_type": "markdown",
   "metadata": {},
   "source": [
    "# A simple example:\n",
    "Many examples available in gurobi installation folder, under \"examples/python\""
   ]
  },
  {
   "cell_type": "code",
   "execution_count": 25,
   "metadata": {
    "collapsed": false
   },
   "outputs": [
    {
     "name": "stdout",
     "output_type": "stream",
     "text": [
      "Optimize a model with 2 rows, 3 columns and 5 nonzeros\n",
      "Coefficient statistics:\n",
      "  Matrix range    [1e+00, 3e+00]\n",
      "  Objective range [1e+00, 2e+00]\n",
      "  Bounds range    [1e+00, 1e+00]\n",
      "  RHS range       [1e+00, 4e+00]\n",
      "Found heuristic solution: objective 2\n",
      "Presolve removed 2 rows and 3 columns\n",
      "Presolve time: 0.01s\n",
      "Presolve: All rows and columns removed\n",
      "\n",
      "Explored 0 nodes (0 simplex iterations) in 0.48 seconds\n",
      "Thread count was 1 (of 4 available processors)\n",
      "\n",
      "Optimal solution found (tolerance 1.00e-04)\n",
      "Best objective 3.000000000000e+00, best bound 3.000000000000e+00, gap 0.0%\n",
      "x 1\n",
      "y 0\n",
      "z 1\n",
      "Obj: 3\n"
     ]
    }
   ],
   "source": [
    "# Create a new model\n",
    "m = Model(\"mip1\")\n",
    "\n",
    "# Create variables\n",
    "x = m.addVar(vtype=GRB.BINARY, name=\"x\")\n",
    "y = m.addVar(vtype=GRB.BINARY, name=\"y\")\n",
    "z = m.addVar(vtype=GRB.BINARY, name=\"z\")\n",
    "\n",
    "# Integrate new variables\n",
    "m.update()\n",
    "\n",
    "# Set objective\n",
    "m.setObjective(x + y + 2 * z, GRB.MAXIMIZE)\n",
    "\n",
    "# Add constraint: x + 2 y + 3 z <= 4\n",
    "m.addConstr(x + 2 * y + 3 * z <= 4, \"c0\")\n",
    "\n",
    "# Add constraint: x + y >= 1\n",
    "m.addConstr(x + y >= 1, \"c1\")\n",
    "\n",
    "m.optimize()\n",
    "\n",
    "for v in m.getVars():\n",
    "    print('%s %g' % (v.varName, v.x))\n",
    "\n",
    "print('Obj: %g' % m.objVal)"
   ]
  },
  {
   "cell_type": "code",
   "execution_count": null,
   "metadata": {
    "collapsed": true
   },
   "outputs": [],
   "source": []
  }
 ],
 "metadata": {
  "kernelspec": {
   "display_name": "Python 2",
   "language": "python",
   "name": "python2"
  },
  "language_info": {
   "codemirror_mode": {
    "name": "ipython",
    "version": 2
   },
   "file_extension": ".py",
   "mimetype": "text/x-python",
   "name": "python",
   "nbconvert_exporter": "python",
   "pygments_lexer": "ipython2",
   "version": "2.7.11"
  }
 },
 "nbformat": 4,
 "nbformat_minor": 0
}
