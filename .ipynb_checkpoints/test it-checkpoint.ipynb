{
 "cells": [
  {
   "cell_type": "code",
   "execution_count": 1,
   "metadata": {
    "collapsed": false,
    "scrolled": false
   },
   "outputs": [
    {
     "name": "stdout",
     "output_type": "stream",
     "text": [
      "read in: characters, keyslots and letters\n",
      "read in: azerty letters and numbers\n",
      "read in: similarity values\n",
      "read in: distance values\n",
      "Done reading input values.\n"
     ]
    }
   ],
   "source": [
    "# -*- coding: utf-8 -*-\n",
    "from optimize import *\n",
    "from test_model import *\n",
    "from plotting import *\n",
    "%matplotlib inline\n",
    "PYTHONIOENCODING=\"utf-8\"\n",
    "\n",
    "level_cost = {u'':0, u'Shift':1, u'Alt':2, u'Alt_Shift':3}\n",
    "\n",
    "azerty,\\\n",
    "characters,\\\n",
    "keyslots,\\\n",
    "letters,\\\n",
    "p_single, p_bigram,\\\n",
    "performance,\\\n",
    "similarity_c_c, similarity_c_l,\\\n",
    "distance_level_0, distance_level_1,\\\n",
    "ergonomics\\\n",
    " = create_test_model(level_cost)\n",
    " \n",
    "\n"
   ]
  },
  {
   "cell_type": "code",
   "execution_count": null,
   "metadata": {
    "collapsed": true
   },
   "outputs": [],
   "source": []
  },
  {
   "cell_type": "code",
   "execution_count": null,
   "metadata": {
    "collapsed": false
   },
   "outputs": [],
   "source": []
  },
  {
   "cell_type": "code",
   "execution_count": null,
   "metadata": {
    "collapsed": false,
    "scrolled": false
   },
   "outputs": [],
   "source": [
    "w_p, w_a, w_f, w_e = [0.25, 0.25, 0.25, 0.25]\n",
    "\n",
    "\n",
    "model, mapping, x = solve_the_keyboard_Problem(w_p, w_a, w_f, w_e,\\\n",
    "                               azerty,\\\n",
    "                               characters,\\\n",
    "                               keyslots,\\\n",
    "                               letters,\\\n",
    "                               p_single, p_bigram,\\\n",
    "                               performance,\\\n",
    "                               similarity_c_c, similarity_c_l,\\\n",
    "                               distance_level_0, distance_level_1,\\\n",
    "                               ergonomics, quadratic=1)\n",
    "\n",
    "plot_mapping(mapping, plotname=\"mappings\\\\final.png\", azerty=azerty, letters=letters, objective=model.objVal,\\\n",
    "             a=model._A.getValue(), p=model._P.getValue(), f=model._F.getValue(), e=model._E.getValue(),\\\n",
    "            w_p=model._w_p, w_a=model._w_a, w_f=model._w_f, w_e=model._w_e)\n",
    "simple_mst_writer(model, \"mappings\\\\final.mst\", -1, model.objVal)"
   ]
  },
  {
   "cell_type": "code",
   "execution_count": null,
   "metadata": {
    "collapsed": false
   },
   "outputs": [],
   "source": []
  },
  {
   "cell_type": "code",
   "execution_count": 7,
   "metadata": {
    "collapsed": false
   },
   "outputs": [],
   "source": [
    "df = pd.DataFrame()\n",
    "df = df.from_dict(mapping, orient=\"index\")\n",
    "df.to_csv(path, sep=str(\"\\t\"), quoting=3, encoding=\"utf-8\")\n"
   ]
  },
  {
   "cell_type": "code",
   "execution_count": 1,
   "metadata": {
    "collapsed": false
   },
   "outputs": [
    {
     "name": "stderr",
     "output_type": "stream",
     "text": [
      "C:\\Users\\feita1\\Python_Anaconda\\lib\\site-packages\\matplotlib\\__init__.py:872: UserWarning: axes.color_cycle is deprecated and replaced with axes.prop_cycle; please use the latter.\n",
      "  warnings.warn(self.msg_depr % (key, alt_key))\n"
     ]
    }
   ],
   "source": [
    "from plotting import *\n",
    "mapping = {1:\"a\"}\n",
    "path = \"test.csv\"\n",
    "log_mapping(mapping, path)"
   ]
  },
  {
   "cell_type": "code",
   "execution_count": null,
   "metadata": {
    "collapsed": false
   },
   "outputs": [],
   "source": [
    "model"
   ]
  },
  {
   "cell_type": "code",
   "execution_count": null,
   "metadata": {
    "collapsed": false
   },
   "outputs": [],
   "source": [
    "import random\n",
    "\n",
    "p_single = {character: random.random()*float(1)/len(all_chars) for character in all_chars}\n",
    "p_bigram = {(c1,c2): random.random()*float(1)/(len(all_chars) * len(all_chars) )for c1 in all_chars for c2 in all_chars}\n",
    "\n",
    "#Ergonomics (c, l)-> e\n",
    "#TODO    \n",
    "ergonomics = {}\n",
    "for s in keyslots:\n",
    "    for l in letters:\n",
    "        ergonomics[(s,azerty[l])]= random.random()\n",
    "        ergonomics[(azerty[l],s)]= random.random()\n",
    "\n",
    "#Performance: (key, letter)->t\n",
    "#TODO\n",
    "performance = {}\n",
    "for s in keyslots:\n",
    "    for l in letters:\n",
    "        performance[(s,azerty[l])]= random.random()*0.2 \n",
    "        performance[(azerty[l],s)]= random.random()*0.2 \n",
    "        if s[4:] == \"Shift\":\n",
    "            performance[(s,azerty[l])]+= 0.1 \n",
    "            performance[(azerty[l],s)]+= 0.1\n",
    "        if s[4:] == \"Alt\":\n",
    "            performance[(s,azerty[l])]+= 0.2 \n",
    "            performance[(azerty[l],s)]+= 0.2\n",
    "        if s[4:] == \"Alt_Shift\":\n",
    "            performance[(s,azerty[l])]+= 0.3 \n",
    "            performance[(azerty[l],s)]+= 0.3\n"
   ]
  },
  {
   "cell_type": "code",
   "execution_count": null,
   "metadata": {
    "collapsed": true
   },
   "outputs": [],
   "source": []
  }
 ],
 "metadata": {
  "kernelspec": {
   "display_name": "Python 2",
   "language": "python",
   "name": "python2"
  },
  "language_info": {
   "codemirror_mode": {
    "name": "ipython",
    "version": 2
   },
   "file_extension": ".py",
   "mimetype": "text/x-python",
   "name": "python",
   "nbconvert_exporter": "python",
   "pygments_lexer": "ipython2",
   "version": "2.7.11"
  }
 },
 "nbformat": 4,
 "nbformat_minor": 0
}
