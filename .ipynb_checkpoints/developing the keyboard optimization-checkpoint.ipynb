{
 "cells": [
  {
   "cell_type": "code",
   "execution_count": 1,
   "metadata": {
    "collapsed": true
   },
   "outputs": [],
   "source": [
    "#!/usr/bin/env python\n",
    "# -*- coding: utf-8 -*-\n",
    "from gurobipy import *"
   ]
  },
  {
   "cell_type": "markdown",
   "metadata": {},
   "source": [
    "### Model the problem \n",
    "\n",
    "Given a set of characters and a set of keyslots we have binary decision variables $x_{cs}$ which are 1 if a character c is assigned to a slot s.\n",
    "Any combination is possible. \n",
    "\n",
    "In addition to the to-be-assigned characters, we have fixed letters. Those are important for the cost functions. For example we care about how long it takes to move from one of the fixed letters / keys to one of the keyslots."
   ]
  },
  {
   "cell_type": "code",
   "execution_count": 2,
   "metadata": {
    "collapsed": false
   },
   "outputs": [],
   "source": [
    "def solve_the_keyboard_Problem(characters, keyslots, letters):\n",
    "    #Test some stuff in advance to avoid infeasbility:\n",
    "    if len(characters) > len(keyslots):\n",
    "        print \"Error: more characters than keyslots\"\n",
    "        return\n",
    "    \n",
    "    m = Model(\"keyboard_layout\")\n",
    "    \n",
    "    #add decision variables\n",
    "    x = {}\n",
    "    for c in characters:\n",
    "        for s in keyslots:\n",
    "            x[c,s] = m.addVar(vtype=GRB.BINARY, name=c+\"_\"+str(s))\n",
    "            \n",
    "    m.update()\n",
    "    \n",
    "    def performance():\n",
    "        return 0\n",
    "        \n",
    "    def association():\n",
    "        return 0\n",
    "        \n",
    "    def familiarity():\n",
    "        return 0\n",
    "        \n",
    "    def ergonomics():\n",
    "        return 0\n",
    "        \n",
    "    # Set objective\n",
    "    m.setObjective(performance() +\\\n",
    "                   association() +\\\n",
    "                   familiarity ()+\\\n",
    "                   ergonomics(),\\\n",
    "                   GRB.MINIMIZE)\n",
    "    m.update()\n",
    "    \n",
    "    #add the constraints. One for each character, one for each keyslot\n",
    "    for c in characters:\n",
    "        m.addConstr(quicksum(x[c,s] for s in keyslots) == 1, \"characters must be mapped\")\n",
    "        \n",
    "    for s in keyslots:\n",
    "        m.addConstr(quicksum(x[c,s] for c in characters) <= 1, \"keyslots cann be asigned at most once\")\n",
    "    \n",
    "    m.update()\n",
    "    \n",
    "    m.optimize()\n",
    "    \n",
    "    print \"done\"\n",
    "    #Print the solution\n",
    "    for v in m.getVars():\n",
    "        print('%s %g' % (v.varName, v.x))\n",
    "\n",
    "    print('Obj: %g' % m.objVal)\n",
    "    \n",
    "    #return the model with the fixed solution\n",
    "    return m.fixed()"
   ]
  },
  {
   "cell_type": "markdown",
   "metadata": {},
   "source": [
    "### Create the input values"
   ]
  },
  {
   "cell_type": "code",
   "execution_count": null,
   "metadata": {
    "collapsed": true
   },
   "outputs": [],
   "source": [
    "characters = [\"'\", '\"', '.']\n",
    "keyslots = [1,2,3,4,5,6,7,8]\n",
    "letters = [\"a\", \"b\", \"c\"]"
   ]
  },
  {
   "cell_type": "markdown",
   "metadata": {},
   "source": [
    "### Optimize"
   ]
  },
  {
   "cell_type": "code",
   "execution_count": null,
   "metadata": {
    "collapsed": false
   },
   "outputs": [],
   "source": [
    "m = solve_the_keyboard_Problem(characters, keyslots, letters)"
   ]
  },
  {
   "cell_type": "code",
   "execution_count": 3,
   "metadata": {
    "collapsed": false,
    "scrolled": true
   },
   "outputs": [],
   "source": [
    "print \"a\""
   ]
  },
  {
   "cell_type": "code",
   "execution_count": null,
   "metadata": {
    "collapsed": false
   },
   "outputs": [],
   "source": [
    "\n",
    "\n"
   ]
  },
  {
   "cell_type": "code",
   "execution_count": null,
   "metadata": {
    "collapsed": false
   },
   "outputs": [],
   "source": []
  },
  {
   "cell_type": "markdown",
   "metadata": {},
   "source": [
    "# Note:\n",
    "how to encode properly to utf-8 such that you can write it to file:"
   ]
  },
  {
   "cell_type": "code",
   "execution_count": 28,
   "metadata": {
    "collapsed": true
   },
   "outputs": [],
   "source": [
    "foo = u'Δ, Й, ק, ‎ م, ๗, あ, 叶, 葉, and 말.'\n",
    "f = open('test', 'w')\n",
    "f.write(foo.encode('utf8'))\n",
    "f.close()"
   ]
  },
  {
   "cell_type": "code",
   "execution_count": null,
   "metadata": {
    "collapsed": true
   },
   "outputs": [],
   "source": []
  }
 ],
 "metadata": {
  "kernelspec": {
   "display_name": "Python 2",
   "language": "python",
   "name": "python2"
  },
  "language_info": {
   "codemirror_mode": {
    "name": "ipython",
    "version": 2
   },
   "file_extension": ".py",
   "mimetype": "text/x-python",
   "name": "python",
   "nbconvert_exporter": "python",
   "pygments_lexer": "ipython2",
   "version": "2.7.11"
  }
 },
 "nbformat": 4,
 "nbformat_minor": 0
}
