{
 "cells": [
  {
   "cell_type": "markdown",
   "metadata": {},
   "source": [
    "# Frequency input\n",
    "Put together the letter and bigram frequency files based on the data that comes from Mathieu. Distributes the frequency of combined characters that are not in the to-be-mapped character set of the scenario and filters out characters that are irrelevant."
   ]
  },
  {
   "cell_type": "code",
   "execution_count": 1,
   "metadata": {
    "collapsed": false
   },
   "outputs": [],
   "source": [
    "from read_input import *\n",
    "import codecs"
   ]
  },
  {
   "cell_type": "code",
   "execution_count": 2,
   "metadata": {
    "collapsed": false,
    "scrolled": true
   },
   "outputs": [
    {
     "name": "stdout",
     "output_type": "stream",
     "text": [
      "[u'\\xe6', u'\\xc6', u'\\u0153', u'\\u0152', u'\\xdf', u'\\u1e9e', u'\\xfe', u'\\xde', u'\\xf0', u'\\xd0', u'\\u014b', u'\\u014a', u'\\u0133', u'\\u0132', u'\\u01dd', u'\\u018e', u'\\u0292', u'\\u01b7', u'&', u'\\u03b82', u'\\xae', u'\\xa9', u'\\u017f', u'\\xba', u'\\xaa', u'\\xb7', u'\\xb4d', u'\\u02cbd', u'^d', u'\\xa8d', u'\\u02c9d', u'_d', u'\\u02d8d', u'\\u0311d', u'\\u02c7d', u'~d', u'\\u02d9d', u'.d', u'\\xb0d', u'\\u02ddd', u'\\u02f5d', u'\\xb8d', u'\\u02dbd', u',d', u'-d', u'/d', u'\\u0131', u'\\u0130', u'+', u'<', u'>', u'=', u'\\xb1', u'\\xd7', u'\\xf7', u'\\u2264', u'\\u2265', u'\\u2260', u'\\u2243', u'\\xb0', u'%', u'\\u2030', u'\\u221a', u'\\u221e', u'\\xbc', u'\\xbd', u'\\xbe', u'@', u'#', u'/', u'\\\\', u'|', u'.', u',', u';', u':', u'!', u'?', u'\\xa1', u'\\xbf', u'\\u2026', u'-', u'\\u2011', u'\\u2014', u'\\u2013', u'_', u'*', u'\\u2020', u'\\u2021', u'\\xa7', u'(', u')', u'[', u']', u'{', u'}', u'\\u201c', u'\\u201d', u'\\u2018', u'\\u2019', u'\\xab', u'\\xbb', u'\\u201a', u'\\u201e', u'\\u2039', u'\\u203a', u'$', u'\\xa3', u'\\xa2', u'\\xa4', u'\\xa5', u'\\u20a9', u'\\xe9', u'\\xe8', u'\\xe0', u'\\xf9', u'\\xc9', u'\\xc8', u'\\xc0', u'\\xe7', u'\\xc7', u'a', u'b', u'c', u'd', u'e', u'f', u'g', u'h', u'i', u'j', u'k', u'l', u'm', u'n', u'o', u'p', u'q', u'r', u's', u't', u'u', u'v', u'w', u'x', u'y', u'z', u'space']\n",
      "No frequency for ª\n",
      "No frequency for ‘\n",
      "No frequency for -d\n",
      "No frequency for £\n",
      "No frequency for §\n",
      "No frequency for «\n",
      "No frequency for ‰\n",
      "No frequency for Ĳ\n",
      "No frequency for ·\n",
      "No frequency for »\n",
      "No frequency for _d\n",
      "No frequency for ¿\n",
      "No frequency for Ç\n",
      "No frequency for Ŋ\n",
      "No frequency for ¸d\n",
      "No frequency for Œ\n",
      "No frequency for ×\n",
      "No frequency for ǝ\n",
      "No frequency for ß\n",
      "No frequency for ≤\n",
      "No frequency for ≠\n",
      "No frequency for ˝d\n",
      "No frequency for ç\n",
      "No frequency for ÷\n",
      "No frequency for Ǝ\n",
      "No frequency for ₩\n",
      "No frequency for ‚\n",
      "No frequency for ¤\n",
      "No frequency for ı\n",
      "No frequency for °\n",
      "No frequency for „\n",
      "No frequency for ¼\n",
      "No frequency for À\n",
      "No frequency for ≃\n",
      "No frequency for °d\n",
      "No frequency for †\n",
      "No frequency for È\n",
      "No frequency for Ð\n",
      "No frequency for à\n",
      "No frequency for è\n",
      "No frequency for ˘d\n",
      "No frequency for ˉd\n",
      "No frequency for ð\n",
      "No frequency for ˙d\n",
      "No frequency for θ2\n",
      "No frequency for √\n",
      "No frequency for ¡\n",
      "No frequency for ¥\n",
      "No frequency for ©\n",
      "No frequency for ±\n",
      "No frequency for İ\n",
      "No frequency for Ʒ\n",
      "No frequency for ½\n",
      "No frequency for É\n",
      "No frequency for .d\n",
      "No frequency for ‑\n",
      "No frequency for ʒ\n",
      "No frequency for ̑d\n",
      "No frequency for ’\n",
      "No frequency for ẞ\n",
      "No frequency for ¢\n",
      "No frequency for /d\n",
      "No frequency for ®\n",
      "No frequency for ĳ\n",
      "No frequency for ˛d\n",
      "No frequency for ‹\n",
      "No frequency for º\n",
      "No frequency for ¾\n",
      "No frequency for ‡\n",
      "No frequency for Æ\n",
      "No frequency for ŋ\n",
      "No frequency for œ\n",
      "No frequency for Þ\n",
      "No frequency for ,d\n",
      "No frequency for ≥\n",
      "No frequency for æ\n",
      "No frequency for ˵d\n",
      "No frequency for ſ\n",
      "No frequency for þ\n",
      "[u'\\xe6', u'\\xc6', u'\\u0153', u'\\u0152', u'\\xdf', u'\\u1e9e', u'\\xfe', u'\\xde', u'\\xf0', u'\\xd0', u'\\u014b', u'\\u014a', u'\\u0133', u'\\u0132', u'\\u01dd', u'\\u018e', u'\\u0292', u'\\u01b7', u'&', u'\\u03b82', u'\\xae', u'\\xa9', u'\\u017f', u'\\xba', u'\\xaa', u'\\xb7', u'\\xb4d', u'\\u02cbd', u'^d', u'\\xa8d', u'\\u02c9d', u'_d', u'\\u02d8d', u'\\u0311d', u'\\u02c7d', u'~d', u'\\u02d9d', u'.d', u'\\xb0d', u'\\u02ddd', u'\\u02f5d', u'\\xb8d', u'\\u02dbd', u',d', u'-d', u'/d', u'\\u0131', u'\\u0130', u'+', u'<', u'>', u'=', u'\\xb1', u'\\xd7', u'\\xf7', u'\\u2264', u'\\u2265', u'\\u2260', u'\\u2243', u'\\xb0', u'%', u'\\u2030', u'\\u221a', u'\\u221e', u'\\xbc', u'\\xbd', u'\\xbe', u'@', u'#', u'/', u'\\\\', u'|', u'.', u',', u';', u':', u'!', u'?', u'\\xa1', u'\\xbf', u'\\u2026', u'-', u'\\u2011', u'\\u2014', u'\\u2013', u'_', u'*', u'\\u2020', u'\\u2021', u'\\xa7', u'(', u')', u'[', u']', u'{', u'}', u'\\u201c', u'\\u201d', u'\\u2018', u'\\u2019', u'\\xab', u'\\xbb', u'\\u201a', u'\\u201e', u'\\u2039', u'\\u203a', u'$', u'\\xa3', u'\\xa2', u'\\xa4', u'\\xa5', u'\\u20a9', u'\\xe9', u'\\xe8', u'\\xe0', u'\\xf9', u'\\xc9', u'\\xc8', u'\\xc0', u'\\xe7', u'\\xc7', u'a', u'b', u'c', u'd', u'e', u'f', u'g', u'h', u'i', u'j', u'k', u'l', u'm', u'n', u'o', u'p', u'q', u'r', u's', u't', u'u', u'v', u'w', u'x', u'y', u'z', u'space']\n"
     ]
    },
    {
     "ename": "KeyboardInterrupt",
     "evalue": "",
     "output_type": "error",
     "traceback": [
      "\u001b[1;31m---------------------------------------------------------------------------\u001b[0m",
      "\u001b[1;31mKeyboardInterrupt\u001b[0m                         Traceback (most recent call last)",
      "\u001b[1;32m<ipython-input-2-a60b3b6bee12>\u001b[0m in \u001b[0;36m<module>\u001b[1;34m()\u001b[0m\n\u001b[0;32m     12\u001b[0m \u001b[0mletter_file\u001b[0m \u001b[1;33m=\u001b[0m \u001b[1;34m\"input/resources/Code_all_Avg_freqs_1.tsv\"\u001b[0m\u001b[1;33m\u001b[0m\u001b[0m\n\u001b[0;32m     13\u001b[0m \u001b[0mbigram_file\u001b[0m \u001b[1;33m=\u001b[0m \u001b[1;34m\"input/resources/Code_all_Avg_freqs_2.tsv\"\u001b[0m\u001b[1;33m\u001b[0m\u001b[0m\n\u001b[1;32m---> 14\u001b[1;33m \u001b[0mderive_probabilities_from_raw_values\u001b[0m\u001b[1;33m(\u001b[0m\u001b[0mletter_file\u001b[0m\u001b[1;33m,\u001b[0m \u001b[0mbigram_file\u001b[0m\u001b[1;33m,\u001b[0m \u001b[0mscenario\u001b[0m\u001b[1;33m,\u001b[0m \u001b[1;34m\"_code\"\u001b[0m\u001b[1;33m)\u001b[0m\u001b[1;33m\u001b[0m\u001b[0m\n\u001b[0m\u001b[0;32m     15\u001b[0m \u001b[1;33m\u001b[0m\u001b[0m\n\u001b[0;32m     16\u001b[0m \u001b[0mletter_file\u001b[0m \u001b[1;33m=\u001b[0m \u001b[1;34m\"input/resources/Twitter_all_Avg_freqs_1.tsv\"\u001b[0m\u001b[1;33m\u001b[0m\u001b[0m\n",
      "\u001b[1;32mC:\\LocalUserData\\User-data\\feita1\\Uni\\PhD\\Projects\\French keyboard\\Optimization\\optimizing-the-french-keyboard\\read_input.py\u001b[0m in \u001b[0;36mderive_probabilities_from_raw_values\u001b[1;34m(letter_file, bigram_file, scenario, name_addition)\u001b[0m\n\u001b[0;32m    360\u001b[0m                 \u001b[1;31m#it's a single form of the diacritic mark, e.g. ~, which needs to be produced by the bigram ~ + space\u001b[0m\u001b[1;33m\u001b[0m\u001b[1;33m\u001b[0m\u001b[0m\n\u001b[0;32m    361\u001b[0m                 \u001b[0mdiacritic\u001b[0m \u001b[1;33m=\u001b[0m \u001b[0municode_diacritic\u001b[0m\u001b[1;33m[\u001b[0m\u001b[0mdiacritic_unicode\u001b[0m\u001b[1;33m[\u001b[0m\u001b[0mc1\u001b[0m\u001b[1;33m]\u001b[0m\u001b[1;33m]\u001b[0m \u001b[1;31m#get the right diacritic\u001b[0m\u001b[1;33m\u001b[0m\u001b[0m\n\u001b[1;32m--> 362\u001b[1;33m                 \u001b[0mp_bigrams\u001b[0m\u001b[1;33m[\u001b[0m\u001b[1;33m(\u001b[0m\u001b[0mdiacritic\u001b[0m\u001b[1;33m,\u001b[0m \u001b[1;34m\"space\"\u001b[0m\u001b[1;33m)\u001b[0m\u001b[1;33m]\u001b[0m \u001b[1;33m+=\u001b[0m \u001b[0mv\u001b[0m\u001b[1;33m\u001b[0m\u001b[0m\n\u001b[0m\u001b[0;32m    363\u001b[0m \u001b[1;33m\u001b[0m\u001b[0m\n\u001b[0;32m    364\u001b[0m                 \u001b[1;31m#test the same for c2\u001b[0m\u001b[1;33m\u001b[0m\u001b[1;33m\u001b[0m\u001b[0m\n",
      "\u001b[1;31mKeyboardInterrupt\u001b[0m: "
     ]
    }
   ],
   "source": [
    "\n",
    "\n",
    "\n",
    "\n",
    "#scenario=\"scenario1\"\n",
    "#derive_probabilities_from_raw_values(letter_file, bigram_file, scenario)\n",
    "\n",
    "#scenario=\"scenario2\"\n",
    "#derive_probabilities_from_raw_values(letter_file, bigram_file, scenario)\n",
    "\n",
    "scenario=\"scenario3\"\n",
    "letter_file = \"input/resources/Code_all_Avg_freqs_1.tsv\"\n",
    "bigram_file = \"input/resources/Code_all_Avg_freqs_2.tsv\"\n",
    "derive_probabilities_from_raw_values(letter_file, bigram_file, scenario, \"_code\")\n",
    "\n",
    "letter_file = \"input/resources/Twitter_all_Avg_freqs_1.tsv\"\n",
    "bigram_file = \"input/resources/Twitter_all_Avg_freqs_2.tsv\"\n",
    "derive_probabilities_from_raw_values(letter_file, bigram_file, scenario, \"_twitter\")\n",
    "\n",
    "letter_file = \"input/resources/Formals_all_Avg_freqs_1.tsv\"\n",
    "bigram_file = \"input/resources/Formals_all_Avg_freqs_2.tsv\"\n",
    "derive_probabilities_from_raw_values(letter_file, bigram_file, scenario, \"_formal\")\n",
    "\n"
   ]
  },
  {
   "cell_type": "markdown",
   "metadata": {
    "collapsed": false
   },
   "source": [
    "# Distances"
   ]
  },
  {
   "cell_type": "code",
   "execution_count": 5,
   "metadata": {
    "collapsed": false
   },
   "outputs": [],
   "source": [
    "level_cost = {u'':0, u'Shift':1, u'Alt':2, u'Alt_Shift':3}\n",
    "\n",
    "distance0, distance1 = read_distance_matrix(level_cost, recompute=0)\n",
    "lines = [\"%s %s %f\\n\"%(k1,k2,d) for (k1,k2), d in distance0.iteritems()]\n",
    "with codecs.open(\"input\\\\distance0.txt\", 'w', encoding=\"utf-8\") as f:\n",
    "    f.writelines(lines)\n",
    "    \n",
    "lines = [\"%s %s %f\\n\"%(k1,k2,d) for (k1,k2), d in distance1.iteritems()]\n",
    "with codecs.open(\"input\\\\distance1.txt\", 'w', encoding=\"utf-8\") as f:\n",
    "    f.writelines(lines)"
   ]
  },
  {
   "cell_type": "code",
   "execution_count": null,
   "metadata": {
    "collapsed": false
   },
   "outputs": [],
   "source": []
  },
  {
   "cell_type": "code",
   "execution_count": null,
   "metadata": {
    "collapsed": false
   },
   "outputs": [],
   "source": []
  },
  {
   "cell_type": "code",
   "execution_count": null,
   "metadata": {
    "collapsed": true
   },
   "outputs": [],
   "source": []
  }
 ],
 "metadata": {
  "kernelspec": {
   "display_name": "Python 2",
   "language": "python",
   "name": "python2"
  },
  "language_info": {
   "codemirror_mode": {
    "name": "ipython",
    "version": 2
   },
   "file_extension": ".py",
   "mimetype": "text/x-python",
   "name": "python",
   "nbconvert_exporter": "python",
   "pygments_lexer": "ipython2",
   "version": "2.7.11"
  }
 },
 "nbformat": 4,
 "nbformat_minor": 0
}
