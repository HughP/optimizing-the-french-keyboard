{
 "cells": [
  {
   "cell_type": "markdown",
   "metadata": {},
   "source": [
    "# Frequency input\n",
    "Put together the letter and bigram frequency files based on the data that comes from Mathieu. Distributes the frequency of combined characters that are not in the to-be-mapped character set of the scenario and filters out characters that are irrelevant."
   ]
  },
  {
   "cell_type": "code",
   "execution_count": 1,
   "metadata": {
    "collapsed": false
   },
   "outputs": [
    {
     "ename": "NameError",
     "evalue": "name 'characters' is not defined",
     "output_type": "error",
     "traceback": [
      "\u001b[1;31m---------------------------------------------------------------------------\u001b[0m",
      "\u001b[1;31mNameError\u001b[0m                                 Traceback (most recent call last)",
      "\u001b[1;32m<ipython-input-1-3d64178e94d0>\u001b[0m in \u001b[0;36m<module>\u001b[1;34m()\u001b[0m\n\u001b[0;32m      7\u001b[0m \u001b[1;33m\u001b[0m\u001b[0m\n\u001b[0;32m      8\u001b[0m \u001b[0mscenario\u001b[0m\u001b[1;33m=\u001b[0m\u001b[1;34m\"_scenario1\"\u001b[0m\u001b[1;33m\u001b[0m\u001b[0m\n\u001b[1;32m----> 9\u001b[1;33m \u001b[0mall_chars\u001b[0m \u001b[1;33m=\u001b[0m \u001b[0mcharacters\u001b[0m\u001b[1;33m(\u001b[0m\u001b[1;34m'input/characters'\u001b[0m\u001b[1;33m+\u001b[0m\u001b[0mscenario\u001b[0m\u001b[1;33m+\u001b[0m\u001b[1;34m'.txt'\u001b[0m\u001b[1;33m)\u001b[0m\u001b[1;33m\u001b[0m\u001b[0m\n\u001b[0m\u001b[0;32m     10\u001b[0m \u001b[0mall_chars\u001b[0m \u001b[1;33m=\u001b[0m \u001b[0mletters\u001b[0m \u001b[1;33m+\u001b[0m \u001b[0mall_chars\u001b[0m\u001b[1;33m\u001b[0m\u001b[0m\n\u001b[0;32m     11\u001b[0m \u001b[0moutput_letters\u001b[0m \u001b[1;33m=\u001b[0m \u001b[1;34m\"input/resources/frequency_letters\"\u001b[0m\u001b[1;33m+\u001b[0m\u001b[0mscenario\u001b[0m\u001b[1;33m+\u001b[0m\u001b[1;34m'.txt'\u001b[0m\u001b[1;33m\u001b[0m\u001b[0m\n",
      "\u001b[1;31mNameError\u001b[0m: name 'characters' is not defined"
     ]
    }
   ],
   "source": [
    "from read_input import *\n",
    "import codecs\n",
    "\n",
    "letter_file = \"input/resources/frequency_letters_mathieu.txt\"\n",
    "bigram_file = \"input/resources/frequency_bigrams_mathieu.txt\"\n",
    "letters = get_letters()\n",
    "\n",
    "scenario=\"_scenario1\"\n",
    "output_letters = \"input/resources/frequency_letters\"+scenario+'.txt'\n",
    "output_bigrams = \"input/resources/frequency_bigrams\"+scenario+'.txt'\n",
    "derive_probabilities_from_raw_values(letter_file, bigram_file, scenario)\n",
    "\n",
    "scenario=\"_scenario2\"\n",
    "output_letters = \"input/resources/frequency_letters\"+scenario+'.txt'\n",
    "output_bigrams = \"input/resources/frequency_bigrams\"+scenario+'.txt'\n",
    "derive_probabilities_from_raw_values(letter_file, bigram_file, scenario)\n",
    "\n",
    "scenario=\"_scenario3\"\n",
    "output_letters = \"input/resources/frequency_letters\"+scenario+'.txt'\n",
    "output_bigrams = \"input/resources/frequency_bigrams\"+scenario+'.txt'\n",
    "derive_probabilities_from_raw_values(letter_file, bigram_file, scenario)"
   ]
  },
  {
   "cell_type": "code",
   "execution_count": null,
   "metadata": {
    "collapsed": true
   },
   "outputs": [],
   "source": []
  }
 ],
 "metadata": {
  "kernelspec": {
   "display_name": "Python 2",
   "language": "python",
   "name": "python2"
  },
  "language_info": {
   "codemirror_mode": {
    "name": "ipython",
    "version": 2
   },
   "file_extension": ".py",
   "mimetype": "text/x-python",
   "name": "python",
   "nbconvert_exporter": "python",
   "pygments_lexer": "ipython2",
   "version": "2.7.11"
  }
 },
 "nbformat": 4,
 "nbformat_minor": 0
}
