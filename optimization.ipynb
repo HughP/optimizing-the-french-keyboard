{
 "cells": [
  {
   "cell_type": "code",
   "execution_count": 1,
   "metadata": {
    "collapsed": false
   },
   "outputs": [
    {
     "name": "stderr",
     "output_type": "stream",
     "text": [
      "C:\\Users\\feita1\\Python_Anaconda\\lib\\site-packages\\matplotlib\\__init__.py:872: UserWarning: axes.color_cycle is deprecated and replaced with axes.prop_cycle; please use the latter.\n",
      "  warnings.warn(self.msg_depr % (key, alt_key))\n"
     ]
    }
   ],
   "source": [
    "from objectives import * \n",
    "from read_input import *\n",
    "from plotting import *\n",
    "from reformulation_input import *\n",
    "from evaluate_reformualtion_solution import * \n",
    "from optimize import *\n",
    "\n",
    "PYTHONIOENCODING=\"utf-8\"\n",
    "\n",
    "set_scenario_files(\"scenario3a\")\n",
    "\n",
    "w_p, w_a, w_f, w_e =  [0.25,0.25,0.25,0.25]\n",
    "corpus_weights = {'formal':0.5, 'twitter':0.3, 'code':0.2}"
   ]
  },
  {
   "cell_type": "code",
   "execution_count": 2,
   "metadata": {
    "collapsed": false,
    "scrolled": true
   },
   "outputs": [
    {
     "name": "stdout",
     "output_type": "stream",
     "text": [
      "read in: characters, keyslots and letters\n",
      "read in: similarity values\n",
      "read in: distance values\n",
      "weighting corpora\n",
      "weighting corpora\n",
      "weighting corpora\n",
      "Done reading input values.\n",
      "Done.\n"
     ]
    }
   ],
   "source": [
    "\n",
    "create_reformulation_input(w_p, w_a, w_f, w_e, corpus_weights, \"scenario3a_binary\",\n",
    "                           quadratic=1)\n",
    "#mapping = solve_the_keyboard_Problem(w_p, w_a, w_f, w_e, corpus_weights, \n",
    "#                     quadratic=0, capitalization_constraints=0, name=\"3_perf\")\n",
    "#mapping = solve_the_keyboard_Problem(w_p, w_a, w_f, w_e, corpus_weights, quadratic=0, capitalization_constraints=1, name=\"3a_perf_capital\")\n",
    "#model = optimize_reformulation(\"reformulation\\\\reformulation_scenario3_ass.lp\")\n",
    "#w_p, w_a, w_f, w_e = [0.25,0.25,0.25,0.25]\n",
    "#mapping = solve_the_keyboard_Problem(w_p, w_a, w_f, w_e, corpus_weights, quadratic=0, capitalization_constraints=0, name=\"3a_even\")\n",
    "#mapping = solve_the_keyboard_Problem(w_p, w_a, w_f, w_e, corpus_weights, quadratic=0, capitalization_constraints=1, name=\"3a_even_capital\")"
   ]
  },
  {
   "cell_type": "code",
   "execution_count": 7,
   "metadata": {
    "collapsed": false,
    "scrolled": true
   },
   "outputs": [
    {
     "name": "stdout",
     "output_type": "stream",
     "text": [
      "mappings/solution_3_even.mst\n",
      "read in: characters, keyslots and letters\n",
      "read in: similarity values\n",
      "read in: distance values\n",
      "weighting corpora\n",
      "weighting corpora\n",
      "weighting corpora\n",
      "Done reading input values.\n",
      "·: 0.111112\n",
      "ç: 0.023911\n",
      "#: 0.028235\n",
      "ı: 0.029597\n",
      "à: 0.047533\n",
      "è: 0.084744\n",
      "é: 0.094145\n",
      "¢: 0.013122\n",
      "º: 0.040160\n",
      "ŋ: 0.024014\n",
      "æ: 0.045453\n",
      "ſ: 0.021106\n",
      "linear Association: 0.5631\n",
      "., ·: 0.052575\n",
      "-, -d: 0.017496\n",
      "÷, ×: 0.000022\n",
      "˘d, ˇd: 0.000034\n",
      "(, ): 0.036122\n",
      ",, ;: 0.049079\n",
      "˝d, ˵d: 0.000005\n",
      "«, »: 0.002984\n",
      "´d, é: 0.054685\n",
      "˘d, ˉd: 0.000093\n",
      ";, :: 0.041943\n",
      "¸d, ç: 0.001469\n",
      "½, ¼: 0.000002\n",
      "?, ¿: 0.001260\n",
      "-, +: 0.019747\n",
      "ˉd, _d: 0.000024\n",
      "ˋd, è: 0.007251\n",
      "·, ×: 0.000166\n",
      "ˋd, ù: 0.001795\n",
      "{, }: 0.009469\n",
      "[, ]: 0.005255\n",
      "˘d, ̑d: 0.000007\n",
      "´d, ˋd: 0.000458\n",
      "‚, „: 0.000002\n",
      "İ, ı: 0.000002\n",
      "¸d, ˛d: 0.000033\n",
      "-, —: 0.017761\n",
      "˙d, .d: 0.000016\n",
      "“, ”: 0.000076\n",
      "+, ±: 0.013520\n",
      "ˋd, à: 0.031705\n",
      "¼, ¾: 0.000001\n",
      "^d, ˋd: 0.044106\n",
      "quadratic Association: 0.4092\n"
     ]
    }
   ],
   "source": [
    "path = \"mappings/solution_3_even.mst\"\n",
    "plot_mapping(path, plotname=path+\".png\", w_p=w_p, w_a=w_a, w_f=w_f, w_e=w_e,  \n",
    "             corpus_weights=corpus_weights, quadratic=1)      "
   ]
  },
  {
   "cell_type": "code",
   "execution_count": 4,
   "metadata": {
    "collapsed": false
   },
   "outputs": [
    {
     "name": "stdout",
     "output_type": "stream",
     "text": [
      "read in: characters, keyslots and letters\n",
      "read in: similarity values\n",
      "read in: distance values\n",
      "weighting corpora\n",
      "weighting corpora\n",
      "weighting corpora\n",
      "Done reading input values.\n"
     ]
    }
   ],
   "source": [
    "azerty,\\\n",
    "    characters,\\\n",
    "    keyslots,\\\n",
    "    letters,\\\n",
    "    p_single, p_bigram,\\\n",
    "    performance,\\\n",
    "    similarity_c_c, similarity_c_l,\\\n",
    "    distance_level_0, distance_level_1,\\\n",
    "    ergonomics\\\n",
    "     = get_all_input_values(corpus_weights)\n",
    "        \n",
    "linear_cost, x_P, x_A, x_F, x_E = get_linear_costs(w_p, w_a, w_f, w_e, \n",
    "                           azerty,\\\n",
    "                           characters,\\\n",
    "                           keyslots,\\\n",
    "                           letters,\\\n",
    "                           p_single, p_bigram,\\\n",
    "                           performance,\\\n",
    "                           similarity_c_c, similarity_c_l,\\\n",
    "                           distance_level_0, distance_level_1,\\\n",
    "                           ergonomics)"
   ]
  },
  {
   "cell_type": "code",
   "execution_count": 28,
   "metadata": {
    "collapsed": false
   },
   "outputs": [
    {
     "data": {
      "text/plain": [
       "0.035650064642712094"
      ]
     },
     "execution_count": 28,
     "metadata": {},
     "output_type": "execute_result"
    }
   ],
   "source": [
    "c=u'à'\n",
    "l=u'a'\n",
    "s1 = u'E01'\n",
    "s2 = u'D01_Alt'\n",
    "x_A[(c, s1)]"
   ]
  },
  {
   "cell_type": "code",
   "execution_count": 29,
   "metadata": {
    "collapsed": false
   },
   "outputs": [
    {
     "data": {
      "text/plain": [
       "0.011456665704620669"
      ]
     },
     "execution_count": 29,
     "metadata": {},
     "output_type": "execute_result"
    }
   ],
   "source": [
    "2*((p_single[c] + p_single[l])*similarity_c_l[(c,l)]*distance_level_0[s2,azerty[l]])"
   ]
  },
  {
   "cell_type": "code",
   "execution_count": 33,
   "metadata": {
    "collapsed": false
   },
   "outputs": [
    {
     "data": {
      "text/plain": [
       "0.055556"
      ]
     },
     "execution_count": 33,
     "metadata": {},
     "output_type": "execute_result"
    }
   ],
   "source": [
    "distance_level_0[s1,azerty[l]]"
   ]
  },
  {
   "cell_type": "code",
   "execution_count": 31,
   "metadata": {
    "collapsed": false
   },
   "outputs": [
    {
     "data": {
      "text/plain": [
       "0.071299487589394181"
      ]
     },
     "execution_count": 31,
     "metadata": {},
     "output_type": "execute_result"
    }
   ],
   "source": [
    "linear_cost[c,s2]"
   ]
  },
  {
   "cell_type": "code",
   "execution_count": null,
   "metadata": {
    "collapsed": true
   },
   "outputs": [],
   "source": []
  }
 ],
 "metadata": {
  "kernelspec": {
   "display_name": "Python 2",
   "language": "python",
   "name": "python2"
  },
  "language_info": {
   "codemirror_mode": {
    "name": "ipython",
    "version": 2
   },
   "file_extension": ".py",
   "mimetype": "text/x-python",
   "name": "python",
   "nbconvert_exporter": "python",
   "pygments_lexer": "ipython2",
   "version": "2.7.11"
  }
 },
 "nbformat": 4,
 "nbformat_minor": 0
}
