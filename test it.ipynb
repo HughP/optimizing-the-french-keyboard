{
 "cells": [
  {
   "cell_type": "code",
   "execution_count": 1,
   "metadata": {
    "collapsed": false,
    "scrolled": false
   },
   "outputs": [
    {
     "name": "stderr",
     "output_type": "stream",
     "text": [
      "C:\\Users\\feita1\\Python_Anaconda\\lib\\site-packages\\matplotlib\\__init__.py:872: UserWarning: axes.color_cycle is deprecated and replaced with axes.prop_cycle; please use the latter.\n",
      "  warnings.warn(self.msg_depr % (key, alt_key))\n"
     ]
    }
   ],
   "source": [
    "# -*- coding: utf-8 -*-\n",
    "from optimize import *\n",
    "from test_model import *\n",
    "from plotting import *\n",
    "from read_input import *\n",
    "import codecs\n",
    "\n",
    "%matplotlib inline\n",
    "PYTHONIOENCODING=\"utf-8\"\n",
    "\n"
   ]
  },
  {
   "cell_type": "code",
   "execution_count": 2,
   "metadata": {
    "collapsed": false
   },
   "outputs": [
    {
     "ename": "NameError",
     "evalue": "name 'characters' is not defined",
     "output_type": "error",
     "traceback": [
      "\u001b[1;31m---------------------------------------------------------------------------\u001b[0m",
      "\u001b[1;31mNameError\u001b[0m                                 Traceback (most recent call last)",
      "\u001b[1;32m<ipython-input-2-c614752b84c1>\u001b[0m in \u001b[0;36m<module>\u001b[1;34m()\u001b[0m\n\u001b[0;32m      5\u001b[0m \u001b[1;33m\u001b[0m\u001b[0m\n\u001b[0;32m      6\u001b[0m \u001b[0mscenario\u001b[0m\u001b[1;33m=\u001b[0m\u001b[1;34m\"_scenario1\"\u001b[0m\u001b[1;33m\u001b[0m\u001b[0m\n\u001b[1;32m----> 7\u001b[1;33m \u001b[0mall_chars\u001b[0m \u001b[1;33m=\u001b[0m \u001b[0mcharacters\u001b[0m\u001b[1;33m(\u001b[0m\u001b[1;34m'input/characters'\u001b[0m\u001b[1;33m+\u001b[0m\u001b[0mscenario\u001b[0m\u001b[1;33m+\u001b[0m\u001b[1;34m'.txt'\u001b[0m\u001b[1;33m)\u001b[0m\u001b[1;33m\u001b[0m\u001b[0m\n\u001b[0m\u001b[0;32m      8\u001b[0m \u001b[0mall_chars\u001b[0m \u001b[1;33m=\u001b[0m \u001b[0mletters\u001b[0m \u001b[1;33m+\u001b[0m \u001b[0mall_chars\u001b[0m\u001b[1;33m\u001b[0m\u001b[0m\n\u001b[0;32m      9\u001b[0m \u001b[0moutput_letters\u001b[0m \u001b[1;33m=\u001b[0m \u001b[1;34m\"input/resources/frequency_letters\"\u001b[0m\u001b[1;33m+\u001b[0m\u001b[0mscenario\u001b[0m\u001b[1;33m+\u001b[0m\u001b[1;34m'.txt'\u001b[0m\u001b[1;33m\u001b[0m\u001b[0m\n",
      "\u001b[1;31mNameError\u001b[0m: name 'characters' is not defined"
     ]
    }
   ],
   "source": [
    "letter_file = \"input/resources/frequency_letters_mathieu.txt\"\n",
    "bigram_file = \"input/resources/frequency_bigrams_mathieu.txt\"\n",
    "letters = get_letters()\n",
    "\n",
    "\n",
    "scenario=\"_scenario1\"\n",
    "all_chars = characters('input/characters'+scenario+'.txt')\n",
    "all_chars = letters + all_chars\n",
    "output_letters = \"input/resources/frequency_letters\"+scenario+'.txt'\n",
    "output_bigrams = \"input/resources/frequency_bigrams\"+scenario+'.txt'\n",
    "derive_probabilities_from_raw_values(letter_file, bigram_file, all_chars, output_bigrams, output_letters)\n",
    "\n",
    "scenario=\"_scenario2\"\n",
    "all_chars = characters('input/characters'+scenario+'.txt')\n",
    "all_chars = letters + all_chars\n",
    "output_letters = \"input/resources/frequency_letters\"+scenario+'.txt'\n",
    "output_bigrams = \"input/resources/frequency_bigrams\"+scenario+'.txt'\n",
    "derive_probabilities_from_raw_values(letter_file, bigram_file, all_chars, output_bigrams, output_letters)\n",
    "\n",
    "scenario=\"_scenario3\"\n",
    "all_chars = characters('input/characters'+scenario+'.txt')\n",
    "all_chars = letters + all_chars\n",
    "output_letters = \"input/resources/frequency_letters\"+scenario+'.txt'\n",
    "output_bigrams = \"input/resources/frequency_bigrams\"+scenario+'.txt'\n",
    "derive_probabilities_from_raw_values(letter_file, bigram_file, all_chars, output_bigrams, output_letters)"
   ]
  },
  {
   "cell_type": "code",
   "execution_count": 2,
   "metadata": {
    "collapsed": false
   },
   "outputs": [
    {
     "data": {
      "text/plain": [
       "[u'1',\n",
       " u'2',\n",
       " u'3',\n",
       " u'4',\n",
       " u'5',\n",
       " u'6',\n",
       " u'7',\n",
       " u'8',\n",
       " u'9',\n",
       " u'0',\n",
       " u'\\u20ac',\n",
       " u',',\n",
       " u'?',\n",
       " u';',\n",
       " u'.',\n",
       " u':',\n",
       " u'/',\n",
       " u'!']"
      ]
     },
     "execution_count": 2,
     "metadata": {},
     "output_type": "execute_result"
    }
   ],
   "source": [
    "set_scenario_files(\"scenario2\")\n",
    "get_fixed_characters()\n",
    "#get_letters()\n",
    "#get_characters()"
   ]
  },
  {
   "cell_type": "code",
   "execution_count": 3,
   "metadata": {
    "collapsed": false,
    "scrolled": false
   },
   "outputs": [],
   "source": [
    "\n",
    "set_scenario_files(\"scenario2\")\n",
    "all_chars = get_letters() + get_characters() + get_fixed_characters()\n",
    "letter_file = \"input/resources/frequency_letters_mathieu.txt\"\n",
    "p_single_all = pd.read_csv(letter_file, sep=\" \", encoding=\"utf-8\", index_col=0, quoting=3)\n",
    "p_single_all = p_single_all.to_dict()[u'frequency']\n",
    "p_single = {c:0 for c in all_chars}"
   ]
  },
  {
   "cell_type": "code",
   "execution_count": 4,
   "metadata": {
    "collapsed": false
   },
   "outputs": [],
   "source": [
    "c = u\".\"\n",
    "v = p_single_all[c]\n",
    "c = correct_diacritic(c) #in case this is a wrong form of a \"d\" annotated diacritic\n",
    "if c in p_single.keys():\n",
    "    p_single[c] += v\n",
    "else:\n",
    "    c_dec = decompose(c)\n",
    "    if len(c_dec) > 1:\n",
    "        #it's a composed character, take it apart and add the frequency to the frequency of its components\n",
    "        if c_dec[1] in unicode_diacritic.keys():\n",
    "            diacritic = unicode_diacritic[c_dec[1]]\n",
    "\n",
    "            if diacritic in p_single.keys():\n",
    "                p_single[diacritic] += v\n",
    "        letter = c_dec[0]\n",
    "        if letter in p_single.keys():\n",
    "            p_single[letter] += v\n",
    "    elif c in diacritic_unicode.keys():\n",
    "        #it's a single form of the diacritic mark, e.g. ~. Add frequency to diacritic and to space\n",
    "        diacritic = unicode_diacritic[diacritic_unicode[c]]\n",
    "        p_single[diacritic] += v\n",
    "        p_single[\"space\"] += v\n"
   ]
  },
  {
   "cell_type": "code",
   "execution_count": 5,
   "metadata": {
    "collapsed": false
   },
   "outputs": [
    {
     "data": {
      "text/plain": [
       "{u'!': 0,\n",
       " u'#': 0,\n",
       " u'$': 0,\n",
       " u'%': 0,\n",
       " u'&': 0,\n",
       " u'(': 0,\n",
       " u')': 0,\n",
       " u'*': 0,\n",
       " u'+': 0,\n",
       " u',': 0,\n",
       " u',d': 0,\n",
       " u'-': 0,\n",
       " u'-d': 0,\n",
       " u'.': 0.010467791580637143,\n",
       " u'.d': 0,\n",
       " u'/': 0,\n",
       " u'/d': 0,\n",
       " u'0': 0,\n",
       " u'1': 0,\n",
       " u'2': 0,\n",
       " u'3': 0,\n",
       " u'4': 0,\n",
       " u'5': 0,\n",
       " u'6': 0,\n",
       " u'7': 0,\n",
       " u'8': 0,\n",
       " u'9': 0,\n",
       " u':': 0,\n",
       " u';': 0,\n",
       " u'<': 0,\n",
       " u'=': 0,\n",
       " u'>': 0,\n",
       " u'?': 0,\n",
       " u'@': 0,\n",
       " u'[': 0,\n",
       " u'\\\\': 0,\n",
       " u']': 0,\n",
       " u'^d': 0,\n",
       " u'_': 0,\n",
       " u'_d': 0,\n",
       " u'a': 0,\n",
       " u'b': 0,\n",
       " u'c': 0,\n",
       " u'd': 0,\n",
       " u'e': 0,\n",
       " u'f': 0,\n",
       " u'g': 0,\n",
       " u'h': 0,\n",
       " u'i': 0,\n",
       " u'j': 0,\n",
       " u'k': 0,\n",
       " u'l': 0,\n",
       " u'm': 0,\n",
       " u'n': 0,\n",
       " u'o': 0,\n",
       " u'p': 0,\n",
       " u'q': 0,\n",
       " u'r': 0,\n",
       " u's': 0,\n",
       " u'space': 0,\n",
       " u't': 0,\n",
       " u'u': 0,\n",
       " u'v': 0,\n",
       " u'w': 0,\n",
       " u'x': 0,\n",
       " u'y': 0,\n",
       " u'z': 0,\n",
       " u'{': 0,\n",
       " u'|': 0,\n",
       " u'}': 0,\n",
       " u'~d': 0,\n",
       " u'\\xa1': 0,\n",
       " u'\\xa2': 0,\n",
       " u'\\xa3': 0,\n",
       " u'\\xa4': 0,\n",
       " u'\\xa5': 0,\n",
       " u'\\xa7': 0,\n",
       " u'\\xa8d': 0,\n",
       " u'\\xa9': 0,\n",
       " u'\\xaa': 0,\n",
       " u'\\xab': 0,\n",
       " u'\\xae': 0,\n",
       " u'\\xb0': 0,\n",
       " u'\\xb0d': 0,\n",
       " u'\\xb1': 0,\n",
       " u'\\xb4d': 0,\n",
       " u'\\xb7': 0,\n",
       " u'\\xb8d': 0,\n",
       " u'\\xba': 0,\n",
       " u'\\xbb': 0,\n",
       " u'\\xbc': 0,\n",
       " u'\\xbd': 0,\n",
       " u'\\xbe': 0,\n",
       " u'\\xbf': 0,\n",
       " u'\\xc0': 0,\n",
       " u'\\xc6': 0,\n",
       " u'\\xc7': 0,\n",
       " u'\\xc8': 0,\n",
       " u'\\xc9': 0,\n",
       " u'\\xd0': 0,\n",
       " u'\\xd7': 0,\n",
       " u'\\xde': 0,\n",
       " u'\\xdf': 0,\n",
       " u'\\xe0': 0,\n",
       " u'\\xe7': 0,\n",
       " u'\\xe8': 0,\n",
       " u'\\xe9': 0,\n",
       " u'\\xf0': 0,\n",
       " u'\\xf7': 0,\n",
       " u'\\xf9': 0,\n",
       " u'\\xfe': 0,\n",
       " u'\\u0130': 0,\n",
       " u'\\u0131': 0,\n",
       " u'\\u0132': 0,\n",
       " u'\\u0133': 0,\n",
       " u'\\u014a': 0,\n",
       " u'\\u014b': 0,\n",
       " u'\\u0152': 0,\n",
       " u'\\u0153': 0,\n",
       " u'\\u017f': 0,\n",
       " u'\\u018e': 0,\n",
       " u'\\u01b7': 0,\n",
       " u'\\u01dd': 0,\n",
       " u'\\u0292': 0,\n",
       " u'\\u02c7d': 0,\n",
       " u'\\u02c9d': 0,\n",
       " u'\\u02cbd': 0,\n",
       " u'\\u02d8d': 0,\n",
       " u'\\u02d9d': 0,\n",
       " u'\\u02dbd': 0,\n",
       " u'\\u02ddd': 0,\n",
       " u'\\u02f5d': 0,\n",
       " u'\\u0311d': 0,\n",
       " u'\\u0391': 0,\n",
       " u'\\u0392': 0,\n",
       " u'\\u0393': 0,\n",
       " u'\\u0394': 0,\n",
       " u'\\u0395': 0,\n",
       " u'\\u0396': 0,\n",
       " u'\\u0397': 0,\n",
       " u'\\u0398': 0,\n",
       " u'\\u0399': 0,\n",
       " u'\\u039a': 0,\n",
       " u'\\u039b': 0,\n",
       " u'\\u039c': 0,\n",
       " u'\\u039d': 0,\n",
       " u'\\u039e': 0,\n",
       " u'\\u039f': 0,\n",
       " u'\\u03a0': 0,\n",
       " u'\\u03a1': 0,\n",
       " u'\\u03a3': 0,\n",
       " u'\\u03a4': 0,\n",
       " u'\\u03a5': 0,\n",
       " u'\\u03a6': 0,\n",
       " u'\\u03a7': 0,\n",
       " u'\\u03a8': 0,\n",
       " u'\\u03a9': 0,\n",
       " u'\\u03b1': 0,\n",
       " u'\\u03b2': 0,\n",
       " u'\\u03b3': 0,\n",
       " u'\\u03b4': 0,\n",
       " u'\\u03b5': 0,\n",
       " u'\\u03b6': 0,\n",
       " u'\\u03b7': 0,\n",
       " u'\\u03b8': 0,\n",
       " u'\\u03b82': 0,\n",
       " u'\\u03b9': 0,\n",
       " u'\\u03ba': 0,\n",
       " u'\\u03bb': 0,\n",
       " u'\\u03bc': 0,\n",
       " u'\\u03bd': 0,\n",
       " u'\\u03be': 0,\n",
       " u'\\u03bf': 0,\n",
       " u'\\u03c0': 0,\n",
       " u'\\u03c1': 0,\n",
       " u'\\u03c3': 0,\n",
       " u'\\u03c4': 0,\n",
       " u'\\u03c5': 0,\n",
       " u'\\u03c6': 0,\n",
       " u'\\u03c7': 0,\n",
       " u'\\u03c8': 0,\n",
       " u'\\u03c9': 0,\n",
       " u'\\u1e9e': 0,\n",
       " u'\\u2011': 0,\n",
       " u'\\u2013': 0,\n",
       " u'\\u2014': 0,\n",
       " u'\\u2018': 0,\n",
       " u'\\u2019': 0,\n",
       " u'\\u201a': 0,\n",
       " u'\\u201c': 0,\n",
       " u'\\u201d': 0,\n",
       " u'\\u201e': 0,\n",
       " u'\\u2020': 0,\n",
       " u'\\u2021': 0,\n",
       " u'\\u2026': 0,\n",
       " u'\\u2030': 0,\n",
       " u'\\u2039': 0,\n",
       " u'\\u203a': 0,\n",
       " u'\\u20a9': 0,\n",
       " u'\\u20ac': 0,\n",
       " u'\\u221a': 0,\n",
       " u'\\u221e': 0,\n",
       " u'\\u2243': 0,\n",
       " u'\\u2260': 0,\n",
       " u'\\u2264': 0,\n",
       " u'\\u2265': 0,\n",
       " u'\\ufeff\\xe6': 0}"
      ]
     },
     "execution_count": 5,
     "metadata": {},
     "output_type": "execute_result"
    }
   ],
   "source": [
    "p_single"
   ]
  },
  {
   "cell_type": "code",
   "execution_count": 1,
   "metadata": {
    "collapsed": false
   },
   "outputs": [
    {
     "name": "stderr",
     "output_type": "stream",
     "text": [
      "C:\\Users\\feita1\\Python_Anaconda\\lib\\site-packages\\matplotlib\\__init__.py:872: UserWarning: axes.color_cycle is deprecated and replaced with axes.prop_cycle; please use the latter.\n",
      "  warnings.warn(self.msg_depr % (key, alt_key))\n"
     ]
    }
   ],
   "source": [
    "from plotting import *\n",
    "mapping = {1:\"a\"}\n",
    "path = \"test.csv\"\n",
    "log_mapping(mapping, path)"
   ]
  },
  {
   "cell_type": "code",
   "execution_count": 3,
   "metadata": {
    "collapsed": false
   },
   "outputs": [
    {
     "name": "stdout",
     "output_type": "stream",
     "text": [
      "read in: characters, keyslots and letters\n"
     ]
    }
   ],
   "source": [
    "from test_model import *\n",
    "create_dummy_values_performance_ergonomics_probability(randomize=False)"
   ]
  },
  {
   "cell_type": "code",
   "execution_count": 72,
   "metadata": {
    "collapsed": false
   },
   "outputs": [],
   "source": []
  },
  {
   "cell_type": "code",
   "execution_count": 67,
   "metadata": {
    "collapsed": false
   },
   "outputs": [],
   "source": []
  },
  {
   "cell_type": "code",
   "execution_count": 70,
   "metadata": {
    "collapsed": false
   },
   "outputs": [
    {
     "data": {
      "text/plain": [
       "0.002072"
      ]
     },
     "execution_count": 70,
     "metadata": {},
     "output_type": "execute_result"
    }
   ],
   "source": []
  },
  {
   "cell_type": "code",
   "execution_count": 33,
   "metadata": {
    "collapsed": false
   },
   "outputs": [],
   "source": []
  },
  {
   "cell_type": "code",
   "execution_count": 39,
   "metadata": {
    "collapsed": false
   },
   "outputs": [
    {
     "data": {
      "text/plain": [
       "u'(,, ~)'"
      ]
     },
     "execution_count": 39,
     "metadata": {},
     "output_type": "execute_result"
    }
   ],
   "source": []
  },
  {
   "cell_type": "code",
   "execution_count": 2,
   "metadata": {
    "collapsed": false
   },
   "outputs": [
    {
     "data": {
      "text/plain": [
       "{(u'!', u'\\xa1'): 1.0,\n",
       " (u'%', u'\\u2030'): 1.0,\n",
       " (u\"'\", u'\"'): 1.0,\n",
       " (u'(', u')'): 1.0,\n",
       " (u'+', u'\\xb1'): 1.0,\n",
       " (u',', u';'): 1.0,\n",
       " (u'-', u'_'): 1.0,\n",
       " (u'.', u':'): 1.0,\n",
       " (u'/', u'\\\\'): 1.0,\n",
       " (u'<', u'>'): 1.0,\n",
       " (u'<', u'\\u2264'): 1.0,\n",
       " (u'=', u'\\u2260'): 1.0,\n",
       " (u'>', u'\\u2265'): 1.0,\n",
       " (u'?', u'\\xbf'): 1.0,\n",
       " (u'[', u']'): 1.0,\n",
       " (u'`d', u'\\xe0'): 1.0,\n",
       " (u'{', u'}'): 1.0,\n",
       " (u'|', u'\\xa6'): 1.0,\n",
       " (u'~d', u'~'): 1.0,\n",
       " (u'\\xab', u'\\xbb'): 1.0,\n",
       " (u'\\xb4d', u'`d'): 1.0,\n",
       " (u'\\xb4d', u'\\xe9'): 1.0,\n",
       " (u'\\xb8d', u'\\xe7'): 1.0,\n",
       " (u'\\xe0', u'\\xc0'): 1.0,\n",
       " (u'\\xe6', u'\\xc6'): 1.0,\n",
       " (u'\\xe9', u'\\xc9'): 1.0,\n",
       " (u'\\xf8', u'\\xd8'): 1.0,\n",
       " (u'\\u0152', u'\\u0153'): 1.0,\n",
       " (u'\\u02ddd', u'\"'): 1.0,\n",
       " (u'\\u20ac', u'$'): 1.0,\n",
       " (u'\\u20ac', u'\\xa3'): 1.0,\n",
       " (u'\\u20ac', u'\\xa4'): 1.0}"
      ]
     },
     "execution_count": 2,
     "metadata": {},
     "output_type": "execute_result"
    }
   ],
   "source": []
  },
  {
   "cell_type": "code",
   "execution_count": 4,
   "metadata": {
    "collapsed": false
   },
   "outputs": [
    {
     "data": {
      "text/plain": [
       "False"
      ]
     },
     "execution_count": 4,
     "metadata": {},
     "output_type": "execute_result"
    }
   ],
   "source": [
    "def _is_composed_of(deadkey, character):\n",
    "    \"\"\"\n",
    "        checks if the given character is a composed character and if it is composed with the given deadkey\n",
    "    \"\"\"\n",
    "    if len(character)>1:\n",
    "        #has multiple characters in it, check if the deadkey is somehwere in there\n",
    "        for c in character:\n",
    "            res = _is_composed_of(deadkey,c)\n",
    "            if res:\n",
    "                return res\n",
    "    if unicodedata.decomposition(character) == \"\":\n",
    "        return 0\n",
    "    else:\n",
    "        deadkey_code = unicodedata.decomposition(deadkey)[-4:]\n",
    "        character_code = unicodedata.decomposition(character)[-4:]\n",
    "        return deadkey_code == character_code\n",
    "_is_composed_of(u\"ˆ\", u\"â\")"
   ]
  },
  {
   "cell_type": "code",
   "execution_count": 11,
   "metadata": {
    "collapsed": false
   },
   "outputs": [],
   "source": [
    "def decompose(c):\n",
    "    try:\n",
    "        #print c\n",
    "        c_d = unicodedata.normalize('NFKD', c)\n",
    "        #special_char_list = {\"^\": \"0302\", \"~\":\"0303\", \"`\":\"0300\"}\n",
    "        special_char_list = {}\n",
    "        for i in range(0,len(c_d)):\n",
    "            if c_d[i] in special_char_list:\n",
    "                c_d[i] = special_char_list[c_d[i]]\n",
    "                \n",
    "        return c_d\n",
    "    except:\n",
    "        return c"
   ]
  },
  {
   "cell_type": "code",
   "execution_count": 19,
   "metadata": {
    "collapsed": false
   },
   "outputs": [
    {
     "name": "stdout",
     "output_type": "stream",
     "text": [
      "ˊ\n",
      "É\n"
     ]
    }
   ],
   "source": [
    "print(decompose(u\"ˊ\"))"
   ]
  },
  {
   "cell_type": "code",
   "execution_count": 22,
   "metadata": {
    "collapsed": false
   },
   "outputs": [
    {
     "data": {
      "text/plain": [
       "'0065 0300'"
      ]
     },
     "execution_count": 22,
     "metadata": {},
     "output_type": "execute_result"
    }
   ],
   "source": [
    "unicodedata.decomposition(u\"è\")"
   ]
  },
  {
   "cell_type": "code",
   "execution_count": 18,
   "metadata": {
    "collapsed": false
   },
   "outputs": [
    {
     "data": {
      "text/plain": [
       "''"
      ]
     },
     "execution_count": 18,
     "metadata": {},
     "output_type": "execute_result"
    }
   ],
   "source": [
    "unicodedata.decomposition(u\"ˊ\")"
   ]
  },
  {
   "cell_type": "code",
   "execution_count": 32,
   "metadata": {
    "collapsed": false
   },
   "outputs": [
    {
     "data": {
      "text/plain": [
       "''"
      ]
     },
     "execution_count": 32,
     "metadata": {},
     "output_type": "execute_result"
    }
   ],
   "source": [
    "unicodedata.decomposition(u\"ˊ\")"
   ]
  },
  {
   "cell_type": "code",
   "execution_count": 28,
   "metadata": {
    "collapsed": false
   },
   "outputs": [
    {
     "data": {
      "text/plain": [
       "u'\\x181'"
      ]
     },
     "execution_count": 28,
     "metadata": {},
     "output_type": "execute_result"
    }
   ],
   "source": [
    "u\"\\0301\""
   ]
  },
  {
   "cell_type": "code",
   "execution_count": 29,
   "metadata": {
    "collapsed": false
   },
   "outputs": [
    {
     "data": {
      "text/plain": [
       "u'\\u02ca'"
      ]
     },
     "execution_count": 29,
     "metadata": {},
     "output_type": "execute_result"
    }
   ],
   "source": [
    "u\"ˊ\""
   ]
  },
  {
   "cell_type": "code",
   "execution_count": 30,
   "metadata": {
    "collapsed": false
   },
   "outputs": [
    {
     "data": {
      "text/plain": [
       "u'\\xb4'"
      ]
     },
     "execution_count": 30,
     "metadata": {},
     "output_type": "execute_result"
    }
   ],
   "source": [
    "u\"´\""
   ]
  },
  {
   "cell_type": "code",
   "execution_count": 67,
   "metadata": {
    "collapsed": false
   },
   "outputs": [
    {
     "ename": "SyntaxError",
     "evalue": "invalid syntax (<ipython-input-67-47d5722d1bfb>, line 1)",
     "output_type": "error",
     "traceback": [
      "\u001b[1;36m  File \u001b[1;32m\"<ipython-input-67-47d5722d1bfb>\"\u001b[1;36m, line \u001b[1;32m1\u001b[0m\n\u001b[1;33m    ̲\u001b[0m\n\u001b[1;37m    ^\u001b[0m\n\u001b[1;31mSyntaxError\u001b[0m\u001b[1;31m:\u001b[0m invalid syntax\n"
     ]
    }
   ],
   "source": []
  },
  {
   "cell_type": "code",
   "execution_count": 21,
   "metadata": {
    "collapsed": false
   },
   "outputs": [
    {
     "data": {
      "text/plain": [
       "u' \\u0301d'"
      ]
     },
     "execution_count": 21,
     "metadata": {},
     "output_type": "execute_result"
    }
   ],
   "source": [
    "unicodedata.normalize('NFKD', u\"´d\")"
   ]
  },
  {
   "cell_type": "code",
   "execution_count": 60,
   "metadata": {
    "collapsed": false
   },
   "outputs": [
    {
     "data": {
      "text/plain": [
       "u'l\\u030c'"
      ]
     },
     "execution_count": 60,
     "metadata": {},
     "output_type": "execute_result"
    }
   ],
   "source": [
    "unicodedata.normalize('NFKD', u\"ľ\")"
   ]
  },
  {
   "cell_type": "code",
   "execution_count": 75,
   "metadata": {
    "collapsed": false
   },
   "outputs": [
    {
     "data": {
      "text/plain": [
       "u'\\u0303'"
      ]
     },
     "execution_count": 75,
     "metadata": {},
     "output_type": "execute_result"
    }
   ],
   "source": [
    "c[1]"
   ]
  },
  {
   "cell_type": "code",
   "execution_count": 65,
   "metadata": {
    "collapsed": false
   },
   "outputs": [],
   "source": [
    "diacritic_unicode = {u\"^\": u\"\\u0302\", u\"ˆ\": u\"\\0302\",\n",
    "                     u\"¨\": u\"\\u0308\",\n",
    "                     u\"~\": u\"\\u0303\", u\"˜\": u\"\\0303\", \n",
    "                     u\"˘\": u\"\\u0306\",\n",
    "                     u\"ˇ\": u\"\\030c\",\n",
    "                     u\"̑\": u\"\\0311\",\n",
    "                     u\"ˋ\": u\"\\0300\", u\"`\": u\"\\0300\", \n",
    "                     u\"ˊ\": u\"\\0301\", \n",
    "                     u\"ˉ\": u\"\\0304\", \n",
    "                     u\"_\": u\"\\0331\", u\"̲\":u\"\\0331\",\n",
    "                     u\"˙\": u\"\\0307\",\n",
    "                     u\".\": u\"\\0323\",\n",
    "                     u\"°\": u\"\\030a\",\n",
    "                     u\"˝\": u\"\\030b\",\n",
    "                     u\"˵\": u\"\\030f\", u\"̏\": u\"\\030f\",                     \n",
    "                     u\"¸\": u\"\\0327\",\n",
    "                     u\"˛\": u\"\\0328\",\n",
    "                     u\",\": u\"\\0326\", u\"̦\": u\"\\0326\", \n",
    "                     u\"-\": u\"\\0335\", u\"̵\": u\"\\0335\",\n",
    "                     u\"/\": u\"\\0337\", u\"̷\": u\"\\0337\"\n",
    "                    }\n",
    "\n"
   ]
  },
  {
   "cell_type": "code",
   "execution_count": 58,
   "metadata": {
    "collapsed": true
   },
   "outputs": [],
   "source": [
    "unicode_diacritic = {u\"\\0302\": u\"^\",\n",
    "                     u\"\\0308\": u\"¨\",\n",
    "                     u\"\\0303\": u\"~\",\n",
    "                     u\"\\0306\": u\"˘\",\n",
    "                     u\"\\030c\": u\"ˇ\",\n",
    "                     u\"\\0311\": u\"̑ \",\n",
    "                     u\"\\0300\": u\"ˋ\",\n",
    "                     u\"\\0301\": u\"ˊ\",\n",
    "                     u\"\\0304\": u\"ˉ\",\n",
    "                     u\"\\0331\": u\"_\",\n",
    "                     u\"\\0307\": u\"˙\",\n",
    "                     u\"\\0323\": u\".\",\n",
    "                     u\"\\030a\": u\"°\",\n",
    "                     u\"\\030b\": u\"˝\",\n",
    "                     u\"\\030f\": u\"˵\",              \n",
    "                     u\"\\0327\": u\"¸\",\n",
    "                     u\"\\0328\": u\"˛\",\n",
    "                     u\"\\0326\": u\",\",\n",
    "                     u\"\\0335\": u\"-\",\n",
    "                     u\"\\0337\": u\"/\"\n",
    "                    }"
   ]
  },
  {
   "cell_type": "code",
   "execution_count": 82,
   "metadata": {
    "collapsed": false
   },
   "outputs": [],
   "source": [
    "a = [\"a\", \"b\"]\n",
    "a.remove(\"a\")"
   ]
  },
  {
   "cell_type": "code",
   "execution_count": 85,
   "metadata": {
    "collapsed": false
   },
   "outputs": [
    {
     "ename": "SyntaxError",
     "evalue": "invalid syntax (<ipython-input-85-680cb9139289>, line 1)",
     "output_type": "error",
     "traceback": [
      "\u001b[1;36m  File \u001b[1;32m\"<ipython-input-85-680cb9139289>\"\u001b[1;36m, line \u001b[1;32m1\u001b[0m\n\u001b[1;33m    if a: 0 else: 1\u001b[0m\n\u001b[1;37m               ^\u001b[0m\n\u001b[1;31mSyntaxError\u001b[0m\u001b[1;31m:\u001b[0m invalid syntax\n"
     ]
    }
   ],
   "source": [
    "if a: 0 else: 1"
   ]
  },
  {
   "cell_type": "code",
   "execution_count": null,
   "metadata": {
    "collapsed": true
   },
   "outputs": [],
   "source": []
  }
 ],
 "metadata": {
  "kernelspec": {
   "display_name": "Python 2",
   "language": "python",
   "name": "python2"
  },
  "language_info": {
   "codemirror_mode": {
    "name": "ipython",
    "version": 2
   },
   "file_extension": ".py",
   "mimetype": "text/x-python",
   "name": "python",
   "nbconvert_exporter": "python",
   "pygments_lexer": "ipython2",
   "version": "2.7.11"
  }
 },
 "nbformat": 4,
 "nbformat_minor": 0
}
