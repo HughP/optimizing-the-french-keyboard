{
 "cells": [
  {
   "cell_type": "code",
   "execution_count": 6,
   "metadata": {
    "collapsed": true
   },
   "outputs": [],
   "source": [
    "#!/usr/bin/env python\n",
    "# -*- coding: utf-8 -*-\n",
    "from gurobipy import *\n",
    "import pandas as pd\n",
    "import numpy as np"
   ]
  },
  {
   "cell_type": "markdown",
   "metadata": {},
   "source": [
    "### Model the problem \n",
    "\n",
    "Given a set of characters and a set of keyslots we have binary decision variables $x_{cs}$ which are 1 if a character c is assigned to a slot s.\n",
    "Any combination is possible. \n",
    "\n",
    "In addition to the to-be-assigned characters, we have fixed letters. Those are important for the cost functions. For example we care about how long it takes to move from one of the fixed letters / keys to one of the keyslots.\n",
    "\n",
    "The objectives are computed as follows:\n",
    "<ol>\n",
    "<li> Performance:\n",
    "$$\n",
    "P = \\sum_{c=1}^n\\sum_{s=1}^m \\sum_{l=1}^{27} (p_{cl} t_{sl} + p_{lc} t_{ls}) x_{cs} \n",
    "$$\n",
    "<li> Association:\n",
    "$$A = \\sum_{c1=1}^n\\sum_{c2=1}^n\\sum_{s1=1}^m\\sum_{s2=1}^m (p_{c1} + p_{c2}) s_{c1c2} d_{s1s2} x_{c1s1}x_{c2s2}\n",
    " + \\sum_{c=1}^n\\sum_{s=1}^m\\sum_{l=1}^{27} (p_c + p_l) s_{cl} d_{sl} x_{cs}\n",
    "$$\n",
    "<li> Familiarity:\n",
    "$$\n",
    "F = \\sum_{c=1}^n\\sum_{s=1}^m p_{c} d_{s\\mathcal{A}(c)} x_{cs}\n",
    "$$\n",
    "<li> Ergonomics:\n",
    "$$\n",
    "E = \\sum_{c=1}^n\\sum_{s=1}^m\\sum_{l=1}^{27} (p_{cl} e_{sl} + p_{lc} e_{ls}) x_{cs} \n",
    "$$\n",
    "\n",
    "</ol>"
   ]
  },
  {
   "cell_type": "code",
   "execution_count": 7,
   "metadata": {
    "collapsed": false
   },
   "outputs": [],
   "source": [
    "def solve_the_keyboard_Problem(azerty,\\\n",
    "                               characters,\\\n",
    "                               keyslots,\\\n",
    "                               letters,\\\n",
    "                               p_single, p_bigram,\\\n",
    "                               performance,\\\n",
    "                               similarity_c_c, similarity_c_l,\\\n",
    "                               distance_level_0, distance_level_1,\\\n",
    "                               ergonomics):\n",
    "    #Test some stuff in advance to avoid infeasbility:\n",
    "    if len(characters) > len(keyslots):\n",
    "        print \"Error: more characters than keyslots\"\n",
    "        return\n",
    "    \n",
    "    m = Model(\"keyboard_layout\")\n",
    "    print \"creataed model\"\n",
    "    #add decision variables\n",
    "    x = {}\n",
    "    for c in characters:\n",
    "        for s in keyslots:\n",
    "            x[c,s] = m.addVar(vtype=GRB.BINARY, name=c+\" to \"+str(s))\n",
    "    print \"created variables\"        \n",
    "    m.update()\n",
    "    \n",
    "    P = quicksum(\n",
    "            ((p_bigram[(c,l)]*performance[(s,azerty[l])]) + (p_bigram[(l,c)]*performance[(azerty[l],s)]))*x[c,s]\\\n",
    "                for c in characters for s in keyslots for l in letters\n",
    "        )\n",
    "        \n",
    "    print \"performance\"\n",
    "    \n",
    "    A = quicksum(\n",
    "            (p_single[c1] + p_single[c2])*similarity_c_c[(c1,c2)]*distance_level_0[(s1,s2)]\\\n",
    "                 for s1 in keyslots for s2 in keyslots for (c1,c2) in similarity_c_c) +\\\n",
    "        quicksum(\n",
    "            (p_single[c] + p_single[l])*similarity_c_l[(c,l)]*distance_level_0[s,azerty[l]] \\\n",
    "                 for s in keyslots for (c,l) in similarity_c_l) \n",
    "    print \"association\"   \n",
    "        \n",
    "    F = quicksum(\n",
    "            #if that character was previously not on azerty, distance is 0.\n",
    "            p_single[c] * distance_level_1.get((s, azerty.get(c,\"NaN\")),0) \\\n",
    "                 for c in characters for s in keyslots\n",
    "        )\n",
    "    print \"familiarity\"\n",
    "        \n",
    "    E = quicksum(\n",
    "            ((p_bigram[(c,l)]*ergonomics[(s,azerty[l])]) + (p_bigram[(l,c)]*ergonomics[(azerty[l],s)]))*x[c,s]\\\n",
    "                for c in characters for s in keyslots for l in letters\n",
    "        )\n",
    "    print \"ergonomics\"\n",
    "        \n",
    "    # Set objective\n",
    "    m.setObjective(P+A+F+E, GRB.MINIMIZE)\n",
    "    m.update()\n",
    "    print \"set objective\"\n",
    "    \n",
    "    #add the constraints. One for each character, one for each keyslot\n",
    "    for c in characters:\n",
    "        m.addConstr(quicksum(x[c,s] for s in keyslots) == 1, \"characters must be mapped\")\n",
    "        \n",
    "    for s in keyslots:\n",
    "        m.addConstr(quicksum(x[c,s] for c in characters) <= 1, \"keyslots cann be asigned at most once\")\n",
    "    \n",
    "    print \"set constraints\"\n",
    "    \n",
    "    m.update()\n",
    "    print \"optimizing...\"\n",
    "    m.optimize()\n",
    "    \n",
    "    print \"done\"\n",
    "    #Print the solution\n",
    "    for v in m.getVars():\n",
    "        if v.x ==1:\n",
    "            print('%s' % (v.varName))\n",
    "\n",
    "    print('Obj: %g' % m.objVal)\n",
    "    \n",
    "    #return the model with the fixed solution\n",
    "    return m.fixed()"
   ]
  },
  {
   "cell_type": "markdown",
   "metadata": {},
   "source": [
    "### Create the input values"
   ]
  },
  {
   "cell_type": "markdown",
   "metadata": {},
   "source": [
    "#### Some helper functions for reading in stuff"
   ]
  },
  {
   "cell_type": "code",
   "execution_count": 8,
   "metadata": {
    "collapsed": true
   },
   "outputs": [],
   "source": [
    "def read_similarity_matrix(path, characters):\n",
    "    \"\"\"\n",
    "        Reads the given matrix into a dictionary of the form (c1,c2)->similarity\n",
    "        Filters out all characters that are not in the given character list\n",
    "        Already normalized\n",
    "    \"\"\"    \n",
    "    df = pd.read_excel(path, encoding=\"utf8\")\n",
    "\n",
    "    index = df.index\n",
    "    columns = df.columns\n",
    "    dictionary = {}\n",
    "    for i in range(0,len(df)): #row index\n",
    "        for j in range(0, len(df.columns)): #column index\n",
    "            row = index[i]\n",
    "            col = columns[j]\n",
    "            if row in characters and col in characters:\n",
    "                if not pd.isnull(df.iloc[i,j]):\n",
    "                    dictionary[(row,col)] = df.iloc[i,j]\n",
    "    return dictionary\n",
    "\n",
    "def read_distance_matrix(path, level_cost, recompute=0):\n",
    "    \"\"\"\n",
    "        reads the distance between the keys from the excel file. If the file is empty it creates the distance matrix\n",
    "        and writes it to the file. The matrix does not include any level distance\n",
    "        Distance is defined as the sum of the vertical and horizontal distance. \n",
    "        Normalizes the distance\n",
    "        level_cost: dict\n",
    "            additional cost for each lower level, e.g. level_cost = {'':0, 'Shift':1, 'Alt':2, 'Alt_Shift':3}, \n",
    "            is computed in relation to each other, \n",
    "            that is cost is 1 if one character on Shift, the other on Alt level. Cost is 2 if one character on single, other\n",
    "            on Alt level\n",
    "            \n",
    "            \n",
    "    \"\"\"\n",
    "    row_numbers = {u\"A\":0, u\"B\":1, u\"C\":2, u\"D\":3, u\"E\":4}\n",
    "    df = pd.read_excel(path)\n",
    "    index = df.index\n",
    "    columns = df.columns\n",
    "    dictionary = {}\n",
    "    for i in range(0,len(index)): #row index\n",
    "        for j in range(0, len(columns)): #column index\n",
    "            slot1 = index[i]\n",
    "            slot2 = columns[j]            \n",
    "            if recompute or pd.isnull(df.iloc[i,j]):                \n",
    "                #if there is no value yet, compute it based on the names:\n",
    "                row_distance = np.abs(row_numbers[slot1[0]] - row_numbers[slot2[0]])\n",
    "                column_distance = np.abs(int(slot1[1:3]) - int(slot2[1:3]))                \n",
    "                #Special case: shift\n",
    "                if slot1[0:3] == \"A03\":\n",
    "                    if int(slot2[1:3])>3:\n",
    "                        column_distance = max(0,column_distance-4)\n",
    "                if slot2[0:3] == \"A03\":\n",
    "                    if int(slot1[1:3])>3:\n",
    "                        column_distance = max(0,column_distance-4)\n",
    "                df.iloc[i,j] = row_distance+column_distance\n",
    "                \n",
    "            level_distance = np.abs(level_cost[slot1[4:]] - level_cost[slot2[4:]])\n",
    "            #add level cost and normalize\n",
    "            dictionary[(slot1,slot2)] = (df.iloc[i,j]+level_distance) / (df.max().max() + np.max(level_cost.values()))\n",
    "    df.to_excel(path)                                  \n",
    "    return dictionary\n",
    "    "
   ]
  },
  {
   "cell_type": "markdown",
   "metadata": {},
   "source": [
    "#### Letters:\n",
    "We only consider the transitions to the lower case letters. To-be-verified assumption: frequency of capital letter-special character pairs is too low.\n",
    "\n",
    "#### Similarity: \n",
    "similarity matrix actually consists of two matrices, one quantifying the similarity between two to-be-assigned characters, one quantifying the similarity between a character and a fixed letter."
   ]
  },
  {
   "cell_type": "code",
   "execution_count": 9,
   "metadata": {
    "collapsed": false
   },
   "outputs": [
    {
     "name": "stdout",
     "output_type": "stream",
     "text": [
      "read in: characters, keyslots and letters\n",
      "read in: azerty letters\n",
      "read in: similarity values\n",
      "read in: distance values\n",
      "Done reading input values.\n"
     ]
    },
    {
     "name": "stderr",
     "output_type": "stream",
     "text": [
      "C:\\Users\\feita1\\Python_Anaconda\\lib\\site-packages\\ipykernel\\__main__.py:16: UnicodeWarning: Unicode equal comparison failed to convert both arguments to Unicode - interpreting them as being unequal\n"
     ]
    }
   ],
   "source": [
    "print \"read in: characters, keyslots and letters\"\n",
    "with open('input\\\\characters.txt') as f:\n",
    "    characters = f.read().splitlines()\n",
    "with open('input\\\\letters.txt') as f:\n",
    "    letters = f.read().splitlines()\n",
    "with open('input\\\\variable_slots.txt') as f:    \n",
    "    keyslots = f.read().splitlines()\n",
    "\n",
    "print \"read in: azerty letters\"\n",
    "azerty = pd.read_csv(\"input\\\\azerty.csv\", index_col=1).to_dict()[\"keyslot\"]\n",
    "\n",
    "#Similarity values (c,c)->s, (c,l)->s\n",
    "print \"read in: similarity values\"\n",
    "similarity_c_c = read_similarity_matrix('input\\\\similarity_c_c.xlsx', characters)\n",
    "similarity_c_l = read_similarity_matrix('input\\\\similarity_c_l.xlsx', characters)\n",
    "\n",
    "#Distance values (key,key)->d\n",
    "print \"read in: distance values\"\n",
    "level_cost = {u'':0, u'Shift':0, u'Alt':0, u'Alt_Shift':0}\n",
    "distance_level_0 = read_distance_matrix(\"input\\\\distance.xlsx\", level_cost)\n",
    "level_cost = {u'':0, u'Shift':1, u'Alt':2, u'Alt_Shift':3}\n",
    "distance_level_1 = read_distance_matrix(\"input\\\\distance.xlsx\", level_cost)\n",
    "\n",
    "#Frequency distributions c/l -> p, (c/l, c/l) -> p\n",
    "#TODO\n",
    "all_chars = letters+characters\n",
    "p_single = {character: float(1)/len(all_chars) for character in all_chars}\n",
    "p_bigram = {(c1,c2): float(1)/(len(all_chars) * len(all_chars) )for c1 in all_chars for c2 in all_chars}\n",
    "\n",
    "#Ergonomics (c, l)-> e\n",
    "#TODO\n",
    "ergonomics = {}\n",
    "for s in keyslots:\n",
    "    for l in letters:\n",
    "        ergonomics[(s,azerty[l])]= 0.2 \n",
    "        ergonomics[(azerty[l],s)]= 0.2 \n",
    "\n",
    "#Performance: (key, letter)->t\n",
    "#TODO\n",
    "performance = {}\n",
    "for s in keyslots:\n",
    "    for l in letters:\n",
    "        performance[(s,azerty[l])]= 0.2 \n",
    "        performance[(azerty[l],s)]= 0.2 \n",
    "\n",
    "print \"Done reading input values.\"\n"
   ]
  },
  {
   "cell_type": "markdown",
   "metadata": {},
   "source": [
    "### Optimize"
   ]
  },
  {
   "cell_type": "code",
   "execution_count": null,
   "metadata": {
    "collapsed": false
   },
   "outputs": [],
   "source": [
    "m = solve_the_keyboard_Problem(azerty,\\\n",
    "                               characters,\\\n",
    "                               keyslots,\\\n",
    "                               letters,\\\n",
    "                               p_single, p_bigram,\\\n",
    "                               performance,\\\n",
    "                               similarity_c_c, similarity_c_l,\\\n",
    "                               distance_level_0, distance_level_1,\\\n",
    "                               ergonomics)"
   ]
  },
  {
   "cell_type": "code",
   "execution_count": 11,
   "metadata": {
    "collapsed": false,
    "scrolled": true
   },
   "outputs": [],
   "source": [
    "F = quicksum(\n",
    "            #if that character was previously not on azerty, distance is 0.\n",
    "            p_single[c] * distance_level_1.get((s, azerty.get(c,\"NaN\")),0) \\\n",
    "                 for c in characters for s in keyslots\n",
    "        )"
   ]
  },
  {
   "cell_type": "code",
   "execution_count": null,
   "metadata": {
    "collapsed": false
   },
   "outputs": [],
   "source": [
    "azerty.get[c,\"NaN\"]"
   ]
  },
  {
   "cell_type": "code",
   "execution_count": null,
   "metadata": {
    "collapsed": false
   },
   "outputs": [],
   "source": []
  },
  {
   "cell_type": "markdown",
   "metadata": {},
   "source": [
    "# Notes:\n",
    "how to encode properly to utf-8 such that you can write it to file:"
   ]
  },
  {
   "cell_type": "code",
   "execution_count": 28,
   "metadata": {
    "collapsed": true
   },
   "outputs": [],
   "source": [
    "foo = u'Δ, Й, ק, ‎ م, ๗, あ, 叶, 葉, and 말.'\n",
    "f = open('test', 'w')\n",
    "f.write(foo.encode('utf8'))\n",
    "f.close()"
   ]
  },
  {
   "cell_type": "code",
   "execution_count": null,
   "metadata": {
    "collapsed": true
   },
   "outputs": [],
   "source": []
  }
 ],
 "metadata": {
  "kernelspec": {
   "display_name": "Python 2",
   "language": "python",
   "name": "python2"
  },
  "language_info": {
   "codemirror_mode": {
    "name": "ipython",
    "version": 2
   },
   "file_extension": ".py",
   "mimetype": "text/x-python",
   "name": "python",
   "nbconvert_exporter": "python",
   "pygments_lexer": "ipython2",
   "version": "2.7.11"
  }
 },
 "nbformat": 4,
 "nbformat_minor": 0
}
