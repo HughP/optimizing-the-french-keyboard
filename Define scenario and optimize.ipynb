{
 "cells": [
  {
   "cell_type": "markdown",
   "metadata": {},
   "source": [
    "### <i>Note: this source code is also available in main.py</i>"
   ]
  },
  {
   "cell_type": "code",
   "execution_count": 1,
   "metadata": {
    "collapsed": false
   },
   "outputs": [
    {
     "name": "stderr",
     "output_type": "stream",
     "text": [
      "C:\\Users\\feita1\\Python_Anaconda\\lib\\site-packages\\matplotlib\\__init__.py:872: UserWarning: axes.color_cycle is deprecated and replaced with axes.prop_cycle; please use the latter.\n",
      "  warnings.warn(self.msg_depr % (key, alt_key))\n"
     ]
    }
   ],
   "source": [
    "# -*- coding: utf-8 -*-\n",
    "from objectives import * \n",
    "from read_input import *\n",
    "from plotting import *\n",
    "from reformulation_input import *\n",
    "from evaluate_reformualtion_solution import * \n",
    "\n",
    "%matplotlib inline\n",
    "PYTHONIOENCODING=\"utf-8\"\n"
   ]
  },
  {
   "cell_type": "markdown",
   "metadata": {
    "collapsed": true
   },
   "source": [
    "### Define the scenario and optimize the keyboard\n",
    "Here you can define: \n",
    "- the weights for each objective\n",
    "- the <code>level cost</code> used in familiarity objective\n",
    "\n",
    "In addition, the system will use the following input files from folder <code>input </code>:\n",
    "\n",
    "##### If you want to use a different file, you can change the path in \"read_input.py\". For the new file, make sure to keep everything in the same format, in particular with respects to separators (mostly space, but please check). </i>\n",
    "\n",
    "<code>azerty.csv </code><br>\n",
    "<i> Do not change. </i>Defines the location of each character on the current azerty layout. Used in familiarity score.\n",
    "\n",
    "<code>numbers.csv </code><br>\n",
    "<i> Can be changed. </i>Defines the keys that are reserved for numbers. Change to fix the numbers to other keyslots (e.g. unshifted) or add other fixed characters. Characters added here will be fixed to the given keyslot and not considered in the optimization (also not influence the location of other keys).\n",
    "\n",
    "<code>characters.txt </code><br>\n",
    "<i> Can be changed. </i>A list of characters that should be mapped on the keyboard. Remove or add characters as you like. If you add a character, ensure that its probability and similarity scores are defined.\n",
    "**Do not add characters from the alphabet or space.**\n",
    "\n",
    "<code>variable_slots.csv </code><br>\n",
    "A list of all free slots to which the characters can be assigned during optimization. Usually this file does not need to be changed. Any character you want to fix you can add to <code>numbers.csv</code> and will be automatically removed from this list. However, if you want to completely remove a slot from the optimization, you can do it here (e.g. <code>A03_Alt</code> to not allow any assignment to <code>Alt + Space</code>)\n",
    "\n",
    "<code>letters.txt </code><br>\n",
    "<i> Do not change. </i>A list of letters that are fixed on the keyboard according to the azerty layout (<code>azerty.csv </code>). Characters are optimized in relation to these fixed letters. Our collected data (e.g. performance data) does not allow to change this set. If you want to fix a character to a certain key, remove that character from the <code>characters.txt </code> and add it to <code>numbers.csv </code><br>. Then the key won't be considered by the optimization. However, it will also not influence the assignment of other keys\n",
    "\n",
    "<code>distance.xlsx </code><br>\n",
    "<i> Can be changed. </i>Matrix that defines the distance between two keyslots as the sum of row and column distance. An extra level cost (Shift, Alt, Alt+Shift) is taken into account in the familiarity score and can be defined in the scenario. The distance is normalized to [0,1] when reading the distance matrix. \n",
    "\n",
    "<code>similarity_c_c_binary.xlsx</code> and <code>similarity_c_l.xlsx</code><br>\n",
    "<i> Can be changed. </i>Matrix that defines the similarity between two characters or for a character-letter pair. The similarity is given between 0 and 1. This is a symmetric score, and the value should only be filled once!\n",
    "\n",
    "<code>performance.csv</code><br>\n",
    "<i> Can be changed. </i> Defines the performance of a transition between two keys. \n",
    "\n",
    "<code>ergonomics_antti.csv</code><br>\n",
    "<i> Can be changed. </i> Defines the ergonomics value for of a transition between two keys, as given by Antti.\n",
    "\n",
    "<code>frequency_letters_bepo.csv</code><br>\n",
    "<i> Can be changed. </i> Defines the frequency of each letter, here as used by the bepo guys. The code takes care of deadkeys. \n",
    "\n",
    "<code>frequency_bigrams_bepo.csv</code><br>\n",
    "<i> Can be changed. </i> Defines the frequency of each bigram, here as used by the bepo guys. The code takes care of deadkeys. \n",
    "\n",
    "<code>all_slots.txt</code><br>\n",
    "<i> Do not change. </i> Contains all keyboard slots. Only relevant for plotting. "
   ]
  },
  {
   "cell_type": "code",
   "execution_count": 2,
   "metadata": {
    "collapsed": false
   },
   "outputs": [],
   "source": [
    "#Define the weights for:\n",
    "#w_p: Performance\n",
    "#w_a: Association\n",
    "#w_f: Familiarity\n",
    "#w_e: Ergonomics\n",
    "w_p, w_a, w_f, w_e = [1.0, 0.0,0.0,0.0]\n",
    "\n",
    "#Define weights for the frequency distributions coming from different corpora\n",
    "corpus_weights = {\"formal\":0.5, \"twitter\":0.3, \"code\":0.2}\n",
    "\n",
    "scenario=\"scenario3\"\n",
    "\n",
    "#Define the extra cost for the level of the keyslot added when computing the distance between two keyslots. \n",
    "# This is used in familiarity score to punish the assignment to other levels as used on azerty.\n",
    "#Example: \n",
    "#level_cost = {u'':0, u'Shift':1, u'Alt':2, u'Alt_Shift':3}\n",
    "#distance[E_00, E_00_Alt] = 2\n",
    "#distance[E_00_Shift, E_00_Alt] = 1\n",
    "level_cost = {u'':0, u'Shift':1, u'Alt':2, u'Alt_Shift':3}\n",
    "\n",
    "#Define the scenario\n",
    "set_scenario_files(scenario)\n"
   ]
  },
  {
   "cell_type": "markdown",
   "metadata": {},
   "source": [
    "### Create input for reformulation\n",
    "In order for it to run fast, we need to reformulate the problem to the kaufmann-broekx reformulation. The reformulation itself is done with the C++ code provided by Andreas Karrenbauer. Here, we only prepare the input file for this code. "
   ]
  },
  {
   "cell_type": "code",
   "execution_count": 7,
   "metadata": {
    "collapsed": false,
    "scrolled": true
   },
   "outputs": [
    {
     "name": "stdout",
     "output_type": "stream",
     "text": [
      "read in: characters, keyslots and letters\n",
      "read in: similarity values\n",
      "read in: distance values\n",
      "weighting corpora\n",
      "weighting corpora\n",
      "weighting corpora\n",
      "Done reading input values.\n",
      "Done.\n"
     ]
    }
   ],
   "source": [
    "create_reformulation_input(w_p, w_a, w_f, w_e, level_cost, corpus_weights, scenario+\"_even\")"
   ]
  },
  {
   "cell_type": "code",
   "execution_count": 10,
   "metadata": {
    "collapsed": false
   },
   "outputs": [
    {
     "data": {
      "text/plain": [
       "[u'E00',\n",
       " u'E00_Shift',\n",
       " u'E00_Alt',\n",
       " u'E00_Alt_Shift',\n",
       " u'E01',\n",
       " u'E01_Alt',\n",
       " u'E01_Alt_Shift',\n",
       " u'E02',\n",
       " u'E02_Alt',\n",
       " u'E02_Alt_Shift',\n",
       " u'E03',\n",
       " u'E03_Alt',\n",
       " u'E03_Alt_Shift',\n",
       " u'E04',\n",
       " u'E04_Alt',\n",
       " u'E04_Alt_Shift',\n",
       " u'E05',\n",
       " u'E05_Alt',\n",
       " u'E05_Alt_Shift',\n",
       " u'E06',\n",
       " u'E06_Alt',\n",
       " u'E06_Alt_Shift',\n",
       " u'E07',\n",
       " u'E07_Alt',\n",
       " u'E07_Alt_Shift',\n",
       " u'E08',\n",
       " u'E08_Alt',\n",
       " u'E08_Alt_Shift',\n",
       " u'E09',\n",
       " u'E09_Alt',\n",
       " u'E09_Alt_Shift',\n",
       " u'E10',\n",
       " u'E10_Alt',\n",
       " u'E10_Alt_Shift',\n",
       " u'E11',\n",
       " u'E11_Shift',\n",
       " u'E11_Alt',\n",
       " u'E11_Alt_Shift',\n",
       " u'E12',\n",
       " u'E12_Shift',\n",
       " u'E12_Alt',\n",
       " u'E12_Alt_Shift',\n",
       " u'D01_Alt',\n",
       " u'D01_Alt_Shift',\n",
       " u'D02_Alt',\n",
       " u'D02_Alt_Shift',\n",
       " u'D03_Alt_Shift',\n",
       " u'D04_Alt',\n",
       " u'D04_Alt_Shift',\n",
       " u'D05_Alt',\n",
       " u'D05_Alt_Shift',\n",
       " u'D06_Alt',\n",
       " u'D06_Alt_Shift',\n",
       " u'D07_Alt',\n",
       " u'D07_Alt_Shift',\n",
       " u'D08_Alt',\n",
       " u'D08_Alt_Shift',\n",
       " u'D09_Alt',\n",
       " u'D09_Alt_Shift',\n",
       " u'D10_Alt',\n",
       " u'D10_Alt_Shift',\n",
       " u'D11',\n",
       " u'D11_Shift',\n",
       " u'D11_Alt',\n",
       " u'D11_Alt_Shift',\n",
       " u'D12',\n",
       " u'D12_Shift',\n",
       " u'D12_Alt',\n",
       " u'D12_Alt_Shift',\n",
       " u'C01_Alt',\n",
       " u'C01_Alt_Shift',\n",
       " u'C02_Alt',\n",
       " u'C02_Alt_Shift',\n",
       " u'C03_Alt',\n",
       " u'C03_Alt_Shift',\n",
       " u'C04_Alt',\n",
       " u'C04_Alt_Shift',\n",
       " u'C05_Alt',\n",
       " u'C05_Alt_Shift',\n",
       " u'C06_Alt',\n",
       " u'C06_Alt_Shift',\n",
       " u'C07_Alt',\n",
       " u'C07_Alt_Shift',\n",
       " u'C08_Alt',\n",
       " u'C08_Alt_Shift',\n",
       " u'C09_Alt',\n",
       " u'C09_Alt_Shift',\n",
       " u'C10_Alt',\n",
       " u'C10_Alt_Shift',\n",
       " u'C11',\n",
       " u'C11_Shift',\n",
       " u'C11_Alt',\n",
       " u'C11_Alt_Shift',\n",
       " u'C12',\n",
       " u'C12_Shift',\n",
       " u'C12_Alt',\n",
       " u'C12_Alt_Shift',\n",
       " u'B00',\n",
       " u'B00_Shift',\n",
       " u'B00_Alt',\n",
       " u'B00_Alt_Shift',\n",
       " u'B01_Alt',\n",
       " u'B01_Alt_Shift',\n",
       " u'B02_Alt',\n",
       " u'B02_Alt_Shift',\n",
       " u'B03_Alt',\n",
       " u'B03_Alt_Shift',\n",
       " u'B04_Alt',\n",
       " u'B04_Alt_Shift',\n",
       " u'B05_Alt',\n",
       " u'B05_Alt_Shift',\n",
       " u'B06_Alt',\n",
       " u'B06_Alt_Shift',\n",
       " u'B07',\n",
       " u'B07_Shift',\n",
       " u'B07_Alt',\n",
       " u'B07_Alt_Shift',\n",
       " u'B08',\n",
       " u'B08_Shift',\n",
       " u'B08_Alt',\n",
       " u'B08_Alt_Shift',\n",
       " u'B09',\n",
       " u'B09_Shift',\n",
       " u'B09_Alt',\n",
       " u'B09_Alt_Shift',\n",
       " u'B10',\n",
       " u'B10_Shift',\n",
       " u'B10_Alt',\n",
       " u'B10_Alt_Shift']"
      ]
     },
     "execution_count": 10,
     "metadata": {},
     "output_type": "execute_result"
    }
   ],
   "source": [
    "keyslots = get_keyslots()\n",
    "keyslots"
   ]
  },
  {
   "cell_type": "markdown",
   "metadata": {},
   "source": [
    "# <font color=\"red\">Attention: now switch to C++ </font>\n",
    "Before continuing, switch to C++ program in <code>\"reformulation\"</code> folder and run ./kaufmanbroeckx > reformulation_input.txt > reformulation.lp with a c++ compiler. \n",
    "\n",
    "If you switched to another computer for that, copy the prodcued file in the <code>\"reformulation\"</code> folder.\n"
   ]
  },
  {
   "cell_type": "markdown",
   "metadata": {},
   "source": [
    "If you don't want to use the console, continue here. This will do the same as <code>\"main_optimize_reformulation.py\"</code>\n",
    "### Optimize reformulation\n",
    "Note: reformulation.lp must be created by Andreas' C++ code prior to calling the optimization.\n",
    "\n",
    "Runs the optimization and saves the global optimum to a file. \n",
    "Also saves intermediate solutions to the <code> mappings </code> folder\n",
    "\n",
    "##### <font color=\"red\">Switch to console for faster execution, and skip the code below.</font>\n",
    "I believe that solving the problem is faster in the console than in Ipython due to parallelism. Therefore, continue with running\n",
    "##### <code>main_optimize_reformulation.py</code> \n",
    "in the console. Make sure to edit the file accordingly, if you have changed the weights above.\n",
    "\n",
    "If you don't want to use the console, uncomment the lines below and continue here. This will do the same as <code>\"main_optimize_reformulation.py\"</code>"
   ]
  },
  {
   "cell_type": "code",
   "execution_count": null,
   "metadata": {
    "collapsed": false
   },
   "outputs": [],
   "source": [
    "#from optimize import *\n",
    "#model, mapping = optimize_reformulation(\"reformulation\\\\reformulation.lp\")\n",
    "#plot_mapping(mapping, plotname=\"optimum.png\", w_p=w_p, w_a=w_a, w_f=w_f, w_e=w_e, level_cost=level_cost, quadratic=1)"
   ]
  },
  {
   "cell_type": "markdown",
   "metadata": {},
   "source": [
    "### If you have stopped the optimization before it terminated:\n",
    "The third last column (or so) in the console output gives you the Gap between the score of the current best solution and the global optimum. You can probably stop the code after one day of running, if the gap is below 1% or so. \n",
    "\n",
    "Then run the following code to :\n",
    "- put the best found mapping in a human readable format that can also be easily modified, and\n",
    "- produce the graph with objectives\n",
    "\n",
    "Output will be stored in the <code> mappings </code> folder"
   ]
  },
  {
   "cell_type": "code",
   "execution_count": 3,
   "metadata": {
    "collapsed": false,
    "scrolled": true
   },
   "outputs": [
    {
     "name": "stdout",
     "output_type": "stream",
     "text": [
      "{u\"c'h\": u'E00', u'\\u2030': u'B03_Alt', u'...': u'D01_Alt_Shift', u'\\u2264': u'D03_Alt_Shift', u'\\u030fd': u'C01_Alt_Shift', u'\\u20ac': u'E11_Alt_Shift', u'\\xf0': u'E10_Alt_Shift', u'\\xde': u'B05_Alt_Shift', u'{': u'B08_Alt', u'~d': u'C03_Alt_Shift', u'\\xa8d': u'E11_Alt', u\"C'h\": u'E03_Alt', u'!': u'E11_Shift', u'#': u'C08_Alt_Shift', u'\"': u'B08_Shift', u'%': u'B00_Alt_Shift', u'$': u'D07_Alt_Shift', u\"'\": u'B09', u'&': u'E05_Alt_Shift', u')': u'E07_Alt_Shift', u'(': u'B09_Alt', u'\\xab': u'E11', u'*': u'B05_Alt', u'-': u'B02_Alt', u',': u'B04_Alt_Shift', u'/': u'B09_Shift', u'.': u'D10_Alt', u'\\xb1': u'E00_Shift', u'\\u02ddd': u'C12_Alt', u'\\xb2': u'E10', u'\\xb5': u'E01_Alt', u'_': u'D08_Alt', u'\\u02dbd': u'D04_Alt', u'\\\\': u'D12_Shift', u';': u'D08_Alt_Shift', u':': u'C08_Alt', u'=': u'E06_Alt', u'<': u'D12', u'?': u'C09_Alt_Shift', u'>': u'D12_Alt', u'\\xc0': u'B04_Alt', u'`d': u'C11_Shift', u'\\xc6': u'D12_Alt_Shift', u'\\xc9': u'E08_Alt', u'\\xa3': u'B08_Alt_Shift', u'\\xb8d': u'C02_Alt_Shift', u'\\xa1': u'C12_Alt_Shift', u'\\xd0': u'E09_Alt', u'\\u0153': u'D11_Shift', u'\\u0152': u'E12_Alt_Shift', u'\\xd7': u'E09_Alt_Shift', u'@': u'C11', u'\\xd8': u'E12', u'[': u'E12_Shift', u']': u'C07_Alt_Shift', u'\\xbb': u'B07_Alt', u'\\xdf': u'C10_Alt_Shift', u'\\xa4': u'E03_Alt_Shift', u'\\xe0': u'D02_Alt', u'\\u2265': u'E06', u'\\xa7': u'C05_Alt', u'\\xe7': u'C07_Alt', u'\\xe6': u'C11_Alt_Shift', u'\\xe9': u'E07_Alt', u'}': u'B00_Shift', u'\\xa6': u'B07', u'\\u02d8d': u'E09', u'|': u'C03_Alt', u'\\u02dad': u'E08', u'\\u02c7d': u'D05_Alt', u\"C'H\": u'E07', u'\\xbf': u'E06_Alt_Shift', u'\\xf7': u'E08_Alt_Shift', u'\\u2260': u'D11_Alt', u'\\xf8': u'E02_Alt', u'\\xb4d': u'C12', u'\\xfe': u'B07_Shift', u'^d': u'E10_Alt', u'+': u'C06_Alt_Shift', u'~': u'C12_Shift'}\n",
      "read in: characters, keyslots and letters\n",
      "read in: similarity values\n",
      "read in: distance values\n",
      "weighting corpora\n",
      "weighting corpora\n",
      "weighting corpora\n",
      "Done reading input values.\n",
      "¦ not in the to-be-mapped character set\n",
      "c'h not in the to-be-mapped character set\n",
      "̏d not in the to-be-mapped character set\n",
      "˚d not in the to-be-mapped character set\n",
      "\" not in the to-be-mapped character set\n",
      "' not in the to-be-mapped character set\n",
      "€ not in the to-be-mapped character set\n",
      "² not in the to-be-mapped character set\n",
      "µ not in the to-be-mapped character set\n",
      "... not in the to-be-mapped character set\n",
      "`d not in the to-be-mapped character set\n",
      "Ø not in the to-be-mapped character set\n",
      "C'h not in the to-be-mapped character set\n",
      "C'H not in the to-be-mapped character set\n",
      "ø not in the to-be-mapped character set\n",
      "~ not in the to-be-mapped character set\n",
      "ð: 0.138176\n",
      "~d: 0.134569\n",
      "#: 0.011294\n",
      "¸d: 0.036743\n",
      "œ: 0.080406\n",
      "@: 0.288087\n",
      "ß: 0.253268\n",
      "à: 0.047533\n",
      "ç: 0.119552\n",
      "æ: 0.499983\n",
      "é: 0.470722\n",
      "þ: 0.139777\n",
      "linear Association: 2.2201\n",
      "(, {: 0.022430\n",
      "!, ¡: 0.033267\n",
      "÷, ×: 0.000005\n",
      "˘d, ˇd: 0.000169\n",
      "(, ): 0.180607\n",
      ",, ;: 0.294474\n",
      "(, [: 0.121725\n",
      "*, ×: 0.016608\n",
      "é, É: 0.055422\n",
      "=, ≠: 0.051168\n",
      "«, »: 0.020890\n",
      "´d, é: 0.382794\n",
      "ð, Ð: 0.000001\n",
      "/, ÷: 0.170908\n",
      ";, :: 0.041943\n",
      "[, {: 0.051289\n",
      "%, ‰: 0.005897\n",
      "æ, Æ: 0.000010\n",
      "¸d, ç: 0.007346\n",
      "?, ¿: 0.006301\n",
      "-, +: 0.098735\n",
      "œ, Œ: 0.000548\n",
      "/, \\: 0.220238\n",
      ";, .: 0.133333\n",
      "], }: 0.059174\n",
      ">, ≥: 0.015818\n",
      "{, }: 0.075751\n",
      "[, ]: 0.036784\n",
      "þ, Þ: 0.000001\n",
      "¨d, ^d: 0.006655\n",
      "), }: 0.231600\n",
      "±, =: 0.051178\n",
      "¸d, ˛d: 0.000024\n",
      "à, À: 0.042670\n",
      "+, ±: 0.018026\n",
      "<, ≤: 0.011974\n",
      "≤, ≥: 0.000001\n",
      "), ]: 0.042178\n",
      "quadratic Association: 2.5079\n"
     ]
    },
    {
     "data": {
      "image/png": "[encoded data removed]",
      "text/plain": [
       "<matplotlib.figure.Figure at 0x3a80da0>"
      ]
     },
     "metadata": {},
     "output_type": "display_data"
    }
   ],
   "source": [
    "evaluate_optimized_reformulation(w_p, w_a, w_f, w_e, level_cost, corpus_weights)"
   ]
  },
  {
   "cell_type": "code",
   "execution_count": null,
   "metadata": {
    "collapsed": false
   },
   "outputs": [],
   "source": []
  },
  {
   "cell_type": "code",
   "execution_count": null,
   "metadata": {
    "collapsed": false,
    "scrolled": true
   },
   "outputs": [],
   "source": [
    "\n"
   ]
  },
  {
   "cell_type": "markdown",
   "metadata": {},
   "source": [
    "### To compute the objectives for a given mapping:\n",
    "Given a mapping (dict from characters to keyslots) we can compute the values for each objective. \n",
    "The mapping can be given in form of a file path, either to a .txt file for which the format is \n",
    "\"letter key\"\n",
    "or to \".mst\" file created from optimizing the reformulation. "
   ]
  },
  {
   "cell_type": "code",
   "execution_count": 3,
   "metadata": {
    "collapsed": false,
    "scrolled": true
   },
   "outputs": [
    {
     "name": "stdout",
     "output_type": "stream",
     "text": [
      "mappings\\solution_2.3716_perf.mst\n",
      "read in: characters, keyslots and letters\n",
      "read in: similarity values\n",
      "read in: distance values\n",
      "weighting corpora\n",
      "weighting corpora\n",
      "weighting corpora\n",
      "Done reading input values.\n",
      "¦ not in the to-be-mapped character set\n",
      "c'h not in the to-be-mapped character set\n",
      "̏d not in the to-be-mapped character set\n",
      "˚d not in the to-be-mapped character set\n",
      "\" not in the to-be-mapped character set\n",
      "' not in the to-be-mapped character set\n",
      "€ not in the to-be-mapped character set\n",
      "² not in the to-be-mapped character set\n",
      "µ not in the to-be-mapped character set\n",
      "... not in the to-be-mapped character set\n",
      "`d not in the to-be-mapped character set\n",
      "Ø not in the to-be-mapped character set\n",
      "C'h not in the to-be-mapped character set\n",
      "C'H not in the to-be-mapped character set\n",
      "ø not in the to-be-mapped character set\n",
      "~ not in the to-be-mapped character set\n",
      "ð: 0.138176\n",
      "~d: 0.134569\n",
      "#: 0.011294\n",
      "¸d: 0.036743\n",
      "œ: 0.080406\n",
      "@: 0.288087\n",
      "ß: 0.253268\n",
      "à: 0.047533\n",
      "ç: 0.119552\n",
      "æ: 0.499983\n",
      "é: 0.470722\n",
      "þ: 0.139777\n",
      "linear Association: 2.2201\n",
      "(, {: 0.022430\n",
      "!, ¡: 0.033267\n",
      "÷, ×: 0.000005\n",
      "˘d, ˇd: 0.000169\n",
      "(, ): 0.180607\n",
      ",, ;: 0.294474\n",
      "(, [: 0.121725\n",
      "*, ×: 0.016608\n",
      "é, É: 0.055422\n",
      "=, ≠: 0.051168\n",
      "«, »: 0.020890\n",
      "´d, é: 0.382794\n",
      "ð, Ð: 0.000001\n",
      "/, ÷: 0.170908\n",
      ";, :: 0.041943\n",
      "[, {: 0.051289\n",
      "%, ‰: 0.005897\n",
      "æ, Æ: 0.000010\n",
      "¸d, ç: 0.007346\n",
      "?, ¿: 0.006301\n",
      "-, +: 0.098735\n",
      "œ, Œ: 0.000548\n",
      "/, \\: 0.220238\n",
      ";, .: 0.133333\n",
      "], }: 0.059174\n",
      ">, ≥: 0.015818\n",
      "{, }: 0.075751\n",
      "[, ]: 0.036784\n",
      "þ, Þ: 0.000001\n",
      "¨d, ^d: 0.006655\n",
      "), }: 0.231600\n",
      "±, =: 0.051178\n",
      "¸d, ˛d: 0.000024\n",
      "à, À: 0.042670\n",
      "+, ±: 0.018026\n",
      "<, ≤: 0.011974\n",
      "≤, ≥: 0.000001\n",
      "), ]: 0.042178\n",
      "quadratic Association: 2.5079\n"
     ]
    },
    {
     "data": {
      "image/png": "[encoded data removed]",
      "text/plain": [
       "<matplotlib.figure.Figure at 0x3a35470>"
      ]
     },
     "metadata": {},
     "output_type": "display_data"
    }
   ],
   "source": [
    "#You can directly use the plot_mapping function:\n",
    "path = \"mappings\\\\solution_2.3716_perf.mst\"\n",
    "plot_mapping(path, plotname=path+\".png\", w_p=w_p, w_a=w_a, w_f=w_f, w_e=w_e, level_cost=level_cost, \n",
    "             corpus_weights=corpus_weights, quadratic=1)      "
   ]
  },
  {
   "cell_type": "code",
   "execution_count": null,
   "metadata": {
    "collapsed": false,
    "scrolled": true
   },
   "outputs": [],
   "source": []
  },
  {
   "cell_type": "markdown",
   "metadata": {},
   "source": [
    "##### Evaluate the bépo layout in the same way\n",
    "we only plot azerty-like layouts at the moment, so we'll only compute the objective scores for bépo and write them out. \n",
    "\n",
    "Note: the <code> mappings </code> folder only contains the optimized mappings. Other layouts should be stored in <code> input/layouts </code>"
   ]
  },
  {
   "cell_type": "code",
   "execution_count": 4,
   "metadata": {
    "collapsed": false
   },
   "outputs": [
    {
     "name": "stdout",
     "output_type": "stream",
     "text": [
      "read in: characters, keyslots and letters\n",
      "read in: similarity values\n",
      "read in: distance values\n",
      "Done reading input values.\n",
      "˙ not in the to-be-mapped character set\n",
      "— not in the to-be-mapped character set\n",
      "‘ not in the to-be-mapped character set\n",
      "“ not in the to-be-mapped character set\n",
      "† not in the to-be-mapped character set\n",
      "™ not in the to-be-mapped character set\n",
      "¯d not in the to-be-mapped character set\n",
      "″ not in the to-be-mapped character set\n",
      "Ĳ not in the to-be-mapped character set\n",
      "4 not in the to-be-mapped character set\n",
      "· not in the to-be-mapped character set\n",
      "8 not in the to-be-mapped character set\n",
      "` not in the to-be-mapped character set\n",
      "d not in the to-be-mapped character set\n",
      "h not in the to-be-mapped character set\n",
      "l not in the to-be-mapped character set\n",
      "d^ not in the to-be-mapped character set\n",
      "p not in the to-be-mapped character set\n",
      "t not in the to-be-mapped character set\n",
      "x not in the to-be-mapped character set\n",
      "space not in the to-be-mapped character set\n",
      "¨ not in the to-be-mapped character set\n",
      "¬ not in the to-be-mapped character set\n",
      "° not in the to-be-mapped character set\n",
      "3 not in the to-be-mapped character set\n",
      "´ not in the to-be-mapped character set\n",
      "7 not in the to-be-mapped character set\n",
      "¼ not in the to-be-mapped character set\n",
      "c not in the to-be-mapped character set\n",
      "g not in the to-be-mapped character set\n",
      "è not in the to-be-mapped character set\n",
      "k not in the to-be-mapped character set\n",
      "o not in the to-be-mapped character set\n",
      "s not in the to-be-mapped character set\n",
      "w not in the to-be-mapped character set\n",
      "e not in the to-be-mapped character set\n",
      "Ə not in the to-be-mapped character set\n",
      "− not in the to-be-mapped character set\n",
      "„ not in the to-be-mapped character set\n",
      "0 not in the to-be-mapped character set\n",
      "© not in the to-be-mapped character set\n",
      "2 not in the to-be-mapped character set\n",
      "6 not in the to-be-mapped character set\n",
      "½ not in the to-be-mapped character set\n",
      "˙d not in the to-be-mapped character set\n",
      "Ù not in the to-be-mapped character set\n",
      "′ not in the to-be-mapped character set\n",
      "˝ not in the to-be-mapped character set\n",
      "… not in the to-be-mapped character set\n",
      "b not in the to-be-mapped character set\n",
      "f not in the to-be-mapped character set\n",
      "j not in the to-be-mapped character set\n",
      "n not in the to-be-mapped character set\n",
      "r not in the to-be-mapped character set\n",
      "v not in the to-be-mapped character set\n",
      "ù not in the to-be-mapped character set\n",
      "z not in the to-be-mapped character set\n",
      "’ not in the to-be-mapped character set\n",
      "” not in the to-be-mapped character set\n",
      "ẞ not in the to-be-mapped character set\n",
      "ª not in the to-be-mapped character set\n",
      "® not in the to-be-mapped character set\n",
      "1 not in the to-be-mapped character set\n",
      "ĳ not in the to-be-mapped character set\n",
      "5 not in the to-be-mapped character set\n",
      "¶ not in the to-be-mapped character set\n",
      "9 not in the to-be-mapped character set\n",
      "¾ not in the to-be-mapped character set\n",
      "‡ not in the to-be-mapped character set\n",
      "ə not in the to-be-mapped character set\n",
      "a not in the to-be-mapped character set\n",
      "i not in the to-be-mapped character set\n",
      "ê not in the to-be-mapped character set\n",
      "m not in the to-be-mapped character set\n",
      "q not in the to-be-mapped character set\n",
      "u not in the to-be-mapped character set\n",
      "y not in the to-be-mapped character set\n",
      "ſ not in the to-be-mapped character set\n",
      "€: 0.168954\n",
      "$: 0.094522\n",
      "@: 0.132150\n",
      "Œ: 0.170856\n",
      "ß: 0.287532\n",
      "ç: 0.198525\n"
     ]
    },
    {
     "ename": "KeyError",
     "evalue": "(u';', u'C05_Shift')",
     "output_type": "error",
     "traceback": [
      "\u001b[1;31m---------------------------------------------------------------------------\u001b[0m",
      "\u001b[1;31mKeyError\u001b[0m                                  Traceback (most recent call last)",
      "\u001b[1;32m<ipython-input-4-93e3d8b58440>\u001b[0m in \u001b[0;36m<module>\u001b[1;34m()\u001b[0m\n\u001b[0;32m      1\u001b[0m \u001b[0mpath\u001b[0m \u001b[1;33m=\u001b[0m \u001b[1;34m\"input\\\\layouts\\\\bepo.txt\"\u001b[0m\u001b[1;33m\u001b[0m\u001b[0m\n\u001b[0;32m      2\u001b[0m \u001b[0mmapping\u001b[0m \u001b[1;33m=\u001b[0m \u001b[0mcreate_map_from_txt\u001b[0m\u001b[1;33m(\u001b[0m\u001b[0mpath\u001b[0m\u001b[1;33m)\u001b[0m\u001b[1;33m\u001b[0m\u001b[0m\n\u001b[1;32m----> 3\u001b[1;33m \u001b[0mobjective\u001b[0m\u001b[1;33m,\u001b[0m \u001b[0mp\u001b[0m\u001b[1;33m,\u001b[0m \u001b[0ma\u001b[0m\u001b[1;33m,\u001b[0m \u001b[0mf\u001b[0m\u001b[1;33m,\u001b[0m \u001b[0me\u001b[0m \u001b[1;33m=\u001b[0m \u001b[0mget_objectives\u001b[0m\u001b[1;33m(\u001b[0m\u001b[0mmapping\u001b[0m\u001b[1;33m,\u001b[0m \u001b[0mw_p\u001b[0m\u001b[1;33m,\u001b[0m \u001b[0mw_a\u001b[0m\u001b[1;33m,\u001b[0m \u001b[0mw_f\u001b[0m\u001b[1;33m,\u001b[0m \u001b[0mw_e\u001b[0m\u001b[1;33m,\u001b[0m \u001b[0mlevel_cost\u001b[0m\u001b[1;33m,\u001b[0m \u001b[0mquadratic\u001b[0m\u001b[1;33m=\u001b[0m\u001b[1;36m1\u001b[0m\u001b[1;33m)\u001b[0m\u001b[1;33m\u001b[0m\u001b[0m\n\u001b[0m\u001b[0;32m      4\u001b[0m \u001b[1;32mprint\u001b[0m \u001b[1;34m\"Bépo score: %f\\n Performance: %f\\n Association: %f\\n Familiarity: %f\\n Ergonomics: %f\\n\"\u001b[0m\u001b[1;33m%\u001b[0m\u001b[1;33m(\u001b[0m\u001b[0mobjective\u001b[0m\u001b[1;33m,\u001b[0m \u001b[0mp\u001b[0m\u001b[1;33m,\u001b[0m \u001b[0ma\u001b[0m\u001b[1;33m,\u001b[0m \u001b[0mf\u001b[0m\u001b[1;33m,\u001b[0m \u001b[0me\u001b[0m\u001b[1;33m)\u001b[0m\u001b[1;33m\u001b[0m\u001b[0m\n",
      "\u001b[1;32mD:\\Anna\\python\\optimizing-the-french-keyboard\\objectives.py\u001b[0m in \u001b[0;36mget_objectives\u001b[1;34m(mapping, w_p, w_a, w_f, w_e, level_cost, quadratic)\u001b[0m\n\u001b[0;32m     28\u001b[0m                                \u001b[0msimilarity_c_c\u001b[0m\u001b[1;33m,\u001b[0m \u001b[0msimilarity_c_l\u001b[0m\u001b[1;33m,\u001b[0m\u001b[0;31m\\\u001b[0m\u001b[1;33m\u001b[0m\u001b[0m\n\u001b[0;32m     29\u001b[0m                                \u001b[0mdistance_level_0\u001b[0m\u001b[1;33m,\u001b[0m \u001b[0mdistance_level_1\u001b[0m\u001b[1;33m,\u001b[0m\u001b[0;31m\\\u001b[0m\u001b[1;33m\u001b[0m\u001b[0m\n\u001b[1;32m---> 30\u001b[1;33m                                ergonomics, quadratic=quadratic)\n\u001b[0m\u001b[0;32m     31\u001b[0m \u001b[1;33m\u001b[0m\u001b[0m\n\u001b[0;32m     32\u001b[0m def _get_objectives(mapping, w_p, w_a, w_f, w_e,\\\n",
      "\u001b[1;32mD:\\Anna\\python\\optimizing-the-french-keyboard\\objectives.py\u001b[0m in \u001b[0;36m_get_objectives\u001b[1;34m(mapping, w_p, w_a, w_f, w_e, azerty, characters, keyslots, letters, p_single, p_bigram, performance, similarity_c_c, similarity_c_l, distance_level_0, distance_level_1, ergonomics, quadratic)\u001b[0m\n\u001b[0;32m     66\u001b[0m     \u001b[0mE\u001b[0m\u001b[1;33m=\u001b[0m\u001b[1;36m0\u001b[0m\u001b[1;33m\u001b[0m\u001b[0m\n\u001b[0;32m     67\u001b[0m     \u001b[1;32mfor\u001b[0m \u001b[0mc\u001b[0m\u001b[1;33m,\u001b[0m \u001b[0ms\u001b[0m \u001b[1;32min\u001b[0m \u001b[0mmapping\u001b[0m\u001b[1;33m.\u001b[0m\u001b[0miteritems\u001b[0m\u001b[1;33m(\u001b[0m\u001b[1;33m)\u001b[0m\u001b[1;33m:\u001b[0m\u001b[1;33m\u001b[0m\u001b[0m\n\u001b[1;32m---> 68\u001b[1;33m         \u001b[0mP\u001b[0m\u001b[1;33m+=\u001b[0m\u001b[0mx_P\u001b[0m\u001b[1;33m[\u001b[0m\u001b[0mc\u001b[0m\u001b[1;33m,\u001b[0m\u001b[0ms\u001b[0m\u001b[1;33m]\u001b[0m\u001b[1;33m\u001b[0m\u001b[0m\n\u001b[0m\u001b[0;32m     69\u001b[0m         \u001b[0mA\u001b[0m\u001b[1;33m+=\u001b[0m\u001b[0mx_A\u001b[0m\u001b[1;33m[\u001b[0m\u001b[0mc\u001b[0m\u001b[1;33m,\u001b[0m\u001b[0ms\u001b[0m\u001b[1;33m]\u001b[0m\u001b[1;33m\u001b[0m\u001b[0m\n\u001b[0;32m     70\u001b[0m         \u001b[1;32mif\u001b[0m \u001b[0mx_A\u001b[0m\u001b[1;33m[\u001b[0m\u001b[0mc\u001b[0m\u001b[1;33m,\u001b[0m\u001b[0ms\u001b[0m\u001b[1;33m]\u001b[0m\u001b[1;33m>\u001b[0m\u001b[1;36m0\u001b[0m\u001b[1;33m:\u001b[0m\u001b[1;33m\u001b[0m\u001b[0m\n",
      "\u001b[1;31mKeyError\u001b[0m: (u';', u'C05_Shift')"
     ]
    }
   ],
   "source": [
    "path = \"input\\\\layouts\\\\bepo.txt\"\n",
    "mapping = create_map_from_txt(path)\n",
    "objective, p, a, f, e = get_objectives(mapping, w_p, w_a, w_f, w_e, level_cost, corpus_weights, quadratic=1)\n",
    "print \"Bépo score: %f\\n Performance: %f\\n Association: %f\\n Familiarity: %f\\n Ergonomics: %f\\n\"%(objective, p, a, f, e)"
   ]
  },
  {
   "cell_type": "markdown",
   "metadata": {},
   "source": [
    "##### Note if you want to evaluate azerty, please use the <code> get_azerty() </code> method to get the corresponding mapping: "
   ]
  },
  {
   "cell_type": "code",
   "execution_count": null,
   "metadata": {
    "collapsed": false,
    "scrolled": true
   },
   "outputs": [],
   "source": [
    "mapping = get_azerty()\n",
    "plot_mapping(mapping, plotname=\"azerty.png\", w_p=w_p, w_a=w_a, w_f=w_f, w_e=w_e, level_cost=level_cost, quadratic=1)      \n"
   ]
  },
  {
   "cell_type": "code",
   "execution_count": 1,
   "metadata": {
    "collapsed": false
   },
   "outputs": [],
   "source": []
  },
  {
   "cell_type": "code",
   "execution_count": null,
   "metadata": {
    "collapsed": false
   },
   "outputs": [],
   "source": []
  },
  {
   "cell_type": "code",
   "execution_count": null,
   "metadata": {
    "collapsed": true
   },
   "outputs": [],
   "source": []
  }
 ],
 "metadata": {
  "kernelspec": {
   "display_name": "Python 2",
   "language": "python",
   "name": "python2"
  },
  "language_info": {
   "codemirror_mode": {
    "name": "ipython",
    "version": 2
   },
   "file_extension": ".py",
   "mimetype": "text/x-python",
   "name": "python",
   "nbconvert_exporter": "python",
   "pygments_lexer": "ipython2",
   "version": "2.7.11"
  }
 },
 "nbformat": 4,
 "nbformat_minor": 0
}
