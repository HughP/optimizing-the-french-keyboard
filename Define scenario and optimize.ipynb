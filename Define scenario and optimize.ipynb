{
 "cells": [
  {
   "cell_type": "markdown",
   "metadata": {},
   "source": [
    "### <i>Note: this source code is also available in main.py</i>"
   ]
  },
  {
   "cell_type": "code",
   "execution_count": 1,
   "metadata": {
    "collapsed": false
   },
   "outputs": [
    {
     "name": "stderr",
     "output_type": "stream",
     "text": [
      "D:\\Software\\Anaconda2\\lib\\site-packages\\matplotlib\\__init__.py:872: UserWarning: axes.color_cycle is deprecated and replaced with axes.prop_cycle; please use the latter.\n",
      "  warnings.warn(self.msg_depr % (key, alt_key))\n"
     ]
    }
   ],
   "source": [
    "# -*- coding: utf-8 -*-\n",
    "from objectives import * \n",
    "from read_input import *\n",
    "from plotting import *\n",
    "from reformulation_input import *\n",
    "from evaluate_reformualtion_solution import * \n",
    "\n",
    "%matplotlib inline\n",
    "PYTHONIOENCODING=\"utf-8\""
   ]
  },
  {
   "cell_type": "markdown",
   "metadata": {
    "collapsed": true
   },
   "source": [
    "### Define the scenario and optimize the keyboard\n",
    "Here you can define: \n",
    "- the weights for each objective\n",
    "- the <code>level cost</code> used in familiarity objective\n",
    "\n",
    "In addition, the system will use the following input files from folder <code>input </code>:\n",
    "\n",
    "##### If you want to use a different file, you can change the path in \"read_input.py\". For the new file, make sure to keep everything in the same format, in particular with respects to separators (mostly space, but please check). </i>\n",
    "\n",
    "<code>azerty.csv </code><br>\n",
    "<i> Do not change. </i>Defines the location of each character on the current azerty layout. Used in familiarity score.\n",
    "\n",
    "<code>numbers.csv </code><br>\n",
    "<i> Can be changed. </i>Defines the keys that are reserved for numbers. Change to fix the numbers to other keyslots (e.g. unshifted) or add other fixed characters. Characters added here will be fixed to the given keyslot and not considered in the optimization (also not influence the location of other keys).\n",
    "\n",
    "<code>characters.txt </code><br>\n",
    "<i> Can be changed. </i>A list of characters that should be mapped on the keyboard. Remove or add characters as you like. If you add a character, ensure that its probability and similarity scores are defined.\n",
    "**Do not add characters from the alphabet or space.**\n",
    "\n",
    "<code>variable_slots.csv </code><br>\n",
    "A list of all free slots to which the characters can be assigned during optimization. Usually this file does not need to be changed. Any character you want to fix you can add to <code>numbers.csv</code> and will be automatically removed from this list. However, if you want to completely remove a slot from the optimization, you can do it here (e.g. <code>A03_Alt</code> to not allow any assignment to <code>Alt + Space</code>)\n",
    "\n",
    "<code>letters.txt </code><br>\n",
    "<i> Do not change. </i>A list of letters that are fixed on the keyboard according to the azerty layout (<code>azerty.csv </code>). Characters are optimized in relation to these fixed letters. Our collected data (e.g. performance data) does not allow to change this set. If you want to fix a character to a certain key, remove that character from the <code>characters.txt </code> and add it to <code>numbers.csv </code><br>. Then the key won't be considered by the optimization. However, it will also not influence the assignment of other keys\n",
    "\n",
    "<code>distance.xlsx </code><br>\n",
    "<i> Can be changed. </i>Matrix that defines the distance between two keyslots as the sum of row and column distance. An extra level cost (Shift, Alt, Alt+Shift) is taken into account in the familiarity score and can be defined in the scenario. The distance is normalized to [0,1] when reading the distance matrix. \n",
    "\n",
    "<code>similarity_c_c_binary.xlsx</code> and <code>similarity_c_l.xlsx</code><br>\n",
    "<i> Can be changed. </i>Matrix that defines the similarity between two characters or for a character-letter pair. The similarity is given between 0 and 1. This is a symmetric score, and the value should only be filled once!\n",
    "\n",
    "<code>performance.csv</code><br>\n",
    "<i> Can be changed. </i> Defines the performance of a transition between two keys. \n",
    "\n",
    "<code>ergonomics_antti.csv</code><br>\n",
    "<i> Can be changed. </i> Defines the ergonomics value for of a transition between two keys, as given by Antti.\n",
    "\n",
    "<code>frequency_letters_bepo.csv</code><br>\n",
    "<i> Can be changed. </i> Defines the frequency of each letter, here as used by the bepo guys. The code takes care of deadkeys. \n",
    "\n",
    "<code>frequency_bigrams_bepo.csv</code><br>\n",
    "<i> Can be changed. </i> Defines the frequency of each bigram, here as used by the bepo guys. The code takes care of deadkeys. \n",
    "\n",
    "<code>all_slots.txt</code><br>\n",
    "<i> Do not change. </i> Contains all keyboard slots. Only relevant for plotting. "
   ]
  },
  {
   "cell_type": "code",
   "execution_count": 2,
   "metadata": {
    "collapsed": false
   },
   "outputs": [],
   "source": [
    "#Define the weights for:\n",
    "#w_p: Performance\n",
    "#w_a: Association\n",
    "#w_f: Familiarity\n",
    "#w_e: Ergonomics\n",
    "w_p, w_a, w_f, w_e = [0.25, 0.25, 0.25, 0.25]\n",
    "\n",
    "\n",
    "#Define the extra cost for the level of the keyslot added when computing the distance between two keyslots. \n",
    "# This is used in familiarity score to punish the assignment to other levels as used on azerty.\n",
    "#Example: \n",
    "#level_cost = {u'':0, u'Shift':1, u'Alt':2, u'Alt_Shift':3}\n",
    "#distance[E_00, E_00_Alt] = 2\n",
    "#distance[E_00_Shift, E_00_Alt] = 1\n",
    "level_cost = {u'':0, u'Shift':1, u'Alt':2, u'Alt_Shift':3}\n"
   ]
  },
  {
   "cell_type": "markdown",
   "metadata": {},
   "source": [
    "### Create input for reformulation\n",
    "In order for it to run fast, we need to reformulate the problem to the kaufmann-broekx reformulation. The reformulation itself is done with the C++ code provided by Andreas Karrenbauer. Here, we only prepare the input file for this code. "
   ]
  },
  {
   "cell_type": "code",
   "execution_count": 3,
   "metadata": {
    "collapsed": false,
    "scrolled": true
   },
   "outputs": [
    {
     "name": "stdout",
     "output_type": "stream",
     "text": [
      "read in: characters, keyslots and letters\n",
      "read in: similarity values\n",
      "read in: distance values\n",
      "read in: probability values\n",
      "read in: ergonomics, performance\n",
      "Done reading input values.\n",
      "Done.\n"
     ]
    }
   ],
   "source": [
    "create_reformulation_input(w_p, w_a, w_f, w_e, level_cost)"
   ]
  },
  {
   "cell_type": "markdown",
   "metadata": {},
   "source": [
    "# <font color=\"red\">Attention: now switch to C++ </font>\n",
    "Before continuing, switch to C++ program in <code>\"reformulation\"</code> folder and run ./kaufmanbroeckx < reformulation_input.txt > reformulation.lp with a c++ compiler. \n",
    "\n",
    "If you switched to another computer for that, copy the prodcued file in the <code>\"reformulation\"</code> folder.\n"
   ]
  },
  {
   "cell_type": "markdown",
   "metadata": {},
   "source": [
    "If you don't want to use the console, continue here. This will do the same as <code>\"main_optimize_reformulation.py\"</code>\n",
    "### Optimize reformulation\n",
    "Note: reformulation.lp must be created by Andreas' C++ code prior to calling the optimization.\n",
    "\n",
    "Runs the optimization and saves the global optimum to a file. \n",
    "Also saves intermediate solutions to the <code> mappings </code> folder\n",
    "\n",
    "##### <font color=\"red\">Switch to console for faster execution, and skip the code below.</font>\n",
    "I believe that solving the problem is faster in the console than in Ipython due to parallelism. Therefore, continue with running\n",
    "##### <code>main_optimize_reformulation.py</code> \n",
    "in the console. Make sure to edit the file accordingly, if you have changed the weights above.\n",
    "\n",
    "If you don't want to use the console, uncomment the lines below and continue here. This will do the same as <code>\"main_optimize_reformulation.py\"</code>"
   ]
  },
  {
   "cell_type": "code",
   "execution_count": 3,
   "metadata": {
    "collapsed": false
   },
   "outputs": [
    {
     "ename": "NameError",
     "evalue": "name 'optimize_reformulation' is not defined",
     "output_type": "error",
     "traceback": [
      "\u001b[1;31m---------------------------------------------------------------------------\u001b[0m",
      "\u001b[1;31mNameError\u001b[0m                                 Traceback (most recent call last)",
      "\u001b[1;32m<ipython-input-3-df3177317aee>\u001b[0m in \u001b[0;36m<module>\u001b[1;34m()\u001b[0m\n\u001b[0;32m      1\u001b[0m \u001b[1;31m#from optimize import *\u001b[0m\u001b[1;33m\u001b[0m\u001b[1;33m\u001b[0m\u001b[0m\n\u001b[1;32m----> 2\u001b[1;33m \u001b[0mmodel\u001b[0m\u001b[1;33m,\u001b[0m \u001b[0mmapping\u001b[0m \u001b[1;33m=\u001b[0m \u001b[0moptimize_reformulation\u001b[0m\u001b[1;33m(\u001b[0m\u001b[1;34m\"reformulation\\\\reformulation.lp\"\u001b[0m\u001b[1;33m)\u001b[0m\u001b[1;33m\u001b[0m\u001b[0m\n\u001b[0m\u001b[0;32m      3\u001b[0m \u001b[0mplot_mapping\u001b[0m\u001b[1;33m(\u001b[0m\u001b[0mmapping\u001b[0m\u001b[1;33m,\u001b[0m \u001b[0mplotname\u001b[0m\u001b[1;33m=\u001b[0m\u001b[1;34m\"optimum.png\"\u001b[0m\u001b[1;33m,\u001b[0m \u001b[0mw_p\u001b[0m\u001b[1;33m=\u001b[0m\u001b[0mw_p\u001b[0m\u001b[1;33m,\u001b[0m \u001b[0mw_a\u001b[0m\u001b[1;33m=\u001b[0m\u001b[0mw_a\u001b[0m\u001b[1;33m,\u001b[0m \u001b[0mw_f\u001b[0m\u001b[1;33m=\u001b[0m\u001b[0mw_f\u001b[0m\u001b[1;33m,\u001b[0m \u001b[0mw_e\u001b[0m\u001b[1;33m=\u001b[0m\u001b[0mw_e\u001b[0m\u001b[1;33m,\u001b[0m \u001b[0mlevel_cost\u001b[0m\u001b[1;33m=\u001b[0m\u001b[0mlevel_cost\u001b[0m\u001b[1;33m,\u001b[0m \u001b[0mquadratic\u001b[0m\u001b[1;33m=\u001b[0m\u001b[1;36m1\u001b[0m\u001b[1;33m)\u001b[0m\u001b[1;33m\u001b[0m\u001b[0m\n",
      "\u001b[1;31mNameError\u001b[0m: name 'optimize_reformulation' is not defined"
     ]
    }
   ],
   "source": [
    "#from optimize import *\n",
    "#model, mapping = optimize_reformulation(\"reformulation\\\\reformulation.lp\")\n",
    "#plot_mapping(mapping, plotname=\"optimum.png\", w_p=w_p, w_a=w_a, w_f=w_f, w_e=w_e, level_cost=level_cost, quadratic=1)"
   ]
  },
  {
   "cell_type": "markdown",
   "metadata": {},
   "source": [
    "### If you have stopped the optimization before it terminated:\n",
    "The third last column (or so) in the console output gives you the Gap between the score of the current best solution and the global optimum. You can probably stop the code after one day of running, if the gap is below 1% or so. \n",
    "\n",
    "Then run the following code to :\n",
    "- put the best found mapping in a human readable format that can also be easily modified, and\n",
    "- produce the graph with objectives\n",
    "\n",
    "Output will be stored in the <code> mappings </code> folder"
   ]
  },
  {
   "cell_type": "code",
   "execution_count": 3,
   "metadata": {
    "collapsed": false,
    "scrolled": true
   },
   "outputs": [
    {
     "name": "stdout",
     "output_type": "stream",
     "text": [
      "{u\"c'h\": u'E02_Alt', u'\\u2030': u'B07_Alt', u'...': u'C12_Alt_Shift', u'\\u2264': u'C04_Alt_Shift', u'\\u030fd': u'B03_Alt_Shift', u'\\u20ac': u'D03_Alt_Shift', u'\\xf0': u'E10_Alt', u'\\xde': u'C05_Alt', u'{': u'C01_Alt_Shift', u'~d': u'E01_Alt_Shift', u'\\xa8d': u'D11_Shift', u\"C'h\": u'E08_Alt', u'!': u'B08_Shift', u'#': u'E04_Alt', u'\"': u'E04', u'%': u'C11', u'$': u'C02_Alt', u\"'\": u'B07', u'&': u'E02', u')': u'E10', u'(': u'E05', u'\\xab': u'B10_Shift', u'*': u'C12', u'-': u'E06', u',': u'E07_Alt_Shift', u'/': u'B09_Shift', u'.': u'B08', u'\\xb1': u'C06_Alt', u'\\u02ddd': u'B04_Alt', u'\\xb2': u'D02_Alt_Shift', u'\\xb5': u'C10_Alt_Shift', u'_': u'E08', u'\\u02dbd': u'B06_Alt', u'\\\\': u'B09_Alt', u';': u'E07', u':': u'B09', u'=': u'E09', u'<': u'B00_Shift', u'?': u'B07_Shift', u'>': u'B02_Alt', u'\\xc0': u'E01_Alt', u'`d': u'E07_Alt', u'\\xc6': u'D01_Alt', u'\\xc9': u'D03_Alt', u'\\xa3': u'D10_Alt_Shift', u'\\xb8d': u'D06_Alt', u'\\xa1': u'E12', u'\\xd0': u'E03_Alt', u'\\u0153': u'D09_Alt', u'\\u0152': u'D09_Alt_Shift', u'\\xd7': u'C12_Alt', u'@': u'D02_Alt', u'\\xd8': u'C09_Alt_Shift', u'[': u'D05_Alt', u']': u'D10_Alt', u'\\xbb': u'B10', u'\\xdf': u'C02_Alt_Shift', u'\\xa4': u'E09_Alt', u'\\xe0': u'E01', u'\\u2265': u'D11_Alt', u'\\xa7': u'C11_Shift', u'\\xe7': u'B03_Alt', u'\\xe6': u'D01_Alt_Shift', u'\\xe9': u'E03', u'}': u'E10_Alt_Shift', u'\\xa6': u'B08_Alt_Shift', u'\\u02d8d': u'B08_Alt', u'|': u'B00', u'\\u02dad': u'E12_Shift', u'\\u02c7d': u'C03_Alt', u\"C'H\": u'C06_Alt_Shift', u'\\xbf': u'B06_Alt_Shift', u'\\xf7': u'B02_Alt_Shift', u'\\u2260': u'E11', u'\\xf8': u'D08_Alt_Shift', u'\\xb4d': u'E06_Alt_Shift', u'\\xfe': u'D12_Alt', u'^d': u'D11', u'+': u'D12', u'~': u'E06_Alt'}\n",
      "read in: characters, keyslots and letters\n",
      "read in: similarity values\n",
      "read in: distance values\n",
      "Done reading input values.\n",
      "À: 0.044079\n",
      "@: 0.022025\n",
      "Ø: 0.034170\n",
      "ß: 0.000571\n",
      "à: 0.047107\n",
      "é: 0.100000\n",
      "ø: 0.034170\n",
      "linear Association: 0.2821\n",
      "!, ¡: 0.004846\n",
      "(, ): 0.188315\n",
      ",, ;: 0.495706\n",
      "[, ]: 0.009851\n",
      "é, É: 1.000000\n",
      "=, ≠: 0.001684\n",
      "«, »: 0.068395\n",
      "C'H, C'h: 0.000000\n",
      "Œ, œ: 0.006085\n",
      "%, ‰: 0.011257\n",
      "æ, Æ: 0.000069\n",
      "c'h, C'h: 0.000000\n",
      "?, ¿: 0.015340\n",
      "´d, `d: 0.132324\n",
      "/, \\: 0.023414\n",
      "., :: 0.631471\n",
      "|, ¦: 0.006909\n",
      ">, ≥: 0.000647\n",
      "{, }: 0.000689\n",
      "-, _: 0.155861\n",
      "Þ, þ: 0.000007\n",
      "à, À: 0.195735\n",
      "~d, ~: 0.000451\n",
      "+, ±: 0.001509\n",
      "<, >: 0.000775\n",
      "ø, Ø: 0.000065\n",
      "c'h, C'H: 0.000000\n",
      "', \": 0.352166\n",
      "Ð, ð: 0.000021\n",
      "<, ≤: 0.000134\n",
      "quadratic Association: 3.3037\n"
     ]
    },
    {
     "data": {
      "image/png": "[encoded data removed]",
      "text/plain": [
       "<matplotlib.figure.Figure at 0x1da60320>"
      ]
     },
     "metadata": {},
     "output_type": "display_data"
    }
   ],
   "source": [
    "evaluate_optimized_reformulation(w_p, w_a, w_f, w_e, level_cost)"
   ]
  },
  {
   "cell_type": "code",
   "execution_count": 4,
   "metadata": {
    "collapsed": false
   },
   "outputs": [],
   "source": []
  },
  {
   "cell_type": "code",
   "execution_count": 2,
   "metadata": {
    "collapsed": false,
    "scrolled": true
   },
   "outputs": [
    {
     "data": {
      "text/plain": [
       "'_scenario1'"
      ]
     },
     "execution_count": 2,
     "metadata": {},
     "output_type": "execute_result"
    }
   ],
   "source": [
    "\n"
   ]
  },
  {
   "cell_type": "markdown",
   "metadata": {},
   "source": [
    "### To compute the objectives for a given mapping:\n",
    "Given a mapping (dict from characters to keyslots) we can compute the values for each objective. \n",
    "The mapping can be given in form of a file path, either to a .txt file for which the format is \n",
    "\"letter key\"\n",
    "or to \".mst\" file created from optimizing the reformulation. "
   ]
  },
  {
   "cell_type": "code",
   "execution_count": 3,
   "metadata": {
    "collapsed": false,
    "scrolled": true
   },
   "outputs": [
    {
     "name": "stdout",
     "output_type": "stream",
     "text": [
      "mappings\\solution_0.0224.mst\n",
      "read in: characters, keyslots and letters\n",
      "read in: similarity values\n",
      "read in: distance values\n",
      "Done reading input values.\n",
      "À: 0.00738\n",
      "@: 0.00369\n",
      "Ø: 0.00572\n",
      "ß: 0.00010\n",
      "à: 0.00789\n",
      "é: 0.01675\n",
      "ø: 0.00572\n",
      "linear Association: 0.0472\n",
      "!, ¡: 0.00000\n",
      "(, ): 0.00008\n",
      "[, ]: 0.00000\n",
      "é, É: 0.00009\n",
      "=, ≠: 0.00000\n",
      "C'H, C'h: 0.00000\n",
      "%, ‰: 0.00000\n",
      "c'h, C'h: 0.00000\n",
      "?, ¿: 0.00000\n",
      "´d, `d: 0.00001\n",
      "., :: 0.00006\n",
      "|, ¦: 0.00000\n",
      ">, ≥: 0.00000\n",
      "{, }: 0.00000\n",
      "-, _: 0.00003\n",
      "Þ, þ: 0.00000\n",
      "~d, ~: 0.00000\n",
      "+, ±: 0.00000\n",
      "<, >: 0.00000\n",
      "ø, Ø: 0.00000\n",
      "c'h, C'H: 0.00000\n",
      "', \": 0.00019\n",
      "Ð, ð: 0.00000\n",
      "<, ≤: 0.00000\n",
      "linear Association: 0.0005\n"
     ]
    },
    {
     "data": {
      "image/png": "[encoded data removed]",
      "text/plain": [
       "<matplotlib.figure.Figure at 0x1d8596a0>"
      ]
     },
     "metadata": {},
     "output_type": "display_data"
    }
   ],
   "source": [
    "#You can directly use the plot_mapping function:\n",
    "path = \"mappings\\\\solution_0.0224.mst\"\n",
    "plot_mapping(path, plotname=path+\".png\", w_p=w_p, w_a=w_a, w_f=w_f, w_e=w_e, level_cost=level_cost, quadratic=1)      "
   ]
  },
  {
   "cell_type": "code",
   "execution_count": null,
   "metadata": {
    "collapsed": false,
    "scrolled": true
   },
   "outputs": [],
   "source": []
  },
  {
   "cell_type": "markdown",
   "metadata": {},
   "source": [
    "##### Evaluate the bépo layout in the same way\n",
    "we only plot azerty-like layouts at the moment, so we'll only compute the objective scores for bépo and write them out. \n",
    "\n",
    "Note: the <code> mappings </code> folder only contains the optimized mappings. Other layouts should be stored in <code> input/layouts </code>"
   ]
  },
  {
   "cell_type": "code",
   "execution_count": 4,
   "metadata": {
    "collapsed": false
   },
   "outputs": [
    {
     "name": "stdout",
     "output_type": "stream",
     "text": [
      "read in: characters, keyslots and letters\n",
      "read in: similarity values\n",
      "read in: distance values\n",
      "Done reading input values.\n",
      "˙ not in the to-be-mapped character set\n",
      "— not in the to-be-mapped character set\n",
      "‘ not in the to-be-mapped character set\n",
      "“ not in the to-be-mapped character set\n",
      "† not in the to-be-mapped character set\n",
      "™ not in the to-be-mapped character set\n",
      "¯d not in the to-be-mapped character set\n",
      "″ not in the to-be-mapped character set\n",
      "Ĳ not in the to-be-mapped character set\n",
      "4 not in the to-be-mapped character set\n",
      "· not in the to-be-mapped character set\n",
      "8 not in the to-be-mapped character set\n",
      "` not in the to-be-mapped character set\n",
      "d not in the to-be-mapped character set\n",
      "h not in the to-be-mapped character set\n",
      "l not in the to-be-mapped character set\n",
      "d^ not in the to-be-mapped character set\n",
      "p not in the to-be-mapped character set\n",
      "t not in the to-be-mapped character set\n",
      "x not in the to-be-mapped character set\n",
      "space not in the to-be-mapped character set\n",
      "¨ not in the to-be-mapped character set\n",
      "¬ not in the to-be-mapped character set\n",
      "° not in the to-be-mapped character set\n",
      "3 not in the to-be-mapped character set\n",
      "´ not in the to-be-mapped character set\n",
      "7 not in the to-be-mapped character set\n",
      "¼ not in the to-be-mapped character set\n",
      "c not in the to-be-mapped character set\n",
      "g not in the to-be-mapped character set\n",
      "è not in the to-be-mapped character set\n",
      "k not in the to-be-mapped character set\n",
      "o not in the to-be-mapped character set\n",
      "s not in the to-be-mapped character set\n",
      "w not in the to-be-mapped character set\n",
      "e not in the to-be-mapped character set\n",
      "Ə not in the to-be-mapped character set\n",
      "− not in the to-be-mapped character set\n",
      "„ not in the to-be-mapped character set\n",
      "0 not in the to-be-mapped character set\n",
      "© not in the to-be-mapped character set\n",
      "2 not in the to-be-mapped character set\n",
      "6 not in the to-be-mapped character set\n",
      "½ not in the to-be-mapped character set\n",
      "˙d not in the to-be-mapped character set\n",
      "Ù not in the to-be-mapped character set\n",
      "′ not in the to-be-mapped character set\n",
      "˝ not in the to-be-mapped character set\n",
      "… not in the to-be-mapped character set\n",
      "b not in the to-be-mapped character set\n",
      "f not in the to-be-mapped character set\n",
      "j not in the to-be-mapped character set\n",
      "n not in the to-be-mapped character set\n",
      "r not in the to-be-mapped character set\n",
      "v not in the to-be-mapped character set\n",
      "ù not in the to-be-mapped character set\n",
      "z not in the to-be-mapped character set\n",
      "’ not in the to-be-mapped character set\n",
      "” not in the to-be-mapped character set\n",
      "ẞ not in the to-be-mapped character set\n",
      "ª not in the to-be-mapped character set\n",
      "® not in the to-be-mapped character set\n",
      "1 not in the to-be-mapped character set\n",
      "ĳ not in the to-be-mapped character set\n",
      "5 not in the to-be-mapped character set\n",
      "¶ not in the to-be-mapped character set\n",
      "9 not in the to-be-mapped character set\n",
      "¾ not in the to-be-mapped character set\n",
      "‡ not in the to-be-mapped character set\n",
      "ə not in the to-be-mapped character set\n",
      "a not in the to-be-mapped character set\n",
      "i not in the to-be-mapped character set\n",
      "ê not in the to-be-mapped character set\n",
      "m not in the to-be-mapped character set\n",
      "q not in the to-be-mapped character set\n",
      "u not in the to-be-mapped character set\n",
      "y not in the to-be-mapped character set\n",
      "ſ not in the to-be-mapped character set\n",
      "€: 0.168954\n",
      "$: 0.094522\n",
      "@: 0.132150\n",
      "Œ: 0.170856\n",
      "ß: 0.287532\n",
      "ç: 0.198525\n"
     ]
    },
    {
     "ename": "KeyError",
     "evalue": "(u';', u'C05_Shift')",
     "output_type": "error",
     "traceback": [
      "\u001b[1;31m---------------------------------------------------------------------------\u001b[0m",
      "\u001b[1;31mKeyError\u001b[0m                                  Traceback (most recent call last)",
      "\u001b[1;32m<ipython-input-4-93e3d8b58440>\u001b[0m in \u001b[0;36m<module>\u001b[1;34m()\u001b[0m\n\u001b[0;32m      1\u001b[0m \u001b[0mpath\u001b[0m \u001b[1;33m=\u001b[0m \u001b[1;34m\"input\\\\layouts\\\\bepo.txt\"\u001b[0m\u001b[1;33m\u001b[0m\u001b[0m\n\u001b[0;32m      2\u001b[0m \u001b[0mmapping\u001b[0m \u001b[1;33m=\u001b[0m \u001b[0mcreate_map_from_txt\u001b[0m\u001b[1;33m(\u001b[0m\u001b[0mpath\u001b[0m\u001b[1;33m)\u001b[0m\u001b[1;33m\u001b[0m\u001b[0m\n\u001b[1;32m----> 3\u001b[1;33m \u001b[0mobjective\u001b[0m\u001b[1;33m,\u001b[0m \u001b[0mp\u001b[0m\u001b[1;33m,\u001b[0m \u001b[0ma\u001b[0m\u001b[1;33m,\u001b[0m \u001b[0mf\u001b[0m\u001b[1;33m,\u001b[0m \u001b[0me\u001b[0m \u001b[1;33m=\u001b[0m \u001b[0mget_objectives\u001b[0m\u001b[1;33m(\u001b[0m\u001b[0mmapping\u001b[0m\u001b[1;33m,\u001b[0m \u001b[0mw_p\u001b[0m\u001b[1;33m,\u001b[0m \u001b[0mw_a\u001b[0m\u001b[1;33m,\u001b[0m \u001b[0mw_f\u001b[0m\u001b[1;33m,\u001b[0m \u001b[0mw_e\u001b[0m\u001b[1;33m,\u001b[0m \u001b[0mlevel_cost\u001b[0m\u001b[1;33m,\u001b[0m \u001b[0mquadratic\u001b[0m\u001b[1;33m=\u001b[0m\u001b[1;36m1\u001b[0m\u001b[1;33m)\u001b[0m\u001b[1;33m\u001b[0m\u001b[0m\n\u001b[0m\u001b[0;32m      4\u001b[0m \u001b[1;32mprint\u001b[0m \u001b[1;34m\"Bépo score: %f\\n Performance: %f\\n Association: %f\\n Familiarity: %f\\n Ergonomics: %f\\n\"\u001b[0m\u001b[1;33m%\u001b[0m\u001b[1;33m(\u001b[0m\u001b[0mobjective\u001b[0m\u001b[1;33m,\u001b[0m \u001b[0mp\u001b[0m\u001b[1;33m,\u001b[0m \u001b[0ma\u001b[0m\u001b[1;33m,\u001b[0m \u001b[0mf\u001b[0m\u001b[1;33m,\u001b[0m \u001b[0me\u001b[0m\u001b[1;33m)\u001b[0m\u001b[1;33m\u001b[0m\u001b[0m\n",
      "\u001b[1;32mD:\\Anna\\python\\optimizing-the-french-keyboard\\objectives.py\u001b[0m in \u001b[0;36mget_objectives\u001b[1;34m(mapping, w_p, w_a, w_f, w_e, level_cost, quadratic)\u001b[0m\n\u001b[0;32m     28\u001b[0m                                \u001b[0msimilarity_c_c\u001b[0m\u001b[1;33m,\u001b[0m \u001b[0msimilarity_c_l\u001b[0m\u001b[1;33m,\u001b[0m\u001b[0;31m\\\u001b[0m\u001b[1;33m\u001b[0m\u001b[0m\n\u001b[0;32m     29\u001b[0m                                \u001b[0mdistance_level_0\u001b[0m\u001b[1;33m,\u001b[0m \u001b[0mdistance_level_1\u001b[0m\u001b[1;33m,\u001b[0m\u001b[0;31m\\\u001b[0m\u001b[1;33m\u001b[0m\u001b[0m\n\u001b[1;32m---> 30\u001b[1;33m                                ergonomics, quadratic=quadratic)\n\u001b[0m\u001b[0;32m     31\u001b[0m \u001b[1;33m\u001b[0m\u001b[0m\n\u001b[0;32m     32\u001b[0m def _get_objectives(mapping, w_p, w_a, w_f, w_e,\\\n",
      "\u001b[1;32mD:\\Anna\\python\\optimizing-the-french-keyboard\\objectives.py\u001b[0m in \u001b[0;36m_get_objectives\u001b[1;34m(mapping, w_p, w_a, w_f, w_e, azerty, characters, keyslots, letters, p_single, p_bigram, performance, similarity_c_c, similarity_c_l, distance_level_0, distance_level_1, ergonomics, quadratic)\u001b[0m\n\u001b[0;32m     66\u001b[0m     \u001b[0mE\u001b[0m\u001b[1;33m=\u001b[0m\u001b[1;36m0\u001b[0m\u001b[1;33m\u001b[0m\u001b[0m\n\u001b[0;32m     67\u001b[0m     \u001b[1;32mfor\u001b[0m \u001b[0mc\u001b[0m\u001b[1;33m,\u001b[0m \u001b[0ms\u001b[0m \u001b[1;32min\u001b[0m \u001b[0mmapping\u001b[0m\u001b[1;33m.\u001b[0m\u001b[0miteritems\u001b[0m\u001b[1;33m(\u001b[0m\u001b[1;33m)\u001b[0m\u001b[1;33m:\u001b[0m\u001b[1;33m\u001b[0m\u001b[0m\n\u001b[1;32m---> 68\u001b[1;33m         \u001b[0mP\u001b[0m\u001b[1;33m+=\u001b[0m\u001b[0mx_P\u001b[0m\u001b[1;33m[\u001b[0m\u001b[0mc\u001b[0m\u001b[1;33m,\u001b[0m\u001b[0ms\u001b[0m\u001b[1;33m]\u001b[0m\u001b[1;33m\u001b[0m\u001b[0m\n\u001b[0m\u001b[0;32m     69\u001b[0m         \u001b[0mA\u001b[0m\u001b[1;33m+=\u001b[0m\u001b[0mx_A\u001b[0m\u001b[1;33m[\u001b[0m\u001b[0mc\u001b[0m\u001b[1;33m,\u001b[0m\u001b[0ms\u001b[0m\u001b[1;33m]\u001b[0m\u001b[1;33m\u001b[0m\u001b[0m\n\u001b[0;32m     70\u001b[0m         \u001b[1;32mif\u001b[0m \u001b[0mx_A\u001b[0m\u001b[1;33m[\u001b[0m\u001b[0mc\u001b[0m\u001b[1;33m,\u001b[0m\u001b[0ms\u001b[0m\u001b[1;33m]\u001b[0m\u001b[1;33m>\u001b[0m\u001b[1;36m0\u001b[0m\u001b[1;33m:\u001b[0m\u001b[1;33m\u001b[0m\u001b[0m\n",
      "\u001b[1;31mKeyError\u001b[0m: (u';', u'C05_Shift')"
     ]
    }
   ],
   "source": [
    "path = \"input\\\\layouts\\\\bepo.txt\"\n",
    "mapping = create_map_from_txt(path)\n",
    "objective, p, a, f, e = get_objectives(mapping, w_p, w_a, w_f, w_e, level_cost, quadratic=1)\n",
    "print \"Bépo score: %f\\n Performance: %f\\n Association: %f\\n Familiarity: %f\\n Ergonomics: %f\\n\"%(objective, p, a, f, e)"
   ]
  },
  {
   "cell_type": "markdown",
   "metadata": {},
   "source": [
    "##### Note if you want to evaluate azerty, please use the <code> get_azerty() </code> method to get the corresponding mapping: "
   ]
  },
  {
   "cell_type": "code",
   "execution_count": null,
   "metadata": {
    "collapsed": false,
    "scrolled": true
   },
   "outputs": [],
   "source": [
    "mapping = get_azerty()\n",
    "plot_mapping(mapping, plotname=\"azerty.png\", w_p=w_p, w_a=w_a, w_f=w_f, w_e=w_e, level_cost=level_cost, quadratic=1)      \n"
   ]
  },
  {
   "cell_type": "code",
   "execution_count": 1,
   "metadata": {
    "collapsed": false
   },
   "outputs": [],
   "source": []
  },
  {
   "cell_type": "code",
   "execution_count": null,
   "metadata": {
    "collapsed": false
   },
   "outputs": [],
   "source": []
  },
  {
   "cell_type": "code",
   "execution_count": null,
   "metadata": {
    "collapsed": true
   },
   "outputs": [],
   "source": []
  }
 ],
 "metadata": {
  "kernelspec": {
   "display_name": "Python 2",
   "language": "python",
   "name": "python2"
  },
  "language_info": {
   "codemirror_mode": {
    "name": "ipython",
    "version": 2
   },
   "file_extension": ".py",
   "mimetype": "text/x-python",
   "name": "python",
   "nbconvert_exporter": "python",
   "pygments_lexer": "ipython2",
   "version": "2.7.11"
  }
 },
 "nbformat": 4,
 "nbformat_minor": 0
}
