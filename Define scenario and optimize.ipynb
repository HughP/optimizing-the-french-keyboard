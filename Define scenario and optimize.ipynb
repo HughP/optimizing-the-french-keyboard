{
 "cells": [
  {
   "cell_type": "markdown",
   "metadata": {},
   "source": [
    "### <i>Note: this source code is also available in main.py</i>"
   ]
  },
  {
   "cell_type": "code",
   "execution_count": 1,
   "metadata": {
    "collapsed": false
   },
   "outputs": [
    {
     "name": "stderr",
     "output_type": "stream",
     "text": [
      "D:\\Software\\Anaconda2\\lib\\site-packages\\matplotlib\\__init__.py:872: UserWarning: axes.color_cycle is deprecated and replaced with axes.prop_cycle; please use the latter.\n",
      "  warnings.warn(self.msg_depr % (key, alt_key))\n"
     ]
    }
   ],
   "source": [
    "# -*- coding: utf-8 -*-\n",
    "from objectives import * \n",
    "from read_input import *\n",
    "from plotting import *\n",
    "from reformulation_input import *\n",
    "from evaluate_reformualtion_solution import * \n",
    "\n",
    "%matplotlib inline\n",
    "PYTHONIOENCODING=\"utf-8\""
   ]
  },
  {
   "cell_type": "markdown",
   "metadata": {
    "collapsed": true
   },
   "source": [
    "### Define the scenario and optimize the keyboard\n",
    "Here you can define: \n",
    "- the weights for each objective\n",
    "- the <code>level cost</code> used in familiarity objective\n",
    "\n",
    "In addition, the system will use the following input files from folder <code>input </code>:\n",
    "\n",
    "<i> If you want to use a different file, you can change the path in \"read_input.py\". Make sure to keep everything in the same format, in particular with respects to separators (mostly space, but please check). </i>\n",
    "\n",
    "<code>azerty.csv </code><br>\n",
    "<i> Do not change. </i>Defines the location of each character on the current azerty layout. Used in familiarity score.\n",
    "\n",
    "<code>numbers.csv </code><br>\n",
    "<i> Can be changed. </i>Defines the keys that are reserved for numbers. Change to fix the numbers to other keyslots (e.g. unshifted) or add other fixed characters. Characters added here will be fixed to the given keyslot and not considered in the optimization (also not influence the location of other keys).\n",
    "\n",
    "<code>characters.txt </code><br>\n",
    "<i> Can be changed. </i>A list of characters that should be mapped on the keyboard. Remove or add characters as you like. If you add a character, ensure that its probability and similarity scores are defined.\n",
    "**Do not add characters from the alphabet or space.**\n",
    "\n",
    "<code>variable_slots.csv </code><br>\n",
    "A list of all free slots to which the characters can be assigned during optimization. Usually this file does not need to be changed. Any character you want to fix you can add to <code>numbers.csv</code> and will be automatically removed from this list. However, if you want to completely remove a slot from the optimization, you can do it here (e.g. <code>A03_Alt</code> to not allow any assignment to <code>Alt + Space</code>)\n",
    "\n",
    "<code>letters.txt </code><br>\n",
    "<i> Do not change. </i>A list of letters that are fixed on the keyboard according to the azerty layout (<code>azerty.csv </code>). Characters are optimized in relation to these fixed letters. Our collected data (e.g. performance data) does not allow to change this set. If you want to fix a character to a certain key, remove that character from the <code>characters.txt </code> and add it to <code>numbers.csv </code><br>. Then the key won't be considered by the optimization. However, it will also not influence the assignment of other keys\n",
    "\n",
    "<code>distance.xlsx </code><br>\n",
    "<i> Can be changed. </i>Matrix that defines the distance between two keyslots as the sum of row and column distance. An extra level cost (Shift, Alt, Alt+Shift) is taken into account in the familiarity score and can be defined in the scenario. The distance is normalized to [0,1] when reading the distance matrix. \n",
    "\n",
    "<code>similarity_c_c.xlsx</code> and <code>similarity_c_l.xlsx</code><br>\n",
    "<i> Can be changed. </i>Matrix that defines the similarity between two characters or for a character-letter pair. The similarity is given between 0 and 1. This is a symmetric score, and the value should only be filled once!\n",
    "\n",
    "<code>all_slots.txt</code><br>\n",
    "<i> Do not change. </i> Contains all keyboard slots. Only relevant for plotting. "
   ]
  },
  {
   "cell_type": "code",
   "execution_count": 2,
   "metadata": {
    "collapsed": true
   },
   "outputs": [],
   "source": [
    "#Define the weights for:\n",
    "#w_p: Performance\n",
    "#w_a: Association\n",
    "#w_f: Familiarity\n",
    "#w_e: Ergonomics\n",
    "w_p, w_a, w_f, w_e = [0.25, 0.25, 0.25, 0.25]\n",
    "\n",
    "\n",
    "#Define the extra cost for the level of the keyslot added when computing the distance between two keyslots. \n",
    "# This is used in familiarity score to punish the assignment to other levels as used on azerty.\n",
    "#Example: \n",
    "#level_cost = {u'':0, u'Shift':1, u'Alt':2, u'Alt_Shift':3}\n",
    "#distance[E_00, E_00_Alt] = 2\n",
    "#distance[E_00_Shift, E_00_Alt] = 1\n",
    "level_cost = {u'':0, u'Shift':1, u'Alt':2, u'Alt_Shift':3}"
   ]
  },
  {
   "cell_type": "markdown",
   "metadata": {},
   "source": [
    "### Create input for reformulation\n",
    "In order for it to run fast, we need to reformulate the problem to the kaufmann-broekx reformulation. The reformulation itself is done with the C++ code provided by Andreas Karrenbauer. Here, we only prepare the input file for this code. "
   ]
  },
  {
   "cell_type": "code",
   "execution_count": 3,
   "metadata": {
    "collapsed": false
   },
   "outputs": [
    {
     "name": "stdout",
     "output_type": "stream",
     "text": [
      "read in: characters, keyslots and letters\n",
      "read in: similarity values\n",
      "read in: distance values\n",
      "read in: probability values\n",
      "´d composes í\n",
      "´d composes á\n",
      "`d composes è\n",
      "`d composes ù\n",
      "^d composes ê\n",
      "^d composes ô\n",
      "^d composes û\n",
      "^d composes î\n",
      "^d composes â\n",
      "¨d composes ï\n",
      "¨d composes ö\n",
      "¨d composes ü\n",
      "¨d composes ë\n",
      "read in: ergonomics, performance\n",
      "Done reading input values.\n",
      "Done.\n"
     ]
    }
   ],
   "source": [
    "create_reformulation_input(w_p, w_a, w_f, w_e, level_cost)"
   ]
  },
  {
   "cell_type": "markdown",
   "metadata": {},
   "source": [
    "# <font color=\"red\">Attention: now switch to C++ </font>\n",
    "Before continuing, switch to C++ program in <code>\"reformulation\"</code> folder and run ./kaufmanbroeckx < reformulation_input.txt > reformulation.lp with a c++ compiler. \n",
    "\n",
    "If you switched to another computer for that, copy the prodcued file in the <code>\"reformulation\"</code> folder.\n",
    "\n",
    "## <font color=\"red\">Now switch to console </font>\n",
    "I believe that solving the problem is faster in the console than in Ipython due to parallelism. Therefore, continue with running <code>\"main_optimize_reformulation.py\"</code> in the console. Make sure the edit the file accordingly, if you have changed the weights above. "
   ]
  },
  {
   "cell_type": "markdown",
   "metadata": {},
   "source": [
    "If you don't want to use the console, continue here. This will do the same as <code>\"main_optimize_reformulation.py\"</code>\n",
    "### Optimize reformulation\n",
    "Note: reformulation.lp must be created by Andreas' C++ code prior to calling the optimization.\n",
    "\n",
    "Runs the optimization and saves the global optimum to a file. \n",
    "Also saves intermediate solutions to the <code> mappings </code> folder"
   ]
  },
  {
   "cell_type": "code",
   "execution_count": null,
   "metadata": {
    "collapsed": false
   },
   "outputs": [],
   "source": [
    "from optimize import *\n",
    "model, mapping = optimize_reformulation(\"reformulation\\\\reformulation.lp\")"
   ]
  },
  {
   "cell_type": "markdown",
   "metadata": {},
   "source": [
    "### If you have stoped the optimization before it terminated:\n",
    "then run the following code to :\n",
    "- put the best found mapping in a human readable format that can also be easily modified, and\n",
    "- produce the graph with objectives"
   ]
  },
  {
   "cell_type": "code",
   "execution_count": 3,
   "metadata": {
    "collapsed": false
   },
   "outputs": [
    {
     "name": "stdout",
     "output_type": "stream",
     "text": [
      "read in: characters, keyslots and letters\n",
      "read in: similarity values\n",
      "read in: distance values\n",
      "´d composes í\n",
      "´d composes á\n",
      "`d composes è\n",
      "`d composes ù\n",
      "^d composes ê\n",
      "^d composes ô\n",
      "^d composes û\n",
      "^d composes î\n",
      "^d composes â\n",
      "¨d composes ï\n",
      "¨d composes ö\n",
      "¨d composes ü\n",
      "¨d composes ë\n",
      "Done reading input values.\n",
      "0.300887704505\n"
     ]
    },
    {
     "data": {
      "image/png": "[encoded data removed]",
      "text/plain": [
       "<matplotlib.figure.Figure at 0x1f649c18>"
      ]
     },
     "metadata": {},
     "output_type": "display_data"
    }
   ],
   "source": [
    "evaluate_optimized_reformulation(w_p, w_a, w_f, w_e, level_cost)"
   ]
  },
  {
   "cell_type": "markdown",
   "metadata": {},
   "source": [
    "### To compute the objectives for a given mapping:\n",
    "Given a mapping (dict from characters to keyslots) we can compute the values for each objective. \n",
    "The mapping can be given in form of a file path, either to a .txt file for which the format is \n",
    "\"letter key\"\n",
    "or to \".mst\" file created from optimizing the reformulation. "
   ]
  },
  {
   "cell_type": "code",
   "execution_count": 3,
   "metadata": {
    "collapsed": false,
    "scrolled": false
   },
   "outputs": [
    {
     "name": "stdout",
     "output_type": "stream",
     "text": [
      "read in: characters, keyslots and letters\n",
      "read in: similarity values\n",
      "read in: distance values\n",
      "´d composes í\n",
      "´d composes á\n",
      "`d composes è\n",
      "`d composes ù\n",
      "^d composes ê\n",
      "^d composes ô\n",
      "^d composes û\n",
      "^d composes î\n",
      "^d composes â\n",
      "¨d composes ï\n",
      "¨d composes ö\n",
      "¨d composes ü\n",
      "¨d composes ë\n",
      "Done reading input values.\n",
      "0.300887704505\n",
      "0.014275251457\n"
     ]
    },
    {
     "data": {
      "image/png": "[encoded data removed]",
      "text/plain": [
       "<matplotlib.figure.Figure at 0x1f5e0e10>"
      ]
     },
     "metadata": {},
     "output_type": "display_data"
    }
   ],
   "source": [
    "#You can directly use the plot_mapping function:\n",
    "path = \"mappings\\\\solution_1.1507.txt\"\n",
    "plot_mapping(path, plotname=path+\".png\", w_p=w_p, w_a=w_a, w_f=w_f, w_e=w_e, level_cost=level_cost, quadratic=1)      "
   ]
  },
  {
   "cell_type": "markdown",
   "metadata": {},
   "source": [
    "##### Evaluate the bépo layout in the same way\n",
    "we only plot azerty-like layouts at the moment, so we'll only compute the objective scores for bépo and write them out. \n",
    "\n",
    "Note: the <code> mappings </code> folder only contains the optimized mappings. Other layouts should be stored in <code> input/layouts </code>"
   ]
  },
  {
   "cell_type": "code",
   "execution_count": 5,
   "metadata": {
    "collapsed": false
   },
   "outputs": [
    {
     "name": "stdout",
     "output_type": "stream",
     "text": [
      "read in: characters, keyslots and letters\n",
      "read in: similarity values\n",
      "read in: distance values\n",
      "´d composes í\n",
      "´d composes á\n",
      "`d composes è\n",
      "`d composes ù\n",
      "^d composes ê\n",
      "^d composes ô\n",
      "^d composes û\n",
      "^d composes î\n",
      "^d composes â\n",
      "¨d composes ï\n",
      "¨d composes ö\n",
      "¨d composes ü\n",
      "¨d composes ë\n",
      "Done reading input values.\n",
      "E05_Alt not in the to-be-mapped character set\n",
      "B04_Shift not in the to-be-mapped character set\n",
      "E02_Alt_shift not in the to-be-mapped character set\n",
      "C10_Alt not in the to-be-mapped character set\n",
      "D07_Alt not in the to-be-mapped character set\n",
      "C09_Alt_Shift not in the to-be-mapped character set\n",
      "D10_Alt not in the to-be-mapped character set\n",
      "E05_Shift not in the to-be-mapped character set\n",
      "D01_Alt_Shift not in the to-be-mapped character set\n",
      "E00_Alt_shift not in the to-be-mapped character set\n",
      "E11_Alt_shift not in the to-be-mapped character set\n",
      "B10_Alt not in the to-be-mapped character set\n",
      "B07_Alt_Shift not in the to-be-mapped character set\n",
      "C11_Alt not in the to-be-mapped character set\n",
      "D06_Alt not in the to-be-mapped character set\n",
      "C12_Alt_Shift not in the to-be-mapped character set\n",
      "B03_Alt_Shift not in the to-be-mapped character set\n",
      "B01_Alt not in the to-be-mapped character set\n",
      "C09_Alt not in the to-be-mapped character set\n",
      "E01_Alt not in the to-be-mapped character set\n",
      "D01_Alt not in the to-be-mapped character set\n",
      "B06_Alt not in the to-be-mapped character set\n",
      "C11_Alt_Shift not in the to-be-mapped character set\n",
      "D04 not in the to-be-mapped character set\n",
      "E10_Alt_shift not in the to-be-mapped character set\n",
      "C02_Alt not in the to-be-mapped character set\n",
      "C06_Alt not in the to-be-mapped character set\n",
      "C01_Alt_Shift not in the to-be-mapped character set\n",
      "E12_Alt_shift not in the to-be-mapped character set\n",
      "B07_Alt not in the to-be-mapped character set\n",
      "E00_Alt not in the to-be-mapped character set\n",
      "D08_Alt_Shift not in the to-be-mapped character set\n",
      "D05_Alt_Shift not in the to-be-mapped character set\n",
      "E04 not in the to-be-mapped character set\n",
      "E03_Shift not in the to-be-mapped character set\n",
      "E06_Shift not in the to-be-mapped character set\n",
      "D07 not in the to-be-mapped character set\n",
      "D06 not in the to-be-mapped character set\n",
      "D05 not in the to-be-mapped character set\n",
      "E12_Alt not in the to-be-mapped character set\n",
      "D03 not in the to-be-mapped character set\n",
      "D02 not in the to-be-mapped character set\n",
      "D01 not in the to-be-mapped character set\n",
      "E09_Shift not in the to-be-mapped character set\n",
      "D09 not in the to-be-mapped character set\n",
      "D08 not in the to-be-mapped character set\n",
      "B01 not in the to-be-mapped character set\n",
      "B00 not in the to-be-mapped character set\n",
      "B03 not in the to-be-mapped character set\n",
      "B02 not in the to-be-mapped character set\n",
      "B05 not in the to-be-mapped character set\n",
      "D12_Alt not in the to-be-mapped character set\n",
      "B07 not in the to-be-mapped character set\n",
      "B09 not in the to-be-mapped character set\n",
      "B08 not in the to-be-mapped character set\n",
      "C01_Alt not in the to-be-mapped character set\n",
      "D03_Alt not in the to-be-mapped character set\n",
      "E09_Alt_shift not in the to-be-mapped character set\n",
      "E12_Shift not in the to-be-mapped character set\n",
      "C09 not in the to-be-mapped character set\n",
      "C07_Alt_Shift not in the to-be-mapped character set\n",
      "E05_Alt_shift not in the to-be-mapped character set\n",
      "B04_Alt not in the to-be-mapped character set\n",
      "B04 not in the to-be-mapped character set\n",
      "D10 not in the to-be-mapped character set\n",
      "D11 not in the to-be-mapped character set\n",
      "D12 not in the to-be-mapped character set\n",
      "B04_Alt_Shift not in the to-be-mapped character set\n",
      "C06_Alt_Shift not in the to-be-mapped character set\n",
      "C04_Alt not in the to-be-mapped character set\n",
      "B10 not in the to-be-mapped character set\n",
      "D04_Alt not in the to-be-mapped character set\n",
      "D11_Alt_Shift not in the to-be-mapped character set\n",
      "E03_Alt_shift not in the to-be-mapped character set\n",
      "C08_Alt_Shift not in the to-be-mapped character set\n",
      "E11_Alt not in the to-be-mapped character set\n",
      "D10_Alt_Shift not in the to-be-mapped character set\n",
      "E02_Shift not in the to-be-mapped character set\n",
      "B08_Alt not in the to-be-mapped character set\n",
      "B05_Alt not in the to-be-mapped character set\n",
      "E02_Alt not in the to-be-mapped character set\n",
      "C05_Alt_Shift not in the to-be-mapped character set\n",
      "C03_Alt_Shift not in the to-be-mapped character set\n",
      "E00_Shift not in the to-be-mapped character set\n",
      "C05_Alt not in the to-be-mapped character set\n",
      "D05_Alt not in the to-be-mapped character set\n",
      "E07_Alt_shift not in the to-be-mapped character set\n",
      "C03_Alt not in the to-be-mapped character set\n",
      "B02_Alt_Shift not in the to-be-mapped character set\n",
      "E08_Alt_shift not in the to-be-mapped character set\n",
      "E07_Alt not in the to-be-mapped character set\n",
      "C02_Alt_Shift not in the to-be-mapped character set\n",
      "C04_Alt_Shift not in the to-be-mapped character set\n",
      "E06_Alt not in the to-be-mapped character set\n",
      "D03_Alt_Shift not in the to-be-mapped character set\n",
      "C08_Alt not in the to-be-mapped character set\n",
      "A03_Alt not in the to-be-mapped character set\n",
      "C05_Shift not in the to-be-mapped character set\n",
      "E04_Shift not in the to-be-mapped character set\n",
      "E10_Shift not in the to-be-mapped character set\n",
      "B09_Alt not in the to-be-mapped character set\n",
      "B00_Alt not in the to-be-mapped character set\n",
      "D11_Alt not in the to-be-mapped character set\n",
      "E11_Shift not in the to-be-mapped character set\n",
      "B03_Alt not in the to-be-mapped character set\n",
      "E04_Alt_shift not in the to-be-mapped character set\n",
      "D08_Alt not in the to-be-mapped character set\n",
      "E11 not in the to-be-mapped character set\n",
      "E10 not in the to-be-mapped character set\n",
      "E12 not in the to-be-mapped character set\n",
      "E10_Alt not in the to-be-mapped character set\n",
      "E08_Alt not in the to-be-mapped character set\n",
      "E04_Alt not in the to-be-mapped character set\n",
      "C07_Alt not in the to-be-mapped character set\n",
      "C12 not in the to-be-mapped character set\n",
      "C11 not in the to-be-mapped character set\n",
      "C10 not in the to-be-mapped character set\n",
      "D02_Alt_Shift not in the to-be-mapped character set\n",
      "B09_Alt_Shift not in the to-be-mapped character set\n",
      "B10_Alt_Shift not in the to-be-mapped character set\n",
      "D02_Alt not in the to-be-mapped character set\n",
      "B02_Alt not in the to-be-mapped character set\n",
      "C12_Alt not in the to-be-mapped character set\n",
      "E07_Shift not in the to-be-mapped character set\n",
      "D09_Alt not in the to-be-mapped character set\n",
      "E09_Alt not in the to-be-mapped character set\n",
      "E08 not in the to-be-mapped character set\n",
      "E09 not in the to-be-mapped character set\n",
      "E06 not in the to-be-mapped character set\n",
      "E07 not in the to-be-mapped character set\n",
      "D06_Shift not in the to-be-mapped character set\n",
      "E05 not in the to-be-mapped character set\n",
      "E02 not in the to-be-mapped character set\n",
      "E03 not in the to-be-mapped character set\n",
      "E00 not in the to-be-mapped character set\n",
      "E01 not in the to-be-mapped character set\n",
      "C08 not in the to-be-mapped character set\n",
      "E03_Alt not in the to-be-mapped character set\n",
      "E01_Alt_shift not in the to-be-mapped character set\n",
      "C01 not in the to-be-mapped character set\n",
      "C02 not in the to-be-mapped character set\n",
      "C03 not in the to-be-mapped character set\n",
      "C04 not in the to-be-mapped character set\n",
      "C05 not in the to-be-mapped character set\n",
      "C06 not in the to-be-mapped character set\n",
      "C07 not in the to-be-mapped character set\n",
      "B06_Alt_Shift not in the to-be-mapped character set\n",
      "D04_Alt_Shift not in the to-be-mapped character set\n",
      "A03 not in the to-be-mapped character set\n",
      "E01_Shift not in the to-be-mapped character set\n",
      "E08_Shift not in the to-be-mapped character set\n",
      "0\n",
      "0\n"
     ]
    },
    {
     "data": {
      "image/png": "[encoded data removed]",
      "text/plain": [
       "<matplotlib.figure.Figure at 0x201aada0>"
      ]
     },
     "metadata": {},
     "output_type": "display_data"
    }
   ],
   "source": [
    "path = \"input\\\\layouts\\\\bepo.txt\"\n",
    "mapping = create_map_from_txt(path)\n",
    "objective, p, a, f, e = get_objectives(mapping, w_p, w_a, w_f, w_e, level_cost, quadratic=quadratic)\n",
    "print \"Bépo score: %f\\n Performance: %f\\n Association: %f\\n Familiarity: %f\\n Ergonomics: %f\\n\"%(objective, p, a, f, e)"
   ]
  },
  {
   "cell_type": "markdown",
   "metadata": {},
   "source": [
    "##### Note if you want to evaluate azerty, please use the <code> get_azerty() </code> method to get the corresponding mapping: "
   ]
  },
  {
   "cell_type": "code",
   "execution_count": 6,
   "metadata": {
    "collapsed": false,
    "scrolled": true
   },
   "outputs": [
    {
     "name": "stdout",
     "output_type": "stream",
     "text": [
      "read in: characters, keyslots and letters\n",
      "read in: similarity values\n",
      "read in: distance values\n",
      "´d composes í\n",
      "´d composes á\n",
      "`d composes è\n",
      "`d composes ù\n",
      "^d composes ê\n",
      "^d composes ô\n",
      "^d composes û\n",
      "^d composes î\n",
      "^d composes â\n",
      "¨d composes ï\n",
      "¨d composes ö\n",
      "¨d composes ü\n",
      "¨d composes ë\n",
      "Done reading input values.\n",
      "space not in the to-be-mapped character set\n",
      "1 not in the to-be-mapped character set\n",
      "0 not in the to-be-mapped character set\n",
      "3 not in the to-be-mapped character set\n",
      "5 not in the to-be-mapped character set\n",
      "4 not in the to-be-mapped character set\n",
      "7 not in the to-be-mapped character set\n",
      "6 not in the to-be-mapped character set\n",
      "9 not in the to-be-mapped character set\n",
      "8 not in the to-be-mapped character set\n",
      "è not in the to-be-mapped character set\n",
      "ù not in the to-be-mapped character set\n",
      "2 not in the to-be-mapped character set\n",
      "˚ not in the to-be-mapped character set\n",
      "^ not in the to-be-mapped character set\n",
      "a not in the to-be-mapped character set\n",
      "c not in the to-be-mapped character set\n",
      "b not in the to-be-mapped character set\n",
      "e not in the to-be-mapped character set\n",
      "d not in the to-be-mapped character set\n",
      "g not in the to-be-mapped character set\n",
      "f not in the to-be-mapped character set\n",
      "i not in the to-be-mapped character set\n",
      "h not in the to-be-mapped character set\n",
      "k not in the to-be-mapped character set\n",
      "j not in the to-be-mapped character set\n",
      "m not in the to-be-mapped character set\n",
      "l not in the to-be-mapped character set\n",
      "o not in the to-be-mapped character set\n",
      "n not in the to-be-mapped character set\n",
      "q not in the to-be-mapped character set\n",
      "p not in the to-be-mapped character set\n",
      "s not in the to-be-mapped character set\n",
      "r not in the to-be-mapped character set\n",
      "u not in the to-be-mapped character set\n",
      "t not in the to-be-mapped character set\n",
      "w not in the to-be-mapped character set\n",
      "v not in the to-be-mapped character set\n",
      "y not in the to-be-mapped character set\n",
      "x not in the to-be-mapped character set\n",
      "z not in the to-be-mapped character set\n",
      "1.49918758404\n",
      "0.00626063483174\n"
     ]
    },
    {
     "data": {
      "image/png": "[encoded data removed]",
      "text/plain": [
       "<matplotlib.figure.Figure at 0x2000df98>"
      ]
     },
     "metadata": {},
     "output_type": "display_data"
    }
   ],
   "source": [
    "mapping = get_azerty()\n",
    "plot_mapping(mapping, plotname=\"azerty.png\", w_p=w_p, w_a=w_a, w_f=w_f, w_e=w_e, level_cost=level_cost, quadratic=1)      \n"
   ]
  },
  {
   "cell_type": "code",
   "execution_count": 1,
   "metadata": {
    "collapsed": false
   },
   "outputs": [],
   "source": []
  },
  {
   "cell_type": "code",
   "execution_count": null,
   "metadata": {
    "collapsed": false
   },
   "outputs": [],
   "source": []
  },
  {
   "cell_type": "code",
   "execution_count": null,
   "metadata": {
    "collapsed": true
   },
   "outputs": [],
   "source": []
  }
 ],
 "metadata": {
  "kernelspec": {
   "display_name": "Python 2",
   "language": "python",
   "name": "python2"
  },
  "language_info": {
   "codemirror_mode": {
    "name": "ipython",
    "version": 2
   },
   "file_extension": ".py",
   "mimetype": "text/x-python",
   "name": "python",
   "nbconvert_exporter": "python",
   "pygments_lexer": "ipython2",
   "version": "2.7.11"
  }
 },
 "nbformat": 4,
 "nbformat_minor": 0
}
