{
 "cells": [
  {
   "cell_type": "markdown",
   "metadata": {},
   "source": [
    "### <i>Note: this source code is also available in main.py</i>"
   ]
  },
  {
   "cell_type": "code",
   "execution_count": 1,
   "metadata": {
    "collapsed": false
   },
   "outputs": [
    {
     "ename": "SyntaxError",
     "evalue": "invalid syntax (plotting.py, line 28)",
     "output_type": "error",
     "traceback": [
      "\u001b[1;36m  File \u001b[1;32m\"plotting.py\"\u001b[1;36m, line \u001b[1;32m28\u001b[0m\n\u001b[1;33m    elif:\u001b[0m\n\u001b[1;37m        ^\u001b[0m\n\u001b[1;31mSyntaxError\u001b[0m\u001b[1;31m:\u001b[0m invalid syntax\n"
     ]
    }
   ],
   "source": [
    "# -*- coding: utf-8 -*-\n",
    "from objectives import * \n",
    "from read_input import *\n",
    "from plotting import *\n",
    "from reformulation_input import *\n",
    "from evaluate_reformualtion_solution import * \n",
    "\n",
    "%matplotlib inline\n",
    "PYTHONIOENCODING=\"utf-8\""
   ]
  },
  {
   "cell_type": "markdown",
   "metadata": {
    "collapsed": true
   },
   "source": [
    "### Define the scenario and optimize the keyboard\n",
    "Here you can define: \n",
    "- the weights for each objective\n",
    "- the <code>level cost</code> used in familiarity objective\n",
    "\n",
    "In addition, the system will use the following input files from folder <code>input </code>:\n",
    "\n",
    "##### If you want to use a different file, you can change the path in \"read_input.py\". For the new file, make sure to keep everything in the same format, in particular with respects to separators (mostly space, but please check). </i>\n",
    "\n",
    "<code>azerty.csv </code><br>\n",
    "<i> Do not change. </i>Defines the location of each character on the current azerty layout. Used in familiarity score.\n",
    "\n",
    "<code>numbers.csv </code><br>\n",
    "<i> Can be changed. </i>Defines the keys that are reserved for numbers. Change to fix the numbers to other keyslots (e.g. unshifted) or add other fixed characters. Characters added here will be fixed to the given keyslot and not considered in the optimization (also not influence the location of other keys).\n",
    "\n",
    "<code>characters.txt </code><br>\n",
    "<i> Can be changed. </i>A list of characters that should be mapped on the keyboard. Remove or add characters as you like. If you add a character, ensure that its probability and similarity scores are defined.\n",
    "**Do not add characters from the alphabet or space.**\n",
    "\n",
    "<code>variable_slots.csv </code><br>\n",
    "A list of all free slots to which the characters can be assigned during optimization. Usually this file does not need to be changed. Any character you want to fix you can add to <code>numbers.csv</code> and will be automatically removed from this list. However, if you want to completely remove a slot from the optimization, you can do it here (e.g. <code>A03_Alt</code> to not allow any assignment to <code>Alt + Space</code>)\n",
    "\n",
    "<code>letters.txt </code><br>\n",
    "<i> Do not change. </i>A list of letters that are fixed on the keyboard according to the azerty layout (<code>azerty.csv </code>). Characters are optimized in relation to these fixed letters. Our collected data (e.g. performance data) does not allow to change this set. If you want to fix a character to a certain key, remove that character from the <code>characters.txt </code> and add it to <code>numbers.csv </code><br>. Then the key won't be considered by the optimization. However, it will also not influence the assignment of other keys\n",
    "\n",
    "<code>distance.xlsx </code><br>\n",
    "<i> Can be changed. </i>Matrix that defines the distance between two keyslots as the sum of row and column distance. An extra level cost (Shift, Alt, Alt+Shift) is taken into account in the familiarity score and can be defined in the scenario. The distance is normalized to [0,1] when reading the distance matrix. \n",
    "\n",
    "<code>similarity_c_c_binary.xlsx</code> and <code>similarity_c_l.xlsx</code><br>\n",
    "<i> Can be changed. </i>Matrix that defines the similarity between two characters or for a character-letter pair. The similarity is given between 0 and 1. This is a symmetric score, and the value should only be filled once!\n",
    "\n",
    "<code>performance.csv</code><br>\n",
    "<i> Can be changed. </i> Defines the performance of a transition between two keys. \n",
    "\n",
    "<code>ergonomics_antti.csv</code><br>\n",
    "<i> Can be changed. </i> Defines the ergonomics value for of a transition between two keys, as given by Antti.\n",
    "\n",
    "<code>frequency_letters_bepo.csv</code><br>\n",
    "<i> Can be changed. </i> Defines the frequency of each letter, here as used by the bepo guys. The code takes care of deadkeys. \n",
    "\n",
    "<code>frequency_bigrams_bepo.csv</code><br>\n",
    "<i> Can be changed. </i> Defines the frequency of each bigram, here as used by the bepo guys. The code takes care of deadkeys. \n",
    "\n",
    "<code>all_slots.txt</code><br>\n",
    "<i> Do not change. </i> Contains all keyboard slots. Only relevant for plotting. "
   ]
  },
  {
   "cell_type": "code",
   "execution_count": 2,
   "metadata": {
    "collapsed": false
   },
   "outputs": [],
   "source": [
    "#Define the weights for:\n",
    "#w_p: Performance\n",
    "#w_a: Association\n",
    "#w_f: Familiarity\n",
    "#w_e: Ergonomics\n",
    "w_p, w_a, w_f, w_e = [0.25, 0.25, 0.25, 0.25]\n",
    "\n",
    "\n",
    "#Define the extra cost for the level of the keyslot added when computing the distance between two keyslots. \n",
    "# This is used in familiarity score to punish the assignment to other levels as used on azerty.\n",
    "#Example: \n",
    "#level_cost = {u'':0, u'Shift':1, u'Alt':2, u'Alt_Shift':3}\n",
    "#distance[E_00, E_00_Alt] = 2\n",
    "#distance[E_00_Shift, E_00_Alt] = 1\n",
    "level_cost = {u'':0, u'Shift':1, u'Alt':2, u'Alt_Shift':3}\n"
   ]
  },
  {
   "cell_type": "markdown",
   "metadata": {},
   "source": [
    "### Create input for reformulation\n",
    "In order for it to run fast, we need to reformulate the problem to the kaufmann-broekx reformulation. The reformulation itself is done with the C++ code provided by Andreas Karrenbauer. Here, we only prepare the input file for this code. "
   ]
  },
  {
   "cell_type": "code",
   "execution_count": null,
   "metadata": {
    "collapsed": false
   },
   "outputs": [],
   "source": []
  },
  {
   "cell_type": "code",
   "execution_count": 8,
   "metadata": {
    "collapsed": false,
    "scrolled": true
   },
   "outputs": [
    {
     "name": "stdout",
     "output_type": "stream",
     "text": [
      "read in: characters, keyslots and letters\n",
      "read in: similarity values\n",
      "read in: distance values\n"
     ]
    },
    {
     "ename": "KeyboardInterrupt",
     "evalue": "",
     "output_type": "error",
     "traceback": [
      "\u001b[1;31m---------------------------------------------------------------------------\u001b[0m",
      "\u001b[1;31mKeyboardInterrupt\u001b[0m                         Traceback (most recent call last)",
      "\u001b[1;32m<ipython-input-8-2b74e602eca5>\u001b[0m in \u001b[0;36m<module>\u001b[1;34m()\u001b[0m\n\u001b[1;32m----> 1\u001b[1;33m \u001b[0mcreate_reformulation_input\u001b[0m\u001b[1;33m(\u001b[0m\u001b[0mw_p\u001b[0m\u001b[1;33m,\u001b[0m \u001b[0mw_a\u001b[0m\u001b[1;33m,\u001b[0m \u001b[0mw_f\u001b[0m\u001b[1;33m,\u001b[0m \u001b[0mw_e\u001b[0m\u001b[1;33m,\u001b[0m \u001b[0mlevel_cost\u001b[0m\u001b[1;33m)\u001b[0m\u001b[1;33m\u001b[0m\u001b[0m\n\u001b[0m",
      "\u001b[1;32mD:\\Anna\\python\\optimizing-the-french-keyboard\\reformulation_input.pyc\u001b[0m in \u001b[0;36mcreate_reformulation_input\u001b[1;34m(w_P, w_A, w_F, w_E, level_cost)\u001b[0m\n\u001b[0;32m     22\u001b[0m \u001b[1;33m\u001b[0m\u001b[0m\n\u001b[0;32m     23\u001b[0m     \u001b[1;32mprint\u001b[0m \u001b[1;34m\"read in: distance values\"\u001b[0m\u001b[1;33m\u001b[0m\u001b[0m\n\u001b[1;32m---> 24\u001b[1;33m     \u001b[0mdistance_level_0\u001b[0m\u001b[1;33m,\u001b[0m \u001b[0mdistance_level_1\u001b[0m \u001b[1;33m=\u001b[0m \u001b[0mget_distances\u001b[0m\u001b[1;33m(\u001b[0m\u001b[0mlevel_cost\u001b[0m\u001b[1;33m)\u001b[0m\u001b[1;33m\u001b[0m\u001b[0m\n\u001b[0m\u001b[0;32m     25\u001b[0m \u001b[1;33m\u001b[0m\u001b[0m\n\u001b[0;32m     26\u001b[0m     \u001b[1;31m#read in  probabilities\u001b[0m\u001b[1;33m\u001b[0m\u001b[1;33m\u001b[0m\u001b[0m\n",
      "\u001b[1;32mD:\\Anna\\python\\optimizing-the-french-keyboard\\read_input.py\u001b[0m in \u001b[0;36mget_distances\u001b[1;34m(level_cost)\u001b[0m\n\u001b[0;32m    111\u001b[0m     \"\"\"\n\u001b[0;32m    112\u001b[0m     \u001b[1;31m#Distance values (key,key)->d\u001b[0m\u001b[1;33m\u001b[0m\u001b[1;33m\u001b[0m\u001b[0m\n\u001b[1;32m--> 113\u001b[1;33m     \u001b[0mdistance_level_0\u001b[0m\u001b[1;33m,\u001b[0m \u001b[0mdistance_level_1\u001b[0m \u001b[1;33m=\u001b[0m \u001b[0m_read_distance_matrix\u001b[0m\u001b[1;33m(\u001b[0m\u001b[0m_distance_file\u001b[0m\u001b[1;33m,\u001b[0m \u001b[0mlevel_cost\u001b[0m\u001b[1;33m,\u001b[0m \u001b[0mrecompute\u001b[0m\u001b[1;33m=\u001b[0m\u001b[1;36m0\u001b[0m\u001b[1;33m)\u001b[0m\u001b[1;33m\u001b[0m\u001b[0m\n\u001b[0m\u001b[0;32m    114\u001b[0m     \u001b[1;32mreturn\u001b[0m \u001b[0mdistance_level_0\u001b[0m\u001b[1;33m,\u001b[0m \u001b[0mdistance_level_1\u001b[0m\u001b[1;33m\u001b[0m\u001b[0m\n\u001b[0;32m    115\u001b[0m \u001b[1;33m\u001b[0m\u001b[0m\n",
      "\u001b[1;32mD:\\Anna\\python\\optimizing-the-french-keyboard\\read_input.py\u001b[0m in \u001b[0;36m_read_distance_matrix\u001b[1;34m(path, level_cost, recompute)\u001b[0m\n\u001b[0;32m    314\u001b[0m                     \u001b[1;32mif\u001b[0m \u001b[0mint\u001b[0m\u001b[1;33m(\u001b[0m\u001b[0mslot1\u001b[0m\u001b[1;33m[\u001b[0m\u001b[1;36m1\u001b[0m\u001b[1;33m:\u001b[0m\u001b[1;36m3\u001b[0m\u001b[1;33m]\u001b[0m\u001b[1;33m)\u001b[0m\u001b[1;33m>\u001b[0m\u001b[1;36m3\u001b[0m\u001b[1;33m:\u001b[0m\u001b[1;33m\u001b[0m\u001b[0m\n\u001b[0;32m    315\u001b[0m                         \u001b[0mcolumn_distance\u001b[0m \u001b[1;33m=\u001b[0m \u001b[0mmax\u001b[0m\u001b[1;33m(\u001b[0m\u001b[1;36m0\u001b[0m\u001b[1;33m,\u001b[0m\u001b[0mcolumn_distance\u001b[0m\u001b[1;33m-\u001b[0m\u001b[1;36m4\u001b[0m\u001b[1;33m)\u001b[0m\u001b[1;33m\u001b[0m\u001b[0m\n\u001b[1;32m--> 316\u001b[1;33m                 \u001b[0mdf\u001b[0m\u001b[1;33m.\u001b[0m\u001b[0miloc\u001b[0m\u001b[1;33m[\u001b[0m\u001b[0mi\u001b[0m\u001b[1;33m,\u001b[0m\u001b[0mj\u001b[0m\u001b[1;33m]\u001b[0m \u001b[1;33m=\u001b[0m \u001b[0mrow_distance\u001b[0m\u001b[1;33m+\u001b[0m\u001b[0mcolumn_distance\u001b[0m\u001b[1;33m\u001b[0m\u001b[0m\n\u001b[0m\u001b[0;32m    317\u001b[0m                 \u001b[0mchanged\u001b[0m \u001b[1;33m=\u001b[0m \u001b[1;36m1\u001b[0m\u001b[1;33m\u001b[0m\u001b[0m\n\u001b[0;32m    318\u001b[0m \u001b[1;33m\u001b[0m\u001b[0m\n",
      "\u001b[1;32mD:\\Software\\Anaconda2\\lib\\site-packages\\pandas\\core\\generic.pyc\u001b[0m in \u001b[0;36mstat_func\u001b[1;34m(self, axis, skipna, level, numeric_only, **kwargs)\u001b[0m\n\u001b[0;32m   4835\u001b[0m                                       skipna=skipna)\n\u001b[0;32m   4836\u001b[0m         return self._reduce(f, name, axis=axis,\n\u001b[1;32m-> 4837\u001b[1;33m                             skipna=skipna, numeric_only=numeric_only)\n\u001b[0m\u001b[0;32m   4838\u001b[0m     \u001b[0mstat_func\u001b[0m\u001b[1;33m.\u001b[0m\u001b[0m__name__\u001b[0m \u001b[1;33m=\u001b[0m \u001b[0mname\u001b[0m\u001b[1;33m\u001b[0m\u001b[0m\n\u001b[0;32m   4839\u001b[0m     \u001b[1;32mreturn\u001b[0m \u001b[0mstat_func\u001b[0m\u001b[1;33m\u001b[0m\u001b[0m\n",
      "\u001b[1;32mD:\\Software\\Anaconda2\\lib\\site-packages\\pandas\\core\\frame.pyc\u001b[0m in \u001b[0;36m_reduce\u001b[1;34m(self, op, name, axis, skipna, numeric_only, filter_type, **kwds)\u001b[0m\n\u001b[0;32m   4703\u001b[0m                     \u001b[0mresult\u001b[0m \u001b[1;33m=\u001b[0m \u001b[0mcom\u001b[0m\u001b[1;33m.\u001b[0m\u001b[0m_coerce_to_dtypes\u001b[0m\u001b[1;33m(\u001b[0m\u001b[0mresult\u001b[0m\u001b[1;33m,\u001b[0m \u001b[0mself\u001b[0m\u001b[1;33m.\u001b[0m\u001b[0mdtypes\u001b[0m\u001b[1;33m)\u001b[0m\u001b[1;33m\u001b[0m\u001b[0m\n\u001b[0;32m   4704\u001b[0m \u001b[1;33m\u001b[0m\u001b[0m\n\u001b[1;32m-> 4705\u001b[1;33m         \u001b[1;32mreturn\u001b[0m \u001b[0mSeries\u001b[0m\u001b[1;33m(\u001b[0m\u001b[0mresult\u001b[0m\u001b[1;33m,\u001b[0m \u001b[0mindex\u001b[0m\u001b[1;33m=\u001b[0m\u001b[0mlabels\u001b[0m\u001b[1;33m)\u001b[0m\u001b[1;33m\u001b[0m\u001b[0m\n\u001b[0m\u001b[0;32m   4706\u001b[0m \u001b[1;33m\u001b[0m\u001b[0m\n\u001b[0;32m   4707\u001b[0m     \u001b[1;32mdef\u001b[0m \u001b[0midxmin\u001b[0m\u001b[1;33m(\u001b[0m\u001b[0mself\u001b[0m\u001b[1;33m,\u001b[0m \u001b[0maxis\u001b[0m\u001b[1;33m=\u001b[0m\u001b[1;36m0\u001b[0m\u001b[1;33m,\u001b[0m \u001b[0mskipna\u001b[0m\u001b[1;33m=\u001b[0m\u001b[0mTrue\u001b[0m\u001b[1;33m)\u001b[0m\u001b[1;33m:\u001b[0m\u001b[1;33m\u001b[0m\u001b[0m\n",
      "\u001b[1;32mD:\\Software\\Anaconda2\\lib\\site-packages\\pandas\\core\\series.pyc\u001b[0m in \u001b[0;36m__init__\u001b[1;34m(self, data, index, dtype, name, copy, fastpath)\u001b[0m\n\u001b[0;32m    223\u001b[0m             \u001b[1;32melse\u001b[0m\u001b[1;33m:\u001b[0m\u001b[1;33m\u001b[0m\u001b[0m\n\u001b[0;32m    224\u001b[0m                 data = _sanitize_array(data, index, dtype, copy,\n\u001b[1;32m--> 225\u001b[1;33m                                        raise_cast_failure=True)\n\u001b[0m\u001b[0;32m    226\u001b[0m \u001b[1;33m\u001b[0m\u001b[0m\n\u001b[0;32m    227\u001b[0m                 \u001b[0mdata\u001b[0m \u001b[1;33m=\u001b[0m \u001b[0mSingleBlockManager\u001b[0m\u001b[1;33m(\u001b[0m\u001b[0mdata\u001b[0m\u001b[1;33m,\u001b[0m \u001b[0mindex\u001b[0m\u001b[1;33m,\u001b[0m \u001b[0mfastpath\u001b[0m\u001b[1;33m=\u001b[0m\u001b[0mTrue\u001b[0m\u001b[1;33m)\u001b[0m\u001b[1;33m\u001b[0m\u001b[0m\n",
      "\u001b[1;32mD:\\Software\\Anaconda2\\lib\\site-packages\\pandas\\core\\series.pyc\u001b[0m in \u001b[0;36m_sanitize_array\u001b[1;34m(data, index, dtype, copy, raise_cast_failure)\u001b[0m\n\u001b[0;32m   2771\u001b[0m             \u001b[0mdata\u001b[0m \u001b[1;33m=\u001b[0m \u001b[0mdata\u001b[0m\u001b[1;33m.\u001b[0m\u001b[0mcopy\u001b[0m\u001b[1;33m(\u001b[0m\u001b[1;33m)\u001b[0m\u001b[1;33m\u001b[0m\u001b[0m\n\u001b[0;32m   2772\u001b[0m \u001b[1;33m\u001b[0m\u001b[0m\n\u001b[1;32m-> 2773\u001b[1;33m     \u001b[1;32mdef\u001b[0m \u001b[0m_try_cast\u001b[0m\u001b[1;33m(\u001b[0m\u001b[0marr\u001b[0m\u001b[1;33m,\u001b[0m \u001b[0mtake_fast_path\u001b[0m\u001b[1;33m)\u001b[0m\u001b[1;33m:\u001b[0m\u001b[1;33m\u001b[0m\u001b[0m\n\u001b[0m\u001b[0;32m   2774\u001b[0m \u001b[1;33m\u001b[0m\u001b[0m\n\u001b[0;32m   2775\u001b[0m         \u001b[1;31m# perf shortcut as this is the most common case\u001b[0m\u001b[1;33m\u001b[0m\u001b[1;33m\u001b[0m\u001b[0m\n",
      "\u001b[1;31mKeyboardInterrupt\u001b[0m: "
     ]
    }
   ],
   "source": [
    "create_reformulation_input(w_p, w_a, w_f, w_e, level_cost)"
   ]
  },
  {
   "cell_type": "markdown",
   "metadata": {},
   "source": [
    "# <font color=\"red\">Attention: now switch to C++ </font>\n",
    "Before continuing, switch to C++ program in <code>\"reformulation\"</code> folder and run ./kaufmanbroeckx < reformulation_input.txt > reformulation.lp with a c++ compiler. \n",
    "\n",
    "If you switched to another computer for that, copy the prodcued file in the <code>\"reformulation\"</code> folder.\n"
   ]
  },
  {
   "cell_type": "markdown",
   "metadata": {},
   "source": [
    "If you don't want to use the console, continue here. This will do the same as <code>\"main_optimize_reformulation.py\"</code>\n",
    "### Optimize reformulation\n",
    "Note: reformulation.lp must be created by Andreas' C++ code prior to calling the optimization.\n",
    "\n",
    "Runs the optimization and saves the global optimum to a file. \n",
    "Also saves intermediate solutions to the <code> mappings </code> folder\n",
    "\n",
    "##### <font color=\"red\">Switch to console for faster execution, and skip the code below.</font>\n",
    "I believe that solving the problem is faster in the console than in Ipython due to parallelism. Therefore, continue with running\n",
    "##### <code>main_optimize_reformulation.py</code> \n",
    "in the console. Make sure to edit the file accordingly, if you have changed the weights above.\n",
    "\n",
    "If you don't want to use the console, uncomment the lines below and continue here. This will do the same as <code>\"main_optimize_reformulation.py\"</code>"
   ]
  },
  {
   "cell_type": "code",
   "execution_count": 3,
   "metadata": {
    "collapsed": false
   },
   "outputs": [
    {
     "ename": "NameError",
     "evalue": "name 'optimize_reformulation' is not defined",
     "output_type": "error",
     "traceback": [
      "\u001b[1;31m---------------------------------------------------------------------------\u001b[0m",
      "\u001b[1;31mNameError\u001b[0m                                 Traceback (most recent call last)",
      "\u001b[1;32m<ipython-input-3-df3177317aee>\u001b[0m in \u001b[0;36m<module>\u001b[1;34m()\u001b[0m\n\u001b[0;32m      1\u001b[0m \u001b[1;31m#from optimize import *\u001b[0m\u001b[1;33m\u001b[0m\u001b[1;33m\u001b[0m\u001b[0m\n\u001b[1;32m----> 2\u001b[1;33m \u001b[0mmodel\u001b[0m\u001b[1;33m,\u001b[0m \u001b[0mmapping\u001b[0m \u001b[1;33m=\u001b[0m \u001b[0moptimize_reformulation\u001b[0m\u001b[1;33m(\u001b[0m\u001b[1;34m\"reformulation\\\\reformulation.lp\"\u001b[0m\u001b[1;33m)\u001b[0m\u001b[1;33m\u001b[0m\u001b[0m\n\u001b[0m\u001b[0;32m      3\u001b[0m \u001b[0mplot_mapping\u001b[0m\u001b[1;33m(\u001b[0m\u001b[0mmapping\u001b[0m\u001b[1;33m,\u001b[0m \u001b[0mplotname\u001b[0m\u001b[1;33m=\u001b[0m\u001b[1;34m\"optimum.png\"\u001b[0m\u001b[1;33m,\u001b[0m \u001b[0mw_p\u001b[0m\u001b[1;33m=\u001b[0m\u001b[0mw_p\u001b[0m\u001b[1;33m,\u001b[0m \u001b[0mw_a\u001b[0m\u001b[1;33m=\u001b[0m\u001b[0mw_a\u001b[0m\u001b[1;33m,\u001b[0m \u001b[0mw_f\u001b[0m\u001b[1;33m=\u001b[0m\u001b[0mw_f\u001b[0m\u001b[1;33m,\u001b[0m \u001b[0mw_e\u001b[0m\u001b[1;33m=\u001b[0m\u001b[0mw_e\u001b[0m\u001b[1;33m,\u001b[0m \u001b[0mlevel_cost\u001b[0m\u001b[1;33m=\u001b[0m\u001b[0mlevel_cost\u001b[0m\u001b[1;33m,\u001b[0m \u001b[0mquadratic\u001b[0m\u001b[1;33m=\u001b[0m\u001b[1;36m1\u001b[0m\u001b[1;33m)\u001b[0m\u001b[1;33m\u001b[0m\u001b[0m\n",
      "\u001b[1;31mNameError\u001b[0m: name 'optimize_reformulation' is not defined"
     ]
    }
   ],
   "source": [
    "#from optimize import *\n",
    "#model, mapping = optimize_reformulation(\"reformulation\\\\reformulation.lp\")\n",
    "#plot_mapping(mapping, plotname=\"optimum.png\", w_p=w_p, w_a=w_a, w_f=w_f, w_e=w_e, level_cost=level_cost, quadratic=1)"
   ]
  },
  {
   "cell_type": "markdown",
   "metadata": {},
   "source": [
    "### If you have stoped the optimization before it terminated:\n",
    "The third last column (or so) in the console output gives you the Gap between the score of the current best solution and the global optimum. You can probably stop the code after one day of running, if the gap is below 1% or so. \n",
    "\n",
    "Then run the following code to :\n",
    "- put the best found mapping in a human readable format that can also be easily modified, and\n",
    "- produce the graph with objectives\n",
    "\n",
    "Output will be stored in the <code> mappings </code> folder"
   ]
  },
  {
   "cell_type": "code",
   "execution_count": 3,
   "metadata": {
    "collapsed": false
   },
   "outputs": [
    {
     "name": "stdout",
     "output_type": "stream",
     "text": [
      "read in: characters, keyslots and letters\n",
      "read in: similarity values\n",
      "read in: distance values\n",
      "´d composes í\n",
      "´d composes á\n",
      "`d composes è\n",
      "`d composes ù\n",
      "^d composes ê\n",
      "^d composes ô\n",
      "^d composes û\n",
      "^d composes î\n",
      "^d composes â\n",
      "¨d composes ï\n",
      "¨d composes ö\n",
      "¨d composes ü\n",
      "¨d composes ë\n",
      "Done reading input values.\n"
     ]
    },
    {
     "data": {
      "image/png": "[encoded data removed]",
      "text/plain": [
       "<matplotlib.figure.Figure at 0x1c652860>"
      ]
     },
     "metadata": {},
     "output_type": "display_data"
    }
   ],
   "source": [
    "evaluate_optimized_reformulation(w_p, w_a, w_f, w_e, level_cost)"
   ]
  },
  {
   "cell_type": "markdown",
   "metadata": {},
   "source": [
    "### To compute the objectives for a given mapping:\n",
    "Given a mapping (dict from characters to keyslots) we can compute the values for each objective. \n",
    "The mapping can be given in form of a file path, either to a .txt file for which the format is \n",
    "\"letter key\"\n",
    "or to \".mst\" file created from optimizing the reformulation. "
   ]
  },
  {
   "cell_type": "code",
   "execution_count": 5,
   "metadata": {
    "collapsed": false,
    "scrolled": false
   },
   "outputs": [
    {
     "name": "stdout",
     "output_type": "stream",
     "text": [
      "mappings\\solution_0.0224.mst\n"
     ]
    },
    {
     "ename": "AttributeError",
     "evalue": "'dict' object has no attribute 'split'",
     "output_type": "error",
     "traceback": [
      "\u001b[1;31m---------------------------------------------------------------------------\u001b[0m",
      "\u001b[1;31mAttributeError\u001b[0m                            Traceback (most recent call last)",
      "\u001b[1;32m<ipython-input-5-749fa6165684>\u001b[0m in \u001b[0;36m<module>\u001b[1;34m()\u001b[0m\n\u001b[0;32m     16\u001b[0m     \u001b[1;32mif\u001b[0m \u001b[0mmapping\u001b[0m\u001b[1;33m.\u001b[0m\u001b[0msplit\u001b[0m\u001b[1;33m(\u001b[0m\u001b[1;34m\".\"\u001b[0m\u001b[1;33m)\u001b[0m\u001b[1;33m[\u001b[0m\u001b[1;33m-\u001b[0m\u001b[1;36m1\u001b[0m\u001b[1;33m]\u001b[0m \u001b[1;33m==\u001b[0m \u001b[1;34m\"mst\"\u001b[0m\u001b[1;33m:\u001b[0m\u001b[1;33m\u001b[0m\u001b[0m\n\u001b[0;32m     17\u001b[0m         \u001b[0mmapping\u001b[0m\u001b[1;33m,\u001b[0m \u001b[0mobj\u001b[0m \u001b[1;33m=\u001b[0m \u001b[0mcreate_map_from_reformulation\u001b[0m\u001b[1;33m(\u001b[0m\u001b[0mmapping\u001b[0m\u001b[1;33m)\u001b[0m\u001b[1;33m\u001b[0m\u001b[0m\n\u001b[1;32m---> 18\u001b[1;33m     \u001b[1;32mif\u001b[0m \u001b[0mmapping\u001b[0m\u001b[1;33m.\u001b[0m\u001b[0msplit\u001b[0m\u001b[1;33m(\u001b[0m\u001b[1;34m\".\"\u001b[0m\u001b[1;33m)\u001b[0m\u001b[1;33m[\u001b[0m\u001b[1;33m-\u001b[0m\u001b[1;36m1\u001b[0m\u001b[1;33m]\u001b[0m \u001b[1;33m==\u001b[0m \u001b[1;34m\"txt\"\u001b[0m\u001b[1;33m:\u001b[0m\u001b[1;33m\u001b[0m\u001b[0m\n\u001b[0m\u001b[0;32m     19\u001b[0m         \u001b[0mmapping\u001b[0m \u001b[1;33m=\u001b[0m \u001b[0mcreate_map_from_txt\u001b[0m\u001b[1;33m(\u001b[0m\u001b[0mmapping\u001b[0m\u001b[1;33m)\u001b[0m\u001b[1;33m\u001b[0m\u001b[0m\n\u001b[0;32m     20\u001b[0m \u001b[1;33m\u001b[0m\u001b[0m\n",
      "\u001b[1;31mAttributeError\u001b[0m: 'dict' object has no attribute 'split'"
     ]
    }
   ],
   "source": [
    "#You can directly use the plot_mapping function:\n",
    "path = \"mappings\\\\solution_0.0224.txt\"\n",
    "plot_mapping(path, plotname=path+\".png\", w_p=w_p, w_a=w_a, w_f=w_f, w_e=w_e, level_cost=level_cost, quadratic=1)      "
   ]
  },
  {
   "cell_type": "code",
   "execution_count": 6,
   "metadata": {
    "collapsed": false
   },
   "outputs": [
    {
     "data": {
      "text/plain": [
       "{u'!': u'B08_Shift',\n",
       " u'\"': u'E04',\n",
       " u'#': u'E04_Alt',\n",
       " u'$': u'C02_Alt',\n",
       " u'%': u'C11',\n",
       " u'&': u'E02',\n",
       " u\"'\": u'B07',\n",
       " u'(': u'E05',\n",
       " u')': u'E10',\n",
       " u'*': u'C12',\n",
       " u'+': u'D12',\n",
       " u',': u'E07_Alt_Shift',\n",
       " u'-': u'E06',\n",
       " u'.': u'B08',\n",
       " u'...': u'C12_Alt_Shift',\n",
       " u'/': u'B09_Shift',\n",
       " u':': u'B09',\n",
       " u';': u'E07',\n",
       " u'<': u'B00_Shift',\n",
       " u'=': u'E09',\n",
       " u'>': u'B02_Alt',\n",
       " u'?': u'B07_Shift',\n",
       " u'@': u'D02_Alt',\n",
       " u\"C'H\": u'C06_Alt_Shift',\n",
       " u\"C'h\": u'E08_Alt',\n",
       " u'[': u'D05_Alt',\n",
       " u'\\\\': u'B09_Alt',\n",
       " u']': u'D10_Alt',\n",
       " u'^d': u'D11',\n",
       " u'_': u'E08',\n",
       " u'`d': u'E07_Alt',\n",
       " u\"c'h\": u'E02_Alt',\n",
       " u'{': u'C01_Alt_Shift',\n",
       " u'|': u'B00',\n",
       " u'}': u'E10_Alt_Shift',\n",
       " u'~': u'E06_Alt',\n",
       " u'~d': u'E01_Alt_Shift',\n",
       " u'\\xa1': u'E12',\n",
       " u'\\xa3': u'D10_Alt_Shift',\n",
       " u'\\xa4': u'E09_Alt',\n",
       " u'\\xa6': u'B08_Alt_Shift',\n",
       " u'\\xa7': u'C11_Shift',\n",
       " u'\\xa8d': u'D11_Shift',\n",
       " u'\\xab': u'B10_Shift',\n",
       " u'\\xb1': u'C06_Alt',\n",
       " u'\\xb2': u'D02_Alt_Shift',\n",
       " u'\\xb4d': u'E06_Alt_Shift',\n",
       " u'\\xb5': u'C10_Alt_Shift',\n",
       " u'\\xb8d': u'D06_Alt',\n",
       " u'\\xbb': u'B10',\n",
       " u'\\xbf': u'B06_Alt_Shift',\n",
       " u'\\xc0': u'E01_Alt',\n",
       " u'\\xc6': u'D01_Alt',\n",
       " u'\\xc9': u'D03_Alt',\n",
       " u'\\xd0': u'E03_Alt',\n",
       " u'\\xd7': u'C12_Alt',\n",
       " u'\\xd8': u'C09_Alt_Shift',\n",
       " u'\\xde': u'C05_Alt',\n",
       " u'\\xdf': u'C02_Alt_Shift',\n",
       " u'\\xe0': u'E01',\n",
       " u'\\xe6': u'D01_Alt_Shift',\n",
       " u'\\xe7': u'B03_Alt',\n",
       " u'\\xe9': u'E03',\n",
       " u'\\xf0': u'E10_Alt',\n",
       " u'\\xf7': u'B02_Alt_Shift',\n",
       " u'\\xf8': u'D08_Alt_Shift',\n",
       " u'\\xfe': u'D12_Alt',\n",
       " u'\\u0152': u'D09_Alt_Shift',\n",
       " u'\\u0153': u'D09_Alt',\n",
       " u'\\u02c7d': u'C03_Alt',\n",
       " u'\\u02d8d': u'B08_Alt',\n",
       " u'\\u02dad': u'E12_Shift',\n",
       " u'\\u02dbd': u'B06_Alt',\n",
       " u'\\u02ddd': u'B04_Alt',\n",
       " u'\\u030fd': u'B03_Alt_Shift',\n",
       " u'\\u2030': u'B07_Alt',\n",
       " u'\\u20ac': u'D03_Alt_Shift',\n",
       " u'\\u2260': u'E11',\n",
       " u'\\u2264': u'C04_Alt_Shift',\n",
       " u'\\u2265': u'D11_Alt'}"
      ]
     },
     "execution_count": 6,
     "metadata": {},
     "output_type": "execute_result"
    }
   ],
   "source": [
    "mapping"
   ]
  },
  {
   "cell_type": "markdown",
   "metadata": {},
   "source": [
    "##### Evaluate the bépo layout in the same way\n",
    "we only plot azerty-like layouts at the moment, so we'll only compute the objective scores for bépo and write them out. \n",
    "\n",
    "Note: the <code> mappings </code> folder only contains the optimized mappings. Other layouts should be stored in <code> input/layouts </code>"
   ]
  },
  {
   "cell_type": "code",
   "execution_count": 5,
   "metadata": {
    "collapsed": false
   },
   "outputs": [
    {
     "name": "stdout",
     "output_type": "stream",
     "text": [
      "read in: characters, keyslots and letters\n",
      "read in: similarity values\n",
      "read in: distance values\n",
      "´d composes í\n",
      "´d composes á\n",
      "`d composes è\n",
      "`d composes ù\n",
      "^d composes ê\n",
      "^d composes ô\n",
      "^d composes û\n",
      "^d composes î\n",
      "^d composes â\n",
      "¨d composes ï\n",
      "¨d composes ö\n",
      "¨d composes ü\n",
      "¨d composes ë\n",
      "Done reading input values.\n",
      "˙ not in the to-be-mapped character set\n",
      "— not in the to-be-mapped character set\n",
      "‘ not in the to-be-mapped character set\n",
      "“ not in the to-be-mapped character set\n",
      "† not in the to-be-mapped character set\n",
      "™ not in the to-be-mapped character set\n",
      "¯d not in the to-be-mapped character set\n",
      "″ not in the to-be-mapped character set\n",
      "Ĳ not in the to-be-mapped character set\n",
      "4 not in the to-be-mapped character set\n",
      "· not in the to-be-mapped character set\n",
      "8 not in the to-be-mapped character set\n",
      "` not in the to-be-mapped character set\n",
      "d not in the to-be-mapped character set\n",
      "h not in the to-be-mapped character set\n",
      "l not in the to-be-mapped character set\n",
      "d^ not in the to-be-mapped character set\n",
      "p not in the to-be-mapped character set\n",
      "t not in the to-be-mapped character set\n",
      "x not in the to-be-mapped character set\n",
      "space not in the to-be-mapped character set\n",
      "¨ not in the to-be-mapped character set\n",
      "¬ not in the to-be-mapped character set\n",
      "° not in the to-be-mapped character set\n",
      "3 not in the to-be-mapped character set\n",
      "´ not in the to-be-mapped character set\n",
      "7 not in the to-be-mapped character set\n",
      "¼ not in the to-be-mapped character set\n",
      "c not in the to-be-mapped character set\n",
      "g not in the to-be-mapped character set\n",
      "è not in the to-be-mapped character set\n",
      "k not in the to-be-mapped character set\n",
      "o not in the to-be-mapped character set\n",
      "s not in the to-be-mapped character set\n",
      "w not in the to-be-mapped character set\n",
      "e not in the to-be-mapped character set\n",
      "Ə not in the to-be-mapped character set\n",
      "− not in the to-be-mapped character set\n",
      "„ not in the to-be-mapped character set\n",
      "0 not in the to-be-mapped character set\n",
      "© not in the to-be-mapped character set\n",
      "2 not in the to-be-mapped character set\n",
      "6 not in the to-be-mapped character set\n",
      "½ not in the to-be-mapped character set\n",
      "˙d not in the to-be-mapped character set\n",
      "Ù not in the to-be-mapped character set\n",
      "′ not in the to-be-mapped character set\n",
      "˝ not in the to-be-mapped character set\n",
      "… not in the to-be-mapped character set\n",
      "b not in the to-be-mapped character set\n",
      "f not in the to-be-mapped character set\n",
      "j not in the to-be-mapped character set\n",
      "n not in the to-be-mapped character set\n",
      "r not in the to-be-mapped character set\n",
      "v not in the to-be-mapped character set\n",
      "ù not in the to-be-mapped character set\n",
      "z not in the to-be-mapped character set\n",
      "’ not in the to-be-mapped character set\n",
      "” not in the to-be-mapped character set\n",
      "ẞ not in the to-be-mapped character set\n",
      "ª not in the to-be-mapped character set\n",
      "® not in the to-be-mapped character set\n",
      "1 not in the to-be-mapped character set\n",
      "ĳ not in the to-be-mapped character set\n",
      "5 not in the to-be-mapped character set\n",
      "¶ not in the to-be-mapped character set\n",
      "9 not in the to-be-mapped character set\n",
      "¾ not in the to-be-mapped character set\n",
      "‡ not in the to-be-mapped character set\n",
      "ə not in the to-be-mapped character set\n",
      "a not in the to-be-mapped character set\n",
      "i not in the to-be-mapped character set\n",
      "ê not in the to-be-mapped character set\n",
      "m not in the to-be-mapped character set\n",
      "q not in the to-be-mapped character set\n",
      "u not in the to-be-mapped character set\n",
      "y not in the to-be-mapped character set\n",
      "ſ not in the to-be-mapped character set\n"
     ]
    },
    {
     "ename": "KeyError",
     "evalue": "(u';', u'C05_Shift')",
     "output_type": "error",
     "traceback": [
      "\u001b[1;31m---------------------------------------------------------------------------\u001b[0m",
      "\u001b[1;31mKeyError\u001b[0m                                  Traceback (most recent call last)",
      "\u001b[1;32m<ipython-input-5-93e3d8b58440>\u001b[0m in \u001b[0;36m<module>\u001b[1;34m()\u001b[0m\n\u001b[0;32m      1\u001b[0m \u001b[0mpath\u001b[0m \u001b[1;33m=\u001b[0m \u001b[1;34m\"input\\\\layouts\\\\bepo.txt\"\u001b[0m\u001b[1;33m\u001b[0m\u001b[0m\n\u001b[0;32m      2\u001b[0m \u001b[0mmapping\u001b[0m \u001b[1;33m=\u001b[0m \u001b[0mcreate_map_from_txt\u001b[0m\u001b[1;33m(\u001b[0m\u001b[0mpath\u001b[0m\u001b[1;33m)\u001b[0m\u001b[1;33m\u001b[0m\u001b[0m\n\u001b[1;32m----> 3\u001b[1;33m \u001b[0mobjective\u001b[0m\u001b[1;33m,\u001b[0m \u001b[0mp\u001b[0m\u001b[1;33m,\u001b[0m \u001b[0ma\u001b[0m\u001b[1;33m,\u001b[0m \u001b[0mf\u001b[0m\u001b[1;33m,\u001b[0m \u001b[0me\u001b[0m \u001b[1;33m=\u001b[0m \u001b[0mget_objectives\u001b[0m\u001b[1;33m(\u001b[0m\u001b[0mmapping\u001b[0m\u001b[1;33m,\u001b[0m \u001b[0mw_p\u001b[0m\u001b[1;33m,\u001b[0m \u001b[0mw_a\u001b[0m\u001b[1;33m,\u001b[0m \u001b[0mw_f\u001b[0m\u001b[1;33m,\u001b[0m \u001b[0mw_e\u001b[0m\u001b[1;33m,\u001b[0m \u001b[0mlevel_cost\u001b[0m\u001b[1;33m,\u001b[0m \u001b[0mquadratic\u001b[0m\u001b[1;33m=\u001b[0m\u001b[1;36m1\u001b[0m\u001b[1;33m)\u001b[0m\u001b[1;33m\u001b[0m\u001b[0m\n\u001b[0m\u001b[0;32m      4\u001b[0m \u001b[1;32mprint\u001b[0m \u001b[1;34m\"Bépo score: %f\\n Performance: %f\\n Association: %f\\n Familiarity: %f\\n Ergonomics: %f\\n\"\u001b[0m\u001b[1;33m%\u001b[0m\u001b[1;33m(\u001b[0m\u001b[0mobjective\u001b[0m\u001b[1;33m,\u001b[0m \u001b[0mp\u001b[0m\u001b[1;33m,\u001b[0m \u001b[0ma\u001b[0m\u001b[1;33m,\u001b[0m \u001b[0mf\u001b[0m\u001b[1;33m,\u001b[0m \u001b[0me\u001b[0m\u001b[1;33m)\u001b[0m\u001b[1;33m\u001b[0m\u001b[0m\n",
      "\u001b[1;32mD:\\Anna\\python\\optimizing-the-french-keyboard\\objectives.pyc\u001b[0m in \u001b[0;36mget_objectives\u001b[1;34m(mapping, w_p, w_a, w_f, w_e, level_cost, quadratic)\u001b[0m\n\u001b[0;32m     28\u001b[0m                                \u001b[0msimilarity_c_c\u001b[0m\u001b[1;33m,\u001b[0m \u001b[0msimilarity_c_l\u001b[0m\u001b[1;33m,\u001b[0m\u001b[0;31m\\\u001b[0m\u001b[1;33m\u001b[0m\u001b[0m\n\u001b[0;32m     29\u001b[0m                                \u001b[0mdistance_level_0\u001b[0m\u001b[1;33m,\u001b[0m \u001b[0mdistance_level_1\u001b[0m\u001b[1;33m,\u001b[0m\u001b[0;31m\\\u001b[0m\u001b[1;33m\u001b[0m\u001b[0m\n\u001b[1;32m---> 30\u001b[1;33m                                ergonomics, quadratic=quadratic)\n\u001b[0m\u001b[0;32m     31\u001b[0m \u001b[1;33m\u001b[0m\u001b[0m\n\u001b[0;32m     32\u001b[0m def _get_objectives(mapping, w_p, w_a, w_f, w_e,\\\n",
      "\u001b[1;32mD:\\Anna\\python\\optimizing-the-french-keyboard\\objectives.pyc\u001b[0m in \u001b[0;36m_get_objectives\u001b[1;34m(mapping, w_p, w_a, w_f, w_e, azerty, characters, keyslots, letters, p_single, p_bigram, performance, similarity_c_c, similarity_c_l, distance_level_0, distance_level_1, ergonomics, quadratic)\u001b[0m\n\u001b[0;32m     67\u001b[0m     \u001b[0mE\u001b[0m\u001b[1;33m=\u001b[0m\u001b[1;36m0\u001b[0m\u001b[1;33m\u001b[0m\u001b[0m\n\u001b[0;32m     68\u001b[0m     \u001b[1;32mfor\u001b[0m \u001b[0mc\u001b[0m\u001b[1;33m,\u001b[0m \u001b[0ms\u001b[0m \u001b[1;32min\u001b[0m \u001b[0mmapping\u001b[0m\u001b[1;33m.\u001b[0m\u001b[0miteritems\u001b[0m\u001b[1;33m(\u001b[0m\u001b[1;33m)\u001b[0m\u001b[1;33m:\u001b[0m\u001b[1;33m\u001b[0m\u001b[0m\n\u001b[1;32m---> 69\u001b[1;33m         \u001b[0mP\u001b[0m\u001b[1;33m+=\u001b[0m\u001b[0mx_P\u001b[0m\u001b[1;33m[\u001b[0m\u001b[0mc\u001b[0m\u001b[1;33m,\u001b[0m\u001b[0ms\u001b[0m\u001b[1;33m]\u001b[0m\u001b[1;33m\u001b[0m\u001b[0m\n\u001b[0m\u001b[0;32m     70\u001b[0m         \u001b[0mA\u001b[0m\u001b[1;33m+=\u001b[0m\u001b[0mx_A\u001b[0m\u001b[1;33m[\u001b[0m\u001b[0mc\u001b[0m\u001b[1;33m,\u001b[0m\u001b[0ms\u001b[0m\u001b[1;33m]\u001b[0m\u001b[1;33m\u001b[0m\u001b[0m\n\u001b[0;32m     71\u001b[0m         \u001b[0mF\u001b[0m\u001b[1;33m+=\u001b[0m\u001b[0mx_F\u001b[0m\u001b[1;33m[\u001b[0m\u001b[0mc\u001b[0m\u001b[1;33m,\u001b[0m\u001b[0ms\u001b[0m\u001b[1;33m]\u001b[0m\u001b[1;33m\u001b[0m\u001b[0m\n",
      "\u001b[1;31mKeyError\u001b[0m: (u';', u'C05_Shift')"
     ]
    }
   ],
   "source": [
    "path = \"input\\\\layouts\\\\bepo.txt\"\n",
    "mapping = create_map_from_txt(path)\n",
    "objective, p, a, f, e = get_objectives(mapping, w_p, w_a, w_f, w_e, level_cost, quadratic=1)\n",
    "print \"Bépo score: %f\\n Performance: %f\\n Association: %f\\n Familiarity: %f\\n Ergonomics: %f\\n\"%(objective, p, a, f, e)"
   ]
  },
  {
   "cell_type": "markdown",
   "metadata": {},
   "source": [
    "##### Note if you want to evaluate azerty, please use the <code> get_azerty() </code> method to get the corresponding mapping: "
   ]
  },
  {
   "cell_type": "code",
   "execution_count": null,
   "metadata": {
    "collapsed": false,
    "scrolled": true
   },
   "outputs": [],
   "source": [
    "mapping = get_azerty()\n",
    "plot_mapping(mapping, plotname=\"azerty.png\", w_p=w_p, w_a=w_a, w_f=w_f, w_e=w_e, level_cost=level_cost, quadratic=1)      \n"
   ]
  },
  {
   "cell_type": "code",
   "execution_count": 1,
   "metadata": {
    "collapsed": false
   },
   "outputs": [],
   "source": []
  },
  {
   "cell_type": "code",
   "execution_count": null,
   "metadata": {
    "collapsed": false
   },
   "outputs": [],
   "source": []
  },
  {
   "cell_type": "code",
   "execution_count": null,
   "metadata": {
    "collapsed": true
   },
   "outputs": [],
   "source": []
  }
 ],
 "metadata": {
  "kernelspec": {
   "display_name": "Python 2",
   "language": "python",
   "name": "python2"
  },
  "language_info": {
   "codemirror_mode": {
    "name": "ipython",
    "version": 2
   },
   "file_extension": ".py",
   "mimetype": "text/x-python",
   "name": "python",
   "nbconvert_exporter": "python",
   "pygments_lexer": "ipython2",
   "version": "2.7.11"
  }
 },
 "nbformat": 4,
 "nbformat_minor": 0
}
