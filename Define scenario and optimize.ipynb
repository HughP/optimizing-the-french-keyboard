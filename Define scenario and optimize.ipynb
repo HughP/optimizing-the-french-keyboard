{
 "cells": [
  {
   "cell_type": "markdown",
   "metadata": {},
   "source": [
    "### <i>Note: this source code is also available in main.py</i>"
   ]
  },
  {
   "cell_type": "code",
   "execution_count": null,
   "metadata": {
    "collapsed": false
   },
   "outputs": [],
   "source": [
    "# -*- coding: utf-8 -*-\n",
    "from optimize import *\n",
    "from read_input import *\n",
    "from plotting import *\n",
    "%matplotlib inline\n",
    "PYTHONIOENCODING=\"utf-8\""
   ]
  },
  {
   "cell_type": "markdown",
   "metadata": {
    "collapsed": true
   },
   "source": [
    "### Define the scenario and optimize the keyboard\n",
    "Here you can define: \n",
    "- the weights for each objective\n",
    "- the <code>level cost</code> used in familiarity objective\n",
    "\n",
    "In addition, the system will use the following input files from folder <code>input </code>:\n",
    "\n",
    "<code>azerty.csv </code><br>\n",
    "<i> Do not change. </i>Defines the location of each character on the current azerty layout. Used in familiarity score.\n",
    "\n",
    "<code>numbers.csv </code><br>\n",
    "<i> Can be changed. </i>Defines the keys that are reserved for numbers. Change to fix the numbers to other keyslots (e.g. unshifted) or add other fixed characters. Characters added here will be fixed to the given keyslot and not considered in the optimization (also not influence the location of other keys).\n",
    "\n",
    "<code>characters.txt </code><br>\n",
    "<i> Can be changed. </i>A list of characters that should be mapped on the keyboard. Remove or add characters as you like. If you add a character, ensure that its probability and similarity scores are defined.\n",
    "**Do not add characters from the alphabet or space.**\n",
    "\n",
    "<code>variable slots </code><br>\n",
    "A list of all free slots to which the characters can be assigned during optimization. Usually this file does not need to be changed. Any character you want to fix you can add to <code>numbers.csv</code> and will be automatically removed from this list. However, if you want to completely remove a slot from the optimization, you can do it here (e.g. <code>A03_Alt</code> to not allow any assignment to <code>Alt + Space</code>)\n",
    "\n",
    "<code>letters.txt </code><br>\n",
    "<i> Do not change. </i>A list of letters that are fixed on the keyboard according to the azerty layout (<code>azerty.csv </code>). Characters are optimized in relation to these fixed letters. Our collected data (e.g. performance data) does not allow to change this set. If you want to fix a character to a certain key, remove that character from the <code>characters.txt </code> and add it to <code>numbers.csv </code><br>. Then the key won't be considered by the optimization. However, it will also not influence the assignment of other keys\n",
    "\n",
    "<code>distance.xlsx </code><br>\n",
    "<i> Can be changed. </i>Matrix that defines the distance between two keyslots as the sum of row and column distance. An extra level cost (Shift, Alt, Alt+Shift) is taken into account in the familiarity score and can be defined in the scenario. The distance is normalized to [0,1] when reading the distance matrix. \n",
    "\n",
    "<code>similarity_c_c.xlsx</code> and <code>similarity_c_l.xlsx</code><br>\n",
    "<i> Can be changed. </i>Matrix that defines the similarity between two characters or for a character-letter pair. The similarity is given between 0 and 1. This is a symmetric score, and the value should only be filled once!\n",
    "\n",
    "<code>all_slots.txt</code><br>\n",
    "<i> Do not change. </i> Contains all keyboard slots. Only relevant for plotting. "
   ]
  },
  {
   "cell_type": "code",
   "execution_count": null,
   "metadata": {
    "collapsed": true
   },
   "outputs": [],
   "source": [
    "#Define the weights for:\n",
    "#w_p: Performance\n",
    "#w_a: Association\n",
    "#w_f: Familiarity\n",
    "#w_e: Ergonomics\n",
    "w_p, w_a, w_f, w_e = [0.25, 0.25, 0.25, 0.25]\n",
    "\n",
    "#neighborhood_size: the size of the neighborhood in which we give a bonus if similar characters are close together.\n",
    "# No bonus for keyslots outside that neighborhood\n",
    "neighborhood_size = 4\n",
    "\n",
    "#Define the extra cost for the level of the keyslot added when computing the distance between two keyslots. \n",
    "# This is used in familiarity score to punish the assignment to other levels as used on azerty.\n",
    "#Example: \n",
    "#level_cost = {u'':0, u'Shift':1, u'Alt':2, u'Alt_Shift':3}\n",
    "#distance[E_00, E_00_Alt] = 2\n",
    "#distance[E_00_Shift, E_00_Alt] = 1\n",
    "level_cost = {u'':0, u'Shift':1, u'Alt':2, u'Alt_Shift':3}"
   ]
  },
  {
   "cell_type": "markdown",
   "metadata": {},
   "source": [
    "### Optimize it\n",
    "Runs the optimization, plots the global optimum (if it terminates) and saves the global optimum to a file. \n",
    "Also saves intermediate solutions to the <code> mappings </code> folder\n",
    "The <code> quadratic </code> parameter is for debugging purposes. To make the optimization run faster (in a couple of milliseconds), put <code>quadratic=0</code>, then the quadratic terms of the Association cost are left out. "
   ]
  },
  {
   "cell_type": "code",
   "execution_count": null,
   "metadata": {
    "collapsed": false
   },
   "outputs": [],
   "source": [
    "mapping = solve_the_keyboard_Problem(w_p, w_a, w_f, w_e, level_cost, neighborhood_size, quadratic=1)"
   ]
  },
  {
   "cell_type": "markdown",
   "metadata": {},
   "source": [
    "### Compute the objectives of a given mapping\n",
    "Given a mapping (dict from characters to keyslots) we can compute the values for each objective. The mapping can come from a file or an optimization. Use <code>create_map_from_mst</code> if you want to read in an .mst file."
   ]
  },
  {
   "cell_type": "code",
   "execution_count": null,
   "metadata": {
    "collapsed": false
   },
   "outputs": [],
   "source": [
    "mapping = get_azerty()\n",
    "\n",
    "get_objectives(mapping, w_p, w_a, w_f, w_e, level_cost, neighborhood_size,quadratic=1)\n",
    "                               "
   ]
  },
  {
   "cell_type": "code",
   "execution_count": null,
   "metadata": {
    "collapsed": false,
    "scrolled": true
   },
   "outputs": [],
   "source": [
    "path = \"mappings\\\\solution_5.0197.mst\"\n",
    "mapping = create_map_from_mst(path)\n",
    "plot_mapping(mapping, plotname=path+\".png\", w_p=w_p, w_a=w_a, w_f=w_f, w_e=w_e, level_cost=level_cost, neighborhood_size=neighborhood_size,quadratic=1)"
   ]
  },
  {
   "cell_type": "code",
   "execution_count": null,
   "metadata": {
    "collapsed": false
   },
   "outputs": [],
   "source": []
  },
  {
   "cell_type": "code",
   "execution_count": null,
   "metadata": {
    "collapsed": true
   },
   "outputs": [],
   "source": []
  }
 ],
 "metadata": {
  "kernelspec": {
   "display_name": "Python 2",
   "language": "python",
   "name": "python2"
  },
  "language_info": {
   "codemirror_mode": {
    "name": "ipython",
    "version": 2
   },
   "file_extension": ".py",
   "mimetype": "text/x-python",
   "name": "python",
   "nbconvert_exporter": "python",
   "pygments_lexer": "ipython2",
   "version": "2.7.11"
  }
 },
 "nbformat": 4,
 "nbformat_minor": 0
}
