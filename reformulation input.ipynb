{
 "cells": [
  {
   "cell_type": "code",
   "execution_count": 3,
   "metadata": {
    "collapsed": false
   },
   "outputs": [
    {
     "name": "stdout",
     "output_type": "stream",
     "text": [
      "read in: characters, keyslots and letters\n",
      "read in: azerty letters and numbers\n",
      "read in: similarity values\n",
      "read in: distance values\n",
      "Done reading input values.\n"
     ]
    },
    {
     "name": "stderr",
     "output_type": "stream",
     "text": [
      "C:\\Users\\feita1\\Python_Anaconda\\lib\\site-packages\\matplotlib\\__init__.py:872: UserWarning: axes.color_cycle is deprecated and replaced with axes.prop_cycle; please use the latter.\n",
      "  warnings.warn(self.msg_depr % (key, alt_key))\n"
     ]
    }
   ],
   "source": [
    "# -*- coding: utf-8 -*-\n",
    "from optimize import *\n",
    "from test_model import *\n",
    "from plotting import *\n",
    "%matplotlib inline\n",
    "PYTHONIOENCODING=\"utf-8\"\n",
    "\n",
    "level_cost = {u'':0, u'Shift':1, u'Alt':2, u'Alt_Shift':3}\n",
    "\n",
    "azerty,\\\n",
    "characters,\\\n",
    "keyslots,\\\n",
    "letters,\\\n",
    "p_single, p_bigram,\\\n",
    "performance,\\\n",
    "similarity_c_c, similarity_c_l,\\\n",
    "distance_level_0, distance_level_1,\\\n",
    "ergonomics\\\n",
    " = create_test_model(level_cost)\n",
    " "
   ]
  },
  {
   "cell_type": "code",
   "execution_count": 4,
   "metadata": {
    "collapsed": false
   },
   "outputs": [],
   "source": [
    "#Writes an input file for the reformualtion of the quadratic term\n",
    "f = codecs.open(\"reformulation_input.txt\", 'w', encoding=\"utf-8\")\n",
    "f.write(\"# number of letters and keys\\n\")\n",
    "f.write(str(len(keyslots))+\"\\n\")\n",
    "f.write(\"# probabilities (not normalized)\\n\")\n",
    "for c1 in characters:\n",
    "    prob_strings = []\n",
    "    for c2 in characters:\n",
    "        if(c1,c2) in p_bigram.keys():\n",
    "            prob_strings.append(\"%f\"%p_bigram[(c1,c2)])\n",
    "        else:\n",
    "            prob_strings.append(\"0\")\n",
    "    #add dummy values to fill it up tp number of keyslots\n",
    "    for i in range(len(keyslots) - len(characters)):\n",
    "        prob_strings.append(\"0\")\n",
    "    f.write(\" \".join(prob_strings) + \"\\n\")\n",
    "\n",
    "#add dummy values to fill it up tp number of keyslots\n",
    "for i in range(len(keyslots) - len(characters)):\n",
    "    prob_strings = []\n",
    "    for c2 in characters:\n",
    "        prob_strings.append(\"0\")\n",
    "    #add dummy values to fill it up tp number of keyslots\n",
    "    for i in range(len(keyslots) - len(characters)):\n",
    "        prob_strings.append(\"0\")\n",
    "    f.write(\" \".join(prob_strings) + \"\\n\")\n",
    "\n",
    "f.write(\"# distances\\n\")\n",
    "for s1 in keyslots:\n",
    "    prob_strings = []\n",
    "    for s2 in keyslots:\n",
    "        prob_strings.append(\"%f\"%distance_level_0[(s1,s2)])        \n",
    "    f.write(\" \".join(prob_strings) + \"\\n\")\n",
    "\n",
    "f.write(\"# similarities\\n\")\n",
    "for c1 in characters:\n",
    "    prob_strings = []\n",
    "    for c2 in characters:\n",
    "        if(c1,c2) in similarity_c_c.keys():\n",
    "            prob_strings.append(\"%f\"%similarity_c_c[(c1,c2)])\n",
    "        elif (c2, c1) in similarity_c_c.keys():\n",
    "            prob_strings.append(\"%f\"%similarity_c_c[(c2,c1)])\n",
    "        else:\n",
    "            prob_strings.append(\"0\")\n",
    "    #add dummy values to fill it up tp number of keyslots\n",
    "    for i in range(len(keyslots) - len(characters)):\n",
    "        prob_strings.append(\"0\")\n",
    "    f.write(\" \".join(prob_strings) + \"\\n\")\n",
    "\n",
    "#add dummy values to fill it up tp number of keyslots\n",
    "for i in range(len(keyslots) - len(characters)):\n",
    "    prob_strings = []\n",
    "    for c2 in characters:\n",
    "        prob_strings.append(\"0\")\n",
    "    #add dummy values to fill it up tp number of keyslots\n",
    "    for i in range(len(keyslots) - len(characters)):\n",
    "        prob_strings.append(\"0\")\n",
    "    f.write(\" \".join(prob_strings) + \"\\n\")\n",
    "f.write(\"# fixation of the spacebar to the bottom\\n\")\n",
    "f.write(\"0\\n\")\n",
    "f.write(\"# scale for rounding down the probabilities\\n\")\n",
    "f.write(\"1e6\")\n",
    "\n",
    "\n",
    "f.close()\n"
   ]
  },
  {
   "cell_type": "code",
   "execution_count": 2,
   "metadata": {
    "collapsed": false
   },
   "outputs": [
    {
     "ename": "NameError",
     "evalue": "name 'similarity_c_c' is not defined",
     "output_type": "error",
     "traceback": [
      "\u001b[1;31m---------------------------------------------------------------------------\u001b[0m",
      "\u001b[1;31mNameError\u001b[0m                                 Traceback (most recent call last)",
      "\u001b[1;32m<ipython-input-2-e116714aad2f>\u001b[0m in \u001b[0;36m<module>\u001b[1;34m()\u001b[0m\n\u001b[1;32m----> 1\u001b[1;33m \u001b[0msimilarity_c_c\u001b[0m\u001b[1;33m\u001b[0m\u001b[0m\n\u001b[0m",
      "\u001b[1;31mNameError\u001b[0m: name 'similarity_c_c' is not defined"
     ]
    }
   ],
   "source": [
    "similarity_c_c\n"
   ]
  },
  {
   "cell_type": "code",
   "execution_count": 19,
   "metadata": {
    "collapsed": false
   },
   "outputs": [
    {
     "data": {
      "text/plain": [
       "16900"
      ]
     },
     "execution_count": 19,
     "metadata": {},
     "output_type": "execute_result"
    }
   ],
   "source": [
    "len(keyslots)*len(keyslots)"
   ]
  },
  {
   "cell_type": "code",
   "execution_count": 20,
   "metadata": {
    "collapsed": false
   },
   "outputs": [
    {
     "data": {
      "text/plain": [
       "72"
      ]
     },
     "execution_count": 20,
     "metadata": {},
     "output_type": "execute_result"
    }
   ],
   "source": [
    "len(characters)"
   ]
  },
  {
   "cell_type": "code",
   "execution_count": 21,
   "metadata": {
    "collapsed": false
   },
   "outputs": [
    {
     "data": {
      "text/plain": [
       "5184"
      ]
     },
     "execution_count": 21,
     "metadata": {},
     "output_type": "execute_result"
    }
   ],
   "source": [
    "72*72"
   ]
  },
  {
   "cell_type": "code",
   "execution_count": null,
   "metadata": {
    "collapsed": true
   },
   "outputs": [],
   "source": []
  }
 ],
 "metadata": {
  "kernelspec": {
   "display_name": "Python 2",
   "language": "python",
   "name": "python2"
  },
  "language_info": {
   "codemirror_mode": {
    "name": "ipython",
    "version": 2
   },
   "file_extension": ".py",
   "mimetype": "text/x-python",
   "name": "python",
   "nbconvert_exporter": "python",
   "pygments_lexer": "ipython2",
   "version": "2.7.11"
  }
 },
 "nbformat": 4,
 "nbformat_minor": 0
}
