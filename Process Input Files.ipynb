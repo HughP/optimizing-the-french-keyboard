{
 "cells": [
  {
   "cell_type": "markdown",
   "metadata": {},
   "source": [
    "# Frequency input\n",
    "Put together the letter and bigram frequency files based on the data that comes from Mathieu. Distributes the frequency of combined characters that are not in the to-be-mapped character set of the scenario and filters out characters that are irrelevant."
   ]
  },
  {
   "cell_type": "code",
   "execution_count": null,
   "metadata": {
    "collapsed": false
   },
   "outputs": [
    {
     "name": "stdout",
     "output_type": "stream",
     "text": [
      "No frequency for θ2\n",
      "5000 of 304793\n",
      "10000 of 304793"
     ]
    }
   ],
   "source": [
    "from read_input import *\n",
    "import codecs\n",
    "\n",
    "letter_file = \"input/resources/frequency_letters_mathieu.txt\"\n",
    "bigram_file = \"input/resources/frequency_bigrams_mathieu.txt\"\n",
    "letters = get_letters()\n",
    "\n",
    "scenario=\"scenario1\"\n",
    "derive_probabilities_from_raw_values(letter_file, bigram_file, scenario)\n",
    "\n",
    "scenario=\"scenario2\"\n",
    "derive_probabilities_from_raw_values(letter_file, bigram_file, scenario)\n",
    "\n",
    "scenario=\"scenario3\"\n",
    "derive_probabilities_from_raw_values(letter_file, bigram_file, scenario)"
   ]
  },
  {
   "cell_type": "code",
   "execution_count": null,
   "metadata": {
    "collapsed": false
   },
   "outputs": [],
   "source": []
  },
  {
   "cell_type": "code",
   "execution_count": null,
   "metadata": {
    "collapsed": true
   },
   "outputs": [],
   "source": []
  }
 ],
 "metadata": {
  "kernelspec": {
   "display_name": "Python 2",
   "language": "python",
   "name": "python2"
  },
  "language_info": {
   "codemirror_mode": {
    "name": "ipython",
    "version": 2
   },
   "file_extension": ".py",
   "mimetype": "text/x-python",
   "name": "python",
   "nbconvert_exporter": "python",
   "pygments_lexer": "ipython2",
   "version": "2.7.11"
  }
 },
 "nbformat": 4,
 "nbformat_minor": 0
}
